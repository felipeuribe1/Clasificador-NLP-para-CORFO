{
 "cells": [
  {
   "cell_type": "markdown",
   "metadata": {},
   "source": [
    "# Entrenamiento de Prototipo de clasificación de reclamos CMF\n",
    "\n",
    "##### Prototipo para postulación a etapa 1 de \"Reto de Innovación de Interés Público SupTech para la Supervisión de Conducta en Mercados Financieros\"\n",
    "\n",
    "El siguiente documento contiene el proceso de entrenamiento del modelo propuesto para resolver la clasificación binaria de reclamos de valores y seguros. El modelo se entrena con los 1000 reclamos con etiqueta.\n",
    "\n",
    "\n",
    "Autores:\n",
    "* Bastian Ermann Rodríguez <<bastian@ermannb.com>>\n",
    "* Pablo Uribe Pizarro <<pablo.uribe@student.ecp.fr>>\n",
    "* Felipe Uribe Pizarro <<felipe.uribe.pizarro@gmail.com>>\n",
    "\n",
    "08/02/2021"
   ]
  },
  {
   "cell_type": "code",
   "execution_count": null,
   "metadata": {},
   "outputs": [],
   "source": [
    "# Instalación de packages\n",
    "\n",
    "pip install -r requirements.txt"
   ]
  },
  {
   "cell_type": "markdown",
   "metadata": {},
   "source": [
    "## Importación de datos\n",
    "\n",
    "En primera instancia, se carga archivo excel de 1000 reclamos con clasificación, en formato pandas."
   ]
  },
  {
   "cell_type": "code",
   "execution_count": 1,
   "metadata": {
    "scrolled": true
   },
   "outputs": [
    {
     "name": "stdout",
     "output_type": "stream",
     "text": [
      "RECIBI UN CORREO ELECTRONICO DONDE SE ME INDICA QUE  ZURICH SANTANDER SEGUROS HA DECIDIDO NO RENOVAR LA PÓLIZA Nº XX - SÚPER SEGURO ALIVIO SEGURO FAMILIAR POR UN NUEVO PERÍODO, CONFORME AL ARTÍCULO 5 DE LAS CONDICIONES GENERALES DE SU SEGURO (POL 2 99 003). \n",
      "\n",
      "SEGÚN HE REVISADO, LA POL 299 003 CORRESPONDE A UNA POLIZA DE PRESTACIONES MEDICAS, LA CUAL ESTA PROHIBIDA POR RESOLUCION N°541 DE 15/09/2010.\n",
      "\n",
      "ADEMÁS REVISANDO ANTECEDENTES ENTIENDO QUE LA COMPAÑÍA NO PUEDE PONER TERMINO UNILATERAL A DICHO SEGURO A MENOS QUE SE CUMPLA ALGUNA DE LAS CAUSALES COMO “NO PAGO DE LA PRIMA; CAMBIO DE LO QUE SE ASEGURÓ; OMISIÓN O FALSEO DE INFORMACIÓN POR PARTE DEL CLIENTE; PÉRDIDA TOTAL O PARCIAL, DESTRUCCIÓN DE LOS RIESGOS O LO ASEGURADO TRAS FIRMAR EL CONTRATO, AÚN SI EL EVENTO TIENE O NO COBERTURA. CAMBIO EN LA MONEDA DE LA PÓLIZA”.\n",
      "\n"
     ]
    }
   ],
   "source": [
    "import pandas as pd\n",
    "import os\n",
    "cwd = os.getcwd()\n",
    "\n",
    "file =pd.read_excel(cwd+r'/articles-40220_recurso_1/reclamos_20201221_con_clas.xlsx')\n",
    "file.set_index('CASO_ID')\n",
    "\n",
    "\n",
    "# Ejemplo de un reclamo sin procesamiento\n",
    "\n",
    "print(file['DESCRIPCION_CIUDADANO'].iloc[0])\n"
   ]
  },
  {
   "cell_type": "markdown",
   "metadata": {},
   "source": [
    "## Preprocesamiento de datos\n",
    "\n",
    "Tras importar los reclamos, se realiza un preprocesamiento de los mismos previo a ser ingresados al modelo. El objetivo es dejar sólo las palabras más relevantes en el texto a analizar, en un formato estándar. Este paso contempla lo siguiente:\n",
    "\n",
    "1. Remoción de caracteres fuera del abecedario español (puntuación, números, paréntesis, guiones, etc).\n",
    "2. Tokenización, es decir, transformar cada reclamo en una lista de palabras (strings).\n",
    "3. Remoción de \"stopwords\" (palabras comunes en español, que no agregan mayor información para la clasificación).\n",
    "4. Estandarización de palabras, transformando todas las letras a minúsculas.\n",
    "\n",
    "Se imprimen ejemplos de \"stopwords\" a continuación."
   ]
  },
  {
   "cell_type": "code",
   "execution_count": 2,
   "metadata": {},
   "outputs": [
    {
     "name": "stdout",
     "output_type": "stream",
     "text": [
      "['de', 'la', 'que', 'el', 'en', 'y', 'a', 'los', 'del', 'se']\n"
     ]
    },
    {
     "name": "stderr",
     "output_type": "stream",
     "text": [
      "[nltk_data] Downloading package stopwords to\n",
      "[nltk_data]     C:\\Users\\g_ver\\AppData\\Roaming\\nltk_data...\n",
      "[nltk_data]   Package stopwords is already up-to-date!\n"
     ]
    }
   ],
   "source": [
    "import re\n",
    "import nltk\n",
    "from nltk.corpus import stopwords\n",
    "nltk.download('stopwords')\n",
    "print(stopwords.words('spanish')[:10])\n",
    "\n",
    "def preprocess(text):\n",
    "\n",
    "    text = re.sub(r'[^A-Za-zÑñÁáÉéÍíÓóÚú]', ' ', text)\n",
    "    \n",
    "    tokens = text.split()\n",
    "    \n",
    "    stop_words = stopwords.words('spanish')\n",
    "    tokens = [token.lower() for token in tokens]\n",
    "    tokens = [token for token in tokens if (token not in stop_words and len(token) > 1)]\n",
    "    return tokens"
   ]
  },
  {
   "cell_type": "code",
   "execution_count": 3,
   "metadata": {},
   "outputs": [
    {
     "name": "stdout",
     "output_type": "stream",
     "text": [
      "['recibi', 'correo', 'electronico', 'indica', 'zurich', 'santander', 'seguros', 'decidido', 'renovar', 'póliza', 'xx', 'súper', 'seguro', 'alivio', 'seguro', 'familiar', 'nuevo', 'período', 'conforme', 'artículo', 'condiciones', 'generales', 'seguro', 'pol', 'según', 'revisado', 'pol', 'corresponde', 'poliza', 'prestaciones', 'medicas', 'prohibida', 'resolucion', 'además', 'revisando', 'antecedentes', 'entiendo', 'compañía', 'puede', 'poner', 'termino', 'unilateral', 'dicho', 'seguro', 'menos', 'cumpla', 'alguna', 'causales', 'pago', 'prima', 'cambio', 'aseguró', 'omisión', 'falseo', 'información', 'parte', 'cliente', 'pérdida', 'total', 'parcial', 'destrucción', 'riesgos', 'asegurado', 'tras', 'firmar', 'contrato', 'aún', 'si', 'evento', 'cobertura', 'cambio', 'moneda', 'póliza']\n"
     ]
    }
   ],
   "source": [
    "#Se aplica el preprocesamiento a las columnas 'DESCRIPCION_CIUDADANO' y 'PETICION_CIUDADANO'\n",
    "\n",
    "file['DESCRIPCION_CIUDADANO']=file['DESCRIPCION_CIUDADANO'].apply(preprocess)\n",
    "file['PETICION_CIUDADANO']=file['PETICION_CIUDADANO'].apply(preprocess)\n",
    "\n",
    "#Ejemplo de reclamo preprocesado\n",
    "\n",
    "print(file['DESCRIPCION_CIUDADANO'].iloc[0])"
   ]
  },
  {
   "cell_type": "markdown",
   "metadata": {},
   "source": [
    "## Vocabulario de entrenamiento\n",
    "\n",
    "En primer lugar, se obtiene la distribución de palabras en todos los reclamos, también conocido como un Bag-of-Words (bog).\n",
    "\n",
    "A continuación, se filtran las palabras menos comunes (sólo 1 repetición), para reducir la dimensionalidad del modelo y bajar el costo computacional.\n",
    "\n",
    "Finalmente, se deben codificar las palabras a IDs, lo que se conoce como un vocabulario. Estos IDs permiten que las palabras de los reclamos puedan ser ingresadas al modelo. Por lo tanto, el vocabulario es guardado para futuras predicciones. Adicionalmente, las clasificaciones de los reclamos se codifican como \"0\" para 'Reclamo Valores', y \"1\" para 'APIA -Reclamo Seguros '."
   ]
  },
  {
   "cell_type": "code",
   "execution_count": 4,
   "metadata": {},
   "outputs": [],
   "source": [
    "#Se obtiene distribución de palabras (Bag-of-words)\n",
    "\n",
    "from collections import Counter\n",
    "\n",
    "corpus = []\n",
    "for text in file['DESCRIPCION_CIUDADANO']:\n",
    "    corpus += text\n",
    "for text in file['PETICION_CIUDADANO']:\n",
    "    corpus += text\n",
    "bow = Counter(corpus)"
   ]
  },
  {
   "cell_type": "code",
   "execution_count": 5,
   "metadata": {},
   "outputs": [
    {
     "name": "stdout",
     "output_type": "stream",
     "text": [
      "Counter({'seguro': 1434, 'xx': 653, 'seguros': 650, 'fecha': 610, 'respuesta': 610, 'si': 538, 'día': 500, 'banco': 488, 'siniestro': 482, 'compañía': 476, 'pago': 435, 'póliza': 407, 'aseguradora': 380, 'reclamo': 378, 'empresa': 358, 'vehículo': 350, 'solicito': 344, 'año': 343, 'mes': 320, 'parte': 319, 'caso': 308, 'cuenta': 299, 'solo': 290, 'contrato': 285, 'hacer': 275, 'dinero': 272, 'días': 269, 'meses': 269, 'acciones': 264, 'información': 260, 'hace': 257, 'carta': 255, 'mas': 252, 'auto': 252, 'años': 236, 'valor': 235, 'hoy': 220, 'taller': 213, 'mismo': 209, 'ser': 207, 'poliza': 206, 'correo': 205, 'liquidador': 203, 'momento': 202, 'adjunto': 198, 'dos': 198, 'luego': 195, 'pagar': 192, 'forma': 189, 'tiempo': 188, 'crédito': 185, 'svs': 184, 'monto': 182, 'daños': 182, 'presente': 181, 'uf': 180, 'poder': 178, 'problema': 174, 'situación': 171, 'solicitud': 169, 'informe': 166, 'devolución': 162, 'corredora': 161, 'total': 160, 'cobertura': 159, 'fondos': 159, 'cuotas': 159, 'además': 158, 'según': 154, 'nunca': 154, 'ahora': 153, 'plazo': 152, 'embargo': 149, 'persona': 149, 'indica': 148, 'vez': 148, 'hecho': 147, 'favor': 146, 'antecedentes': 144, 'aun': 144, 'octubre': 143, 'después': 143, 'tener': 142, 'ninguna': 141, 'dia': 140, 'asegurado': 138, 'pasado': 138, 'diciembre': 138, 'vehiculo': 138, 'marzo': 138, 'cliente': 136, 'vida': 136, 'ustedes': 136, 'nuevamente': 136, 'ejecutiva': 135, 'documentos': 135, 'debido': 134, 'julio': 134, 'corresponde': 132, 'hice': 132, 'necesito': 132, 'compañia': 132, 'siendo': 131, 'condiciones': 130, 'cuota': 130, 'través': 129, 'contratado': 125, 'dado': 123, 'respecto': 123, 'agosto': 123, 'deducible': 123, 'saber': 121, 'abril': 120, 'enero': 119, 'documentación': 119, 'realizar': 119, 'septiembre': 118, 'dice': 116, 'reparación': 115, 'gracias': 115, 'bci': 115, 'dicho': 113, 'quiero': 113, 'documento': 112, 'gastos': 112, 'debe': 112, 'santander': 111, 'debo': 111, 'prima': 110, 'ademas': 110, 'tarjeta': 109, 'salud': 109, 'dicha': 109, 'solicitar': 108, 'superintendencia': 108, 'trabajo': 108, 'ver': 107, 'haber': 107, 'febrero': 106, 'misma': 106, 'chile': 106, 'falabella': 106, 'menos': 105, 'mayo': 105, 'puedo': 104, 'dicen': 104, 'encuentro': 103, 'anterior': 103, 'noviembre': 102, 'solución': 101, 'liquidación': 101, 'sucursal': 99, 'accidente': 99, 'nuevo': 98, 'estimados': 98, 'tampoco': 98, 'dias': 98, 'dar': 98, 'cuales': 98, 'sido': 98, 'error': 98, 'indican': 97, 'cobro': 97, 'reembolso': 96, 'cargo': 96, 'alguna': 95, 'junio': 95, 'vía': 94, 'servicio': 94, 'correspondiente': 93, 'siguiente': 93, 'entidad': 93, 'cada': 93, 'toda': 93, 'puede': 92, 'aún': 90, 'tenia': 90, 'deuda': 90, 'denuncia': 90, 'llame': 89, 'certificado': 89, 'valores': 89, 'ningún': 89, 'cambio': 88, 'fondo': 86, 'manera': 84, 'falta': 84, 'posible': 83, 'nombre': 82, 'pagado': 82, 'mail': 81, 'así': 80, 'copia': 80, 'pues': 79, 'bien': 79, 'problemas': 79, 'ley': 79, 'metlife': 78, 'uso': 78, 'ejecutivo': 78, 'atención': 78, 'decir': 77, 'producto': 77, 'entrega': 77, 'dijeron': 77, 'tres': 77, 'intereses': 77, 'pagando': 76, 'enviado': 76, 'pesos': 76, 'número': 75, 'solicitado': 75, 'rechazo': 75, 'tema': 75, 'contrate': 74, 'medio': 74, 'existe': 74, 'accionistas': 74, 'credito': 73, 'corriente': 73, 'bajo': 73, 'sistema': 73, 'dentro': 72, 'numero': 72, 'operación': 72, 'llamar': 72, 'constancia': 72, 'compra': 72, 'todas': 72, 'seguir': 71, 'tipo': 71, 'haga': 71, 'casa': 70, 'solicite': 69, 'acuerdo': 69, 'efectivo': 69, 'bolsa': 69, 'sólo': 68, 'motivo': 68, 'web': 68, 'realice': 68, 'clínica': 67, 'proceso': 67, 'muchas': 67, 'recibido': 67, 'veces': 66, 'debía': 66, 'primas': 66, 'realizado': 65, 'ripley': 65, 'vigente': 65, 'inversiones': 65, 'carabineros': 65, 'indicaron': 65, 'cosa': 64, 'horas': 63, 'siempre': 63, 'señala': 63, 'aviso': 63, 'pueden': 62, 'indemnización': 62, 'tal': 62, 'informa': 62, 'electrónico': 62, 'hizo': 62, 'sura': 62, 'datos': 61, 'corredores': 61, 'nadie': 61, 'consorcio': 61, 'informado': 60, 'precio': 60, 'enfermedad': 60, 'hipotecario': 60, 'derecho': 60, 'solicita': 60, 'casi': 60, 'rescate': 60, 'correos': 59, 'da': 59, 'fin': 59, 'clientes': 58, 'teléfono': 57, 'primera': 57, 'semana': 57, 'mal': 57, 'resolución': 57, 'ayuda': 57, 'mediante': 57, 'cesantía': 57, 'informacion': 57, 'aparece': 57, 'llegar': 56, 'formal': 56, 'claramente': 56, 'obtener': 56, 'recibí': 56, 'parece': 56, 'mayor': 55, 'venta': 55, 'entregar': 55, 'liquidadora': 55, 'semanas': 55, 'baja': 54, 'contraté': 54, 'dan': 54, 'ahorro': 54, 'propiedad': 54, 'encuentra': 54, 'médico': 54, 'envié': 53, 'espero': 53, 'isapre': 53, 'adjunta': 53, 'daño': 53, 'sociedad': 53, 'conmigo': 53, 'pague': 53, 'llamado': 52, 'médicos': 52, 'mercado': 52, 'dieron': 52, 'esperando': 52, 'junto': 52, 'empresas': 52, 'ello': 52, 'capital': 52, 'revisar': 52, 'puedan': 52, 'pido': 52, 'solicité': 51, 'cartola': 51, 'recién': 51, 'hábiles': 50, 'posteriormente': 50, 'responder': 50, 'consulta': 50, 'indicando': 49, 'totalidad': 49, 'orden': 49, 'dio': 49, 'plazos': 49, 'mutuo': 49, 'varias': 48, 'afp': 48, 'cubre': 48, 'correspondientes': 48, 'cancelar': 48, 'center': 48, 'página': 48, 'papeles': 48, 'hacia': 48, 'varios': 47, 'segun': 47, 'recibo': 47, 'responsable': 47, 'consumo': 47, 'podía': 47, 'entregado': 47, 'hija': 47, 'informan': 47, 'pérdida': 46, 'apv': 46, 'entonces': 46, 'enviar': 46, 'gestión': 46, 'puesto': 46, 'esperar': 46, 'perdida': 46, 'deben': 46, 'brevedad': 46, 'atte': 45, 'rut': 45, 'automotriz': 45, 'explicación': 45, 'procedimiento': 45, 'presentado': 45, 'primer': 45, 'personas': 45, 'anteriormente': 45, 'artículo': 44, 'posterior': 44, 'devuelvan': 44, 'llamo': 44, 'estan': 44, 'descuento': 44, 'detalle': 44, 'hdi': 44, 'retiro': 44, 'realizo': 44, 'vender': 44, 'contacto': 44, 'presupuesto': 44, 'sino': 44, 'ir': 43, 'llevo': 43, 'rechazado': 43, 'telefónica': 43, 'suma': 43, 'cabe': 43, 'mil': 43, 'chilena': 43, 'informo': 43, 'mensual': 43, 'cualquier': 43, 'call': 43, 'hicieron': 43, 'mutuos': 43, 'relación': 43, 'inversión': 43, 'cancelado': 43, 'paso': 43, 'razón': 42, 'pesar': 42, 'finalmente': 42, 'presentar': 42, 'creo': 42, 'cencosud': 42, 'contratar': 42, 'actual': 42, 'penta': 42, 'montos': 42, 'cobros': 41, 'solicitando': 41, 'entregada': 41, 'uds': 41, 'complementario': 41, 'tratamiento': 41, 'ingreso': 41, 'intervención': 41, 'informar': 41, 'incluso': 41, 'enviaron': 41, 'nueva': 41, 'dejar': 41, 'escrito': 41, 'mala': 41, 'rsa': 41, 'denuncio': 41, 'costo': 41, 'caja': 41, 'despues': 40, 'pagos': 40, 'ocurrido': 40, 'hechos': 40, 'oportunidades': 40, 'verificar': 40, 'igual': 40, 'aproximadamente': 40, 'santiago': 40, 'reclamos': 40, 'aprox': 40, 'legal': 40, 'grave': 40, 'exámenes': 40, 'tomar': 39, 'vista': 39, 'cesantia': 39, 'realicé': 39, 'sernac': 39, 'cia': 39, 'sr': 39, 'indicado': 39, 'saldo': 39, 'cobrar': 39, 'señores': 38, 'asociado': 38, 'periodo': 38, 'cantidad': 38, 'cirugía': 38, 'pedir': 38, 'informó': 38, 'cobrando': 38, 'cobrado': 38, 'padre': 38, 'millones': 38, 'ingresar': 38, 'cumplir': 38, 'enviada': 38, 'petición': 38, 'beneficio': 38, 'plan': 38, 'vigencia': 38, 'serie': 38, 'choque': 38, 'informaron': 37, 'sorpresa': 37, 'renunciar': 37, 'finiquito': 37, 'habia': 37, 'considero': 37, 'respuestas': 37, 'dividendos': 37, 'registro': 37, 'realizó': 37, 'oficina': 37, 'hijo': 37, 'retirar': 37, 'diferencia': 37, 'dividendo': 37, 'compensación': 37, 'firmar': 36, 'presenté': 36, 'menor': 36, 'factura': 36, 'riesgo': 36, 'requerimiento': 36, 'tienda': 36, 'responsabilidad': 36, 'dijo': 36, 'fines': 36, 'firma': 36, 'envió': 36, 'comercial': 36, 'mientras': 36, 'traspaso': 36, 'general': 35, 'acción': 35, 'medico': 35, 'llego': 35, 'siniestros': 35, 'haciendo': 35, 'comprar': 35, 'efectuado': 35, 'encontraba': 35, 'cesante': 35, 'junta': 35, 'cubrir': 35, 'oportunidad': 35, 'marca': 35, 'devuelva': 35, 'impugnación': 35, 'ningun': 34, 'considerando': 34, 'cuanto': 34, 'quiere': 34, 'institución': 34, 'desgravamen': 34, 'término': 34, 'particular': 34, 'accionista': 34, 'contratada': 34, 'generales': 33, 'tome': 33, 'calidad': 33, 'domicilio': 33, 'asi': 33, 'certificada': 33, 'pude': 33, 'dineros': 33, 'banchile': 33, 'algún': 33, 'elecda': 33, 'edad': 33, 'etc': 33, 'invalidez': 33, 'renta': 33, 'exijo': 33, 'reemplazo': 33, 'original': 33, 'entiendo': 32, 'cumpla': 32, 'solucion': 32, 'ayer': 32, 'robo': 32, 'correspondía': 32, 'pueda': 32, 'empleador': 32, 'gran': 32, 'conocimiento': 32, 'demora': 32, 'devolver': 32, 'concepto': 32, 'tramite': 32, 'podido': 32, 'diciendo': 32, 'security': 32, 'cómo': 32, 'directorio': 32, 'arreglo': 32, 'adicional': 32, 'actualmente': 31, 'liquidacion': 31, 'llamé': 31, 'pasar': 31, 'contratos': 31, 'jamás': 31, 'custodia': 31, 'debería': 31, 'final': 31, 'siquiera': 31, 'llevar': 31, 'saludos': 31, 'via': 31, 'responde': 31, 'quedo': 31, 'inmediata': 31, 'unilateral': 30, 'trámite': 30, 'dada': 30, 'cubierto': 30, 'buenas': 30, 'lugar': 30, 'quisiera': 30, 'consultar': 30, 'cuestión': 30, 'quede': 30, 'pólizas': 30, 'resulta': 30, 'solicitaron': 30, 'ambos': 30, 'revisión': 30, 'ocasiones': 30, 'cía': 30, 'operaciones': 30, 'señalado': 30, 'comprobante': 30, 'prestaciones': 29, 'renovación': 29, 'siento': 29, 'hora': 29, 'renuncia': 29, 'cotizaciones': 29, 'inspección': 29, 'hacen': 29, 'dichos': 29, 'firmado': 29, 'darme': 29, 'punto': 29, 'paguen': 29, 'consolidada': 29, 'realizada': 29, 'frente': 29, 'incumplimiento': 29, 'servicios': 29, 'llegó': 29, 'lado': 29, 'efectivamente': 29, 'último': 29, 'madre': 29, 'envío': 29, 'comisión': 29, 'hagan': 29, 'termino': 28, 'encuentran': 28, 'personal': 28, 'articulo': 28, 'tardes': 28, 'primero': 28, 'espera': 28, 'claro': 28, 'tambien': 28, 'mensualmente': 28, 'solicitados': 28, 'va': 28, 'razones': 28, 'directamente': 28, 'entregaron': 28, 'cambiar': 28, 'culpa': 28, 'comunicación': 28, 'dcv': 28, 'ejecutivos': 28, 'email': 28, 'conforme': 27, 'entregue': 27, 'pronta': 27, 'solicitada': 27, 'segundo': 27, 'afectado': 27, 'asociados': 27, 'atrás': 27, 'envio': 27, 'fechas': 27, 'reparar': 27, 'realiza': 27, 'situacion': 27, 'dirijo': 27, 'resultado': 27, 'tercero': 27, 'atentamente': 27, 'van': 27, 'segunda': 27, 'celular': 27, 'cumplido': 27, 'derechos': 27, 'causa': 27, 'responden': 27, 'reclamar': 26, 'plata': 26, 'instancia': 26, 'ahí': 26, 'rechazada': 26, 'gasto': 26, 'corredor': 26, 'recibir': 26, 'consultas': 26, 'indicó': 26, 'quedando': 26, 'envie': 26, 'eléctrica': 26, 'pagina': 26, 'declaración': 26, 'señalar': 26, 'imposible': 26, 'internet': 26, 'ultimo': 26, 'lamentablemente': 26, 'asignado': 26, 'personalmente': 26, 'completo': 26, 'repuestos': 26, 'última': 26, 'pedí': 26, 'cardif': 26, 'pasa': 26, 'efectiva': 25, 'di': 25, 'productos': 25, 'respaldo': 25, 'clara': 25, 'solicitó': 25, 'opa': 25, 'ciudad': 25, 'deseo': 25, 'tomado': 25, 'tope': 25, 'contar': 25, 'liberty': 25, 'prepago': 25, 'oficinas': 25, 'cheque': 25, 'mensuales': 25, 'documentacion': 25, 'departamento': 25, 'cge': 25, 'indico': 25, 'pese': 25, 'efectuar': 25, 'necesario': 25, 'patente': 25, 'previo': 25, 'importante': 25, 'liquidar': 25, 'partir': 25, 'hago': 24, 'sra': 24, 'hospitalización': 24, 'intervenir': 24, 'realmente': 24, 'cumplimiento': 24, 'preexistencia': 24, 'ende': 24, 'presento': 24, 'ahorros': 24, 'motivos': 24, 'magallanes': 24, 'sociedades': 24, 'urgencia': 24, 'financieros': 24, 'llamaron': 24, 'créditos': 24, 'propuesta': 24, 'tratante': 24, 'bastante': 24, 'cierre': 24, 'éste': 24, 'alta': 24, 'poner': 23, 'evento': 23, 'opción': 23, 'respondieron': 23, 'satisfactoria': 23, 'ruego': 23, 'coberturas': 23, 'curso': 23, 'formulario': 23, 'inmediato': 23, 'justo': 23, 'don': 23, 'casos': 23, 'quieren': 23, 'totalmente': 23, 'inmediatamente': 23, 'cobran': 23, 'sale': 23, 'despido': 23, 'administradora': 23, 'recuperar': 23, 'rentabilidad': 23, 'base': 23, 'movimientos': 23, 'aunque': 23, 'entender': 23, 'responda': 23, 'negligencia': 23, 'lunes': 23, 'atendió': 23, 'familia': 23, 'perder': 23, 'legales': 23, 'mismos': 23, 'minoritarios': 23, 'iba': 22, 'siguientes': 22, 'mencionado': 22, 'autorización': 22, 'emitido': 22, 'cosas': 22, 'pac': 22, 'contratación': 22, 'evaluación': 22, 'apelación': 22, 'llamada': 22, 'errores': 22, 'obtenido': 22, 'cobraron': 22, 'unas': 22, 'ayudar': 22, 'figura': 22, 'generado': 22, 'resolver': 22, 'perjuicio': 22, 'decisión': 22, 'boleta': 22, 'corresponden': 22, 'fraude': 22, 'parecer': 22, 'agradeceré': 22, 'tercera': 22, 'reparacion': 22, 'transcurrido': 22, 'jamas': 22, 'ayuden': 22, 'efecto': 22, 'devolucion': 22, 'área': 21, 'abuso': 21, 'enfermedades': 21, 'cartas': 21, 'llamados': 21, 'automático': 21, 'normativa': 21, 'colectivo': 21, 'señalan': 21, 'automóvil': 21, 'identidad': 21, 'reparado': 21, 'den': 21, 'realizaron': 21, 'mantengo': 21, 'vale': 21, 'alto': 21, 'ingresado': 21, 'supuestamente': 21, 'incapacidad': 21, 'sufrí': 21, 'entrego': 21, 'consideración': 21, 'ambas': 21, 'mínimo': 21, 'sanciones': 21, 'envía': 21, 'telefono': 21, 'decidí': 21, 'telefónicamente': 21, 'siguen': 21, 'usted': 21, 'demás': 21, 'perdido': 21, 'bonos': 21, 'mañana': 21, 'bice': 21, 'par': 21, 'ltda': 21, 'llega': 20, 'solicitan': 20, 'mapfre': 20, 'transacciones': 20, 'mar': 20, 'dando': 20, 'menciona': 20, 'existen': 20, 'clausula': 20, 'veo': 20, 'entidades': 20, 'viernes': 20, 'itau': 20, 'preguntar': 20, 'pasos': 20, 'obstante': 20, 'abogado': 20, 'proceder': 20, 'resultados': 20, 'tasa': 20, 'contrario': 20, 'acerque': 20, 'objeto': 20, 'entregados': 20, 'ffmm': 20, 'vial': 20, 'deposito': 20, 'dirección': 20, 'simplemente': 20, 'médica': 20, 'pudo': 20, 'gestionar': 20, 'perjuicios': 20, 'inicial': 19, 'recepción': 19, 'cta': 19, 'linea': 19, 'disponible': 19, 'cuentas': 19, 'señora': 19, 'marido': 19, 'garantía': 19, 'boletas': 19, 'ofrece': 19, 'ocurrió': 19, 'obtuve': 19, 'quise': 19, 'plataforma': 19, 'negativa': 19, 'compre': 19, 'hrs': 19, 'cuento': 19, 'queda': 19, 'laboral': 19, 'unidad': 19, 'inicialmente': 19, 'antofagasta': 19, 'señor': 19, 'llama': 19, 'trata': 19, 'requerida': 19, 'cartolas': 19, 'aumento': 19, 'mejor': 19, 'realizando': 19, 'cancele': 19, 'temporal': 19, 'realizados': 19, 'principio': 19, 'comunicado': 19, 'hacerse': 19, 'costos': 19, 'acerca': 19, 'procedimientos': 19, 'hacerlo': 19, 'conductor': 19, 'posibilidad': 19, 'comercio': 19, 'contratados': 19, 'primeros': 19, 'cl': 19, 'ofrecido': 19, 'andes': 19, 'solucionar': 19, 'piezas': 19, 'pagué': 18, 'convenio': 18, 'único': 18, 'análisis': 18, 'paris': 18, 'argumentando': 18, 'entregan': 18, 'cubra': 18, 'dirigí': 18, 'quedó': 18, 'sacar': 18, 'clinica': 18, 'valer': 18, 'cierto': 18, 'mencionada': 18, 'pendiente': 18, 'trámites': 18, 'reparaciones': 18, 'asunto': 18, 'condes': 18, 'firme': 18, 'interés': 18, 'beneficios': 18, 'archivo': 18, 'conocer': 18, 'vehículos': 18, 'propia': 18, 'buena': 18, 'ofreció': 18, 'anteriores': 18, 'agua': 18, 'arbitraria': 18, 'cerca': 18, 'mismas': 18, 'dejo': 18, 'dichas': 18, 'jefe': 18, 'denunciado': 18, 'últimos': 18, 'inicio': 18, 'inteligente': 18, 'informes': 18, 'superior': 18, 'expuesto': 18, 'quién': 18, 'intermedio': 18, 'obviamente': 18, 'parabrisas': 18, 'podría': 18, 'normal': 18, 'escritura': 18, 'fit': 18, 'exigir': 18, 'prestación': 17, 'mails': 17, 'rechazar': 17, 'diferentes': 17, 'independiente': 17, 'nuevos': 17, 'incendio': 17, 'licencia': 17, 'denunciar': 17, 'económico': 17, 'alguno': 17, 'parachoques': 17, 'pedido': 17, 'ido': 17, 'voy': 17, 'informando': 17, 'control': 17, 'certificados': 17, 'sufrió': 17, 'devuelto': 17, 'partes': 17, 'genera': 17, 'ficha': 17, 'indique': 17, 'originales': 17, 'cambiaron': 17, 'inmueble': 17, 'deje': 17, 'corpbanca': 17, 'atenciones': 17, 'clave': 17, 'tramites': 17, 'traves': 17, 'reiteradas': 17, 'cordiales': 17, 'hipermarc': 17, 'posteriores': 17, 'diario': 17, 'poseo': 17, 'tan': 17, 'consecuencia': 17, 'condición': 17, 'depósito': 17, 'invertir': 17, 'bueno': 17, 'precios': 17, 'cancelación': 17, 'adicionalmente': 17, 'derecha': 17, 'urgente': 17, 'respete': 17, 'viaje': 17, 'oferta': 17, 'familiar': 16, 'completamente': 16, 'llamadas': 16, 'peso': 16, 'fotocopia': 16, 'diagnóstico': 16, 'declarado': 16, 'cmr': 16, 'medicamento': 16, 'favorable': 16, 'señalando': 16, 'establece': 16, 'pagada': 16, 'tomo': 16, 'trasero': 16, 'lleve': 16, 'notario': 16, 'molestias': 16, 'vencimiento': 16, 'sitio': 16, 'central': 16, 'sismo': 16, 'emelari': 16, 'distintas': 16, 'patrimonial': 16, 'transparencia': 16, 'creditos': 16, 'ejemplo': 16, 'antemano': 16, 'entero': 16, 'cuál': 16, 'chocado': 16, 'peor': 16, 'asegurada': 16, 'duda': 16, 'envían': 16, 'ésta': 16, 'juicio': 16, 'volví': 16, 'cláusula': 16, 'hablar': 16, 'repuesto': 16, 'automovil': 16, 'dental': 16, 'carencia': 16, 'saluda': 16, 'asegurados': 16, 'contesta': 16, 'mano': 16, 'aclarar': 16, 'firmada': 16, 'inferior': 16, 'manos': 16, 'solicitudes': 16, 'soap': 16, 'carga': 16, 'obligación': 16, 'ofrecieron': 16, 'multas': 16, 'equipo': 16, 'presentación': 16, 'ambulatoria': 16, 'explique': 16, 'electronico': 15, 'entregó': 15, 'compré': 15, 'pdf': 15, 'vengo': 15, 'hiciera': 15, 'negado': 15, 'rechazó': 15, 'saludar': 15, 'ud': 15, 'ahi': 15, 'indicar': 15, 'debiera': 15, 'iquique': 15, 'diagnostico': 15, 'circular': 15, 'anónimas': 15, 'tomé': 15, 'acceder': 15, 'verdad': 15, 'polar': 15, 'arreglar': 15, 'cumple': 15, 'mayores': 15, 'pidieron': 15, 'presentada': 15, 'prórroga': 15, 'agregar': 15, 'corresponda': 15, 'respaldos': 15, 'médicas': 15, 'respectiva': 15, 'debia': 15, 'pendientes': 15, 'santa': 15, 'nota': 15, 'sigue': 15, 'reembolsos': 15, 'código': 15, 'antecedente': 15, 'bancos': 15, 'dicom': 15, 'paribas': 15, 'cancelada': 15, 'contactarme': 15, 'izquierdo': 15, 'números': 15, 'enviados': 15, 'noticia': 15, 'esencial': 15, 'conformidad': 14, 'scotiabank': 14, 'medicamentos': 14, 'llegado': 14, 'mandato': 14, 'máximo': 14, 'considerar': 14, 'dejaron': 14, 'deudas': 14, 'debió': 14, 'esposo': 14, 'aseguradoras': 14, 'sucedido': 14, 'alternativa': 14, 'gente': 14, 'establecido': 14, 'fe': 14, 'aprobado': 14, 'cruz': 14, 'cambios': 14, 'alrededor': 14, 'arreglos': 14, 'volver': 14, 'cubría': 14, 'cheques': 14, 'momentos': 14, 'mantener': 14, 'comerciales': 14, 'camioneta': 14, 'nro': 14, 'detalles': 14, 'absolutamente': 14, 'ano': 14, 'superintendente': 14, 'situaciones': 14, 'consta': 14, 'respectivo': 14, 'real': 14, 'electricidad': 14, 'grúa': 14, 'atraso': 14, 'cobrados': 14, 'activos': 14, 'ayudarme': 14, 'insistir': 14, 'niega': 14, 'contactado': 14, 'visto': 14, 'pasó': 14, 'entreguen': 14, 'señorita': 14, 'correcta': 14, 'encontré': 14, 'bnp': 14, 'buscar': 14, 'transacción': 14, 'eliminar': 14, 'puerta': 14, 'recurrir': 14, 'bbva': 14, 'pidiendo': 14, 'trabajos': 14, 'policial': 14, 'debí': 14, 'alza': 14, 'gustaría': 14, 'respeten': 14, 'mbi': 14, 'eliqsa': 14, 'completa': 14, 'período': 13, 'pol': 13, 'parcial': 13, 'tras': 13, 'anulación': 13, 'cancelen': 13, 'cumplan': 13, 'incluido': 13, 'buenos': 13, 'exceso': 13, 'presentó': 13, 'única': 13, 'nuevas': 13, 'deberían': 13, 'mencionar': 13, 'envíe': 13, 'ingrese': 13, 'mensaje': 13, 'minutos': 13, 'medica': 13, 'fotos': 13, 'incluye': 13, 'debían': 13, 'actuar': 13, 'comunique': 13, 'dejó': 13, 'financiero': 13, 'telefónico': 13, 'indemnizacion': 13, 'esposa': 13, 'apelar': 13, 'vi': 13, 'pareció': 13, 'transferencia': 13, 'gestion': 13, 'adjuntos': 13, 'trasera': 13, 'rechaza': 13, 'vivienda': 13, 'solamente': 13, 'declaracion': 13, 'préstamo': 13, 'anual': 13, 'euroamerica': 13, 'encargado': 13, 'llaman': 13, 'activo': 13, 'cerrado': 13, 'cumplo': 13, 'acogida': 13, 'invertido': 13, 'choco': 13, 'indiquen': 13, 'notificado': 13, 'listo': 13, 'incluyendo': 13, 'estudio': 13, 'debio': 13, 'requiero': 13, 'presentados': 13, 'pre': 13, 'tiempos': 13, 'unilateralmente': 13, 'indicada': 13, 'archivos': 13, 'notificación': 13, 'permite': 13, 'aceptar': 13, 'depositado': 13, 'cumpliendo': 13, 'paga': 13, 'acta': 13, 'usuario': 13, 'historial': 13, 'perdidas': 13, 'gestiones': 13, 'comisiones': 13, 'formalmente': 13, 'manejo': 13, 'compañías': 13, 'sigo': 13, 'entendido': 13, 'gerente': 13, 'todavía': 13, 'presenta': 13, 'patrimonio': 13, 'tratado': 13, 'comprobantes': 13, 'perjudicado': 13, 'simple': 13, 'modelo': 13, 'operar': 13, 'pasaron': 13, 'económica': 13, 'dejado': 13, 'vuelta': 13, 'especifica': 13, 'sueldo': 13, 'presidente': 13, 'siga': 13, 'revise': 13, 'obesidad': 13, 'verifique': 13, 'alivio': 12, 'mantenía': 12, 'acordado': 12, 'doy': 12, 'terminar': 12, 'necesaria': 12, 'reclamado': 12, 'descontaron': 12, 'respetar': 12, 'opinión': 12, 'cumplieron': 12, 'trabajar': 12, 'habiles': 12, 'cobranza': 12, 'interior': 12, 'comunicarme': 12, 'hogar': 12, 'respondió': 12, 'pregunta': 12, 'titular': 12, 'estimado': 12, 'supuesta': 12, 'cambiado': 12, 'telefonica': 12, 'hospital': 12, 'ofrecen': 12, 'habian': 12, 'seria': 12, 'artículos': 12, 'insisto': 12, 'investigar': 12, 'materia': 12, 'visita': 12, 'club': 12, 'mora': 12, 'financiera': 12, 'haberme': 12, 'cáncer': 12, 'relacionados': 12, 'resumen': 12, 'poca': 12, 'cmpc': 12, 'ingresé': 12, 'dije': 12, 'explico': 12, 'establecidos': 12, 'produjo': 12, 'aplica': 12, 'porcentaje': 12, 'ubicado': 12, 'causados': 12, 'sé': 12, 'informarme': 12, 'seguridad': 12, 'martes': 12, 'adquirí': 12, 'operacion': 12, 'compania': 12, 'instrucciones': 12, 'doble': 12, 'aquí': 12, 'cámara': 12, 'respondido': 12, 'muestra': 12, 'rescatar': 12, 'gastado': 12, 'respeto': 12, 'modo': 12, 'mall': 12, 'malos': 12, 'grupo': 12, 'engaño': 12, 'determinar': 12, 'deja': 12, 'liquidaciones': 12, 'honorarios': 12, 'nacional': 12, 'ultimas': 12, 'significa': 12, 'emitida': 12, 'restitución': 12, 'automática': 12, 'reparen': 12, 'aes': 12, 'blapo': 12, 'fiscalizador': 12, 'zurich': 11, 'cabo': 11, 'cte': 11, 'quería': 11, 'existía': 11, 'explica': 11, 'usa': 11, 'recien': 11, 'país': 11, 'corredoras': 11, 'negó': 11, 'diversas': 11, 'ocurre': 11, 'agradezco': 11, 'segured': 11, 're': 11, 'dudas': 11, 'regularizar': 11, 'suscrito': 11, 'arbitrariamente': 11, 'línea': 11, 'siguieron': 11, 'razon': 11, 'medicos': 11, 'motor': 11, 'rechazan': 11, 'acerco': 11, 'liquidadores': 11, 'dejando': 11, 'automáticamente': 11, 'sii': 11, 'obligatorio': 11, 'mantiene': 11, 'directores': 11, 'ok': 11, 'aportes': 11, 'contestan': 11, 'podían': 11, 'ex': 11, 'sur': 11, 'papel': 11, 'falso': 11, 'viene': 11, 'saldos': 11, 'temas': 11, 'registrado': 11, 'atento': 11, 'saben': 11, 'idea': 11, 'cartera': 11, 'aparecen': 11, 'contactaron': 11, 'centro': 11, 'utilizar': 11, 'comento': 11, 'graves': 11, 'raíz': 11, 'oficio': 11, 'sector': 11, 'compras': 11, 'farmacia': 11, 'fallecimiento': 11, 'pagadas': 11, 'enviando': 11, 'tales': 11, 'individual': 11, 'contestado': 11, 'supone': 11, 'iniciar': 11, 'activar': 11, 'decirme': 11, 'vendieron': 11, 'atencion': 11, 'llamando': 11, 'norma': 11, 'fiscal': 11, 'viendo': 11, 'robaron': 11, 'fuga': 11, 'visual': 11, 'obligaciones': 11, 'protección': 11, 'agente': 11, 'concreta': 11, 'necesitaba': 11, 'presentando': 11, 'requisito': 11, 'costado': 11, 'chocó': 11, 'entere': 11, 'acepte': 11, 'devolverme': 11, 'investigación': 11, 'buen': 11, 'fol': 11, 'cero': 11, 'btg': 11, 'hijos': 11, 'encima': 11, 'ratos': 11, 'iban': 11, 'abusiva': 11, 'tramitación': 11, 'participación': 11, 'pidió': 11, 'sucedió': 11, 'apoyo': 11, 'averiguar': 11, 'respondan': 11, 'evitar': 11, 'responsables': 11, 'necesidades': 11, 'rechazaron': 11, 'muerte': 11, 'respectivos': 11, 'antig': 11, 'denunciados': 11, 'lan': 11, 'limitada': 11, 'reintegro': 11, 'dispuesto': 11, 'bancoestado': 11, 'emel': 11, 'controladora': 11, 'pactado': 11, 'revisado': 10, 'medicas': 10, 'revisando': 10, 'reclame': 10, 'lleva': 10, 'adjuntar': 10, 'consulté': 10, 'descontado': 10, 'carácter': 10, 'cálculo': 10, 'inaceptable': 10, 'requiere': 10, 'robado': 10, 'dueño': 10, 'patología': 10, 'aceptado': 10, 'resuelto': 10, 'previamente': 10, 'circunstancias': 10, 'produce': 10, 'recurro': 10, 'ocasionado': 10, 'coopeuch': 10, 'cargado': 10, 'requisitos': 10, 'delantero': 10, 'reviso': 10, 'visa': 10, 'requeridos': 10, 'puse': 10, 'oportuna': 10, 'alemana': 10, 'pagaba': 10, 'corregir': 10, 'adeudado': 10, 'comprado': 10, 'pudieron': 10, 'alcance': 10, 'indicaba': 10, 'opciones': 10, 'recibida': 10, 'asistir': 10, 'tramitado': 10, 'sucede': 10, 'cuya': 10, 'corrección': 10, 'adicionales': 10, 'imc': 10, 'generar': 10, 'relacionadas': 10, 'ninguno': 10, 'desmedro': 10, 'hará': 10, 'terceros': 10, 'tasación': 10, 'terreno': 10, 'figuran': 10, 'informadas': 10, 'sres': 10, 'lograr': 10, 'enviara': 10, 'retraso': 10, 'procedí': 10, 'trabajando': 10, 'cotización': 10, 'ultima': 10, 'zona': 10, 'resto': 10, 'personales': 10, 'restantes': 10, 'continuar': 10, 'supuesto': 10, 'efectuada': 10, 'asciende': 10, 'llegando': 10, 'horario': 10, 'desempleo': 10, 'abusivo': 10, 'buscando': 10, 'contactar': 10, 'bono': 10, 'fusión': 10, 'alguien': 10, 'piden': 10, 'pide': 10, 'planilla': 10, 'depto': 10, 'destacar': 10, 'portal': 10, 'www': 10, 'publicado': 10, 'futuro': 10, 'señalaron': 10, 'sanción': 10, 'demanda': 10, 'malas': 10, 'eliminación': 10, 'preguntando': 10, 'evaluar': 10, 'realidad': 10, 'origen': 10, 'reembolsar': 10, 'clausulas': 10, 'rotura': 10, 'online': 10, 'foco': 10, 'acto': 10, 'tarde': 10, 'dónde': 10, 'principal': 10, 'señalada': 10, 'causado': 10, 'pintura': 10, 'puerto': 10, 'afectada': 10, 'seguimiento': 10, 'movimiento': 10, 'externo': 10, 'rescates': 10, 'anuales': 10, 'explicaciones': 10, 'maría': 10, 'embarazo': 10, 'correcto': 10, 'tratar': 10, 'movistar': 10, 'concesiones': 10, 'grabaciones': 10, 'capredena': 10, 'vantrust': 10, 'indemnice': 10, 'recibi': 9, 'escribo': 9, 'paquete': 9, 'esfuerzo': 9, 'contaba': 9, 'criterio': 9, 'cumplen': 9, 'representante': 9, 'virtud': 9, 'viña': 9, 'negaron': 9, 'reembolse': 9, 'calama': 9, 'declare': 9, 'aceptación': 9, 'atendido': 9, 'requerimientos': 9, 'asegurar': 9, 'aduciendo': 9, 'logré': 9, 'instituciones': 9, 'generados': 9, 'inconveniente': 9, 'otorgado': 9, 'devengadas': 9, 'cuyo': 9, 'definitiva': 9, 'constantemente': 9, 'obtengo': 9, 'especialista': 9, 'carnet': 9, 'cobren': 9, 'actualizar': 9, 'interceder': 9, 'supervisor': 9, 'falsa': 9, 'cancelando': 9, 'beneficiaria': 9, 'aparte': 9, 'revisen': 9, 'pública': 9, 'tributarios': 9, 'aporte': 9, 'referencia': 9, 'digo': 9, 'pensión': 9, 'salió': 9, 'descripción': 9, 'ordinaria': 9, 'concurrí': 9, 'quedaba': 9, 'mio': 9, 'integral': 9, 'folio': 9, 'hola': 9, 'quedaron': 9, 'estipulado': 9, 'subir': 9, 'permanente': 9, 'actividades': 9, 'ganancias': 9, 'arriendo': 9, 'quedar': 9, 'efectuó': 9, 'impugnar': 9, 'pertinentes': 9, 'párrafo': 9, 'formularios': 9, 've': 9, 'funcionario': 9, 'naturaleza': 9, 'mia': 9, 'considera': 9, 'adjuntan': 9, 'cad': 9, 'falleció': 9, 'encargada': 9, 'comencé': 9, 'civil': 9, 'invertidos': 9, 'clc': 9, 'legalidad': 9, 'mucha': 9, 'jefa': 9, 'características': 9, 'toma': 9, 'letra': 9, 'claridad': 9, 'estipula': 9, 'solucionen': 9, 'querer': 9, 'contacte': 9, 'contesto': 9, 'faltaba': 9, 'larraín': 9, 'imagen': 9, 'medida': 9, 'molestia': 9, 'trate': 9, 'dejé': 9, 'fracción': 9, 'insistencia': 9, 'acerqué': 9, 'plaza': 9, 'dirigirme': 9, 'caro': 9, 'pactual': 9, 'utilidades': 9, 'práctica': 9, 'envian': 9, 'catastrófico': 9, 'cubierta': 9, 'recibe': 9, 'dólares': 9, 'seguido': 9, 'asociada': 9, 'nula': 9, 'color': 9, 'presencial': 9, 'sabe': 9, 'talleres': 9, 'terminado': 9, 'equivalente': 9, 'entiende': 9, 'enviarme': 9, 'telefonicamente': 9, 'indicadas': 9, 'recursos': 9, 'impuestos': 9, 'acceso': 9, 'cuándo': 9, 'sufrido': 9, 'suficiente': 9, 'ganado': 9, 'huella': 9, 'efectuados': 9, 'solicitamos': 9, 'defecto': 9, 'pagan': 9, 'golpe': 9, 'viajes': 9, 'quiebra': 9, 'calculo': 9, 'medidas': 9, 'recibió': 9, 'bajar': 9, 'patologías': 9, 'indicados': 9, 'grabación': 9, 'libro': 9, 'repare': 9, 'parto': 9, 'controlador': 9, 'fiscalización': 9, 'mantenga': 9, 'renovar': 8, 'señalo': 8, 'cobranzas': 8, 'cubria': 8, 'consentimiento': 8, 'bariátrica': 8, 'asociadas': 8, 'accion': 8, 'banmedica': 8, 'queremos': 8, 'contrató': 8, 'fonasa': 8, 'examen': 8, 'renovacion': 8, 'debemos': 8, 'escrita': 8, 'inspector': 8, 'tranquilo': 8, 'registros': 8, 'tarjetas': 8, 'enterado': 8, 'quedé': 8, 'decía': 8, 'cancelo': 8, 'injusto': 8, 'niegan': 8, 'anexo': 8, 'ace': 8, 'norte': 8, 'enviamos': 8, 'adecuada': 8, 'asignó': 8, 'constructora': 8, 'completar': 8, 'condicion': 8, 'similares': 8, 'eventual': 8, 'administración': 8, 'acuerdos': 8, 'direccion': 8, 'probable': 8, 'internos': 8, 'compromiso': 8, 'extraordinaria': 8, 'ingresó': 8, 'polizas': 8, 'similar': 8, 'internacional': 8, 'renunciado': 8, 'público': 8, 'fijo': 8, 'seriedad': 8, 'necesidad': 8, 'carlos': 8, 'títulos': 8, 'promedio': 8, 'spa': 8, 'adjunte': 8, 'reconoce': 8, 'transparente': 8, 'contrata': 8, 'representación': 8, 'detalla': 8, 'necesarios': 8, 'implica': 8, 'ingresaron': 8, 'lados': 8, 'proceda': 8, 'premio': 8, 'asistencia': 8, 'comunicar': 8, 'terremoto': 8, 'pudiera': 8, 'dispuesta': 8, 'endoso': 8, 'llave': 8, 'peritaje': 8, 'ocasión': 8, 'comuna': 8, 'estacionado': 8, 'comenzó': 8, 'asumir': 8, 'consumidor': 8, 'realizadas': 8, 'ítem': 8, 'salir': 8, 'realizaran': 8, 'futuras': 8, 'comunico': 8, 'financieras': 8, 'us': 8, 'emisión': 8, 'ocurrio': 8, 'inmobiliaria': 8, 'culpable': 8, 'pedi': 8, 'estafada': 8, 'depositar': 8, 'afectados': 8, 'explícitamente': 8, 'instruya': 8, 'cama': 8, 'life': 8, 'insiste': 8, 'argumento': 8, 'miércoles': 8, 'tratando': 8, 'informada': 8, 'siniestrado': 8, 'enviaran': 8, 'acudir': 8, 'principios': 8, 'larrain': 8, 'explicacion': 8, 'perdiendo': 8, 'pérdidas': 8, 'exige': 8, 'particulares': 8, 'expresamente': 8, 'deberian': 8, 'biopsia': 8, 'confirmar': 8, 'concepción': 8, 'habla': 8, 'percatarme': 8, 'sabiendo': 8, 'conveniente': 8, 'vox': 8, 'inversion': 8, 'nominales': 8, 'clínico': 8, 'cargos': 8, 'variable': 8, 'llamó': 8, 'resuelva': 8, 'encontrar': 8, 'debidamente': 8, 'quimioterapia': 8, 'interna': 8, 'adquirir': 8, 'transferir': 8, 'multa': 8, 'desconozco': 8, 'pertinente': 8, 'autorizado': 8, 'distintos': 8, 'normalmente': 8, 'delantera': 8, 'consulte': 8, 'hacerme': 8, 'retirado': 8, 'cubrió': 8, 'adelante': 8, 'obteniendo': 8, 'involucrados': 8, 'analizar': 8, 'reconocer': 8, 'atiende': 8, 'exclusión': 8, 'gener': 8, 'indebidamente': 8, 'recibimos': 8, 'consiste': 8, 'posee': 8, 'bis': 8, 'distribución': 8, 'luz': 8, 'iansa': 8, 'presión': 8, 'disculpas': 8, 'cb': 8, 'investigue': 8, 'sistemas': 8, 'sesiones': 8, 'ips': 8, 'peticion': 8, 'sancione': 8, 'oficie': 8, 'moneda': 7, 'devolverían': 7, 'unica': 7, 'descuentan': 7, 'insumos': 7, 'normas': 7, 'absoluto': 7, 'constituye': 7, 'escribí': 7, 'unico': 7, 'necesitamos': 7, 'cedula': 7, 'sera': 7, 'bancaria': 7, 'envia': 7, 'ocurrir': 7, 'ocasionados': 7, 'observaciones': 7, 'sola': 7, 'llevaron': 7, 'positiva': 7, 'devolvieron': 7, 'cooperativa': 7, 'evidencia': 7, 'fallecido': 7, 'indemnizar': 7, 'cobradas': 7, 'intentado': 7, 'interno': 7, 'timbre': 7, 'bancarias': 7, 'comentario': 7, 'vidrio': 7, 'impaga': 7, 'firmé': 7, 'electrónicos': 7, 'ejecutivas': 7, 'recepcionado': 7, 'ministerio': 7, 'lucro': 7, 'institucion': 7, 'citada': 7, 'sirve': 7, 'regular': 7, 'disposiciones': 7, 'ocurridos': 7, 'informados': 7, 'viajar': 7, 'física': 7, 'atender': 7, 'acudo': 7, 'aceptada': 7, 'necesarias': 7, 'citación': 7, 'com': 7, 'exactamente': 7, 'ojala': 7, 'asegura': 7, 'burla': 7, 'controles': 7, 'aludiendo': 7, 'entregaran': 7, 'valido': 7, 'directo': 7, 'dueña': 7, 'fiscalía': 7, 'vacaciones': 7, 'diferente': 7, 'hable': 7, 'incidente': 7, 'danos': 7, 'reiterados': 7, 'ofreciendo': 7, 'positivo': 7, 'cálculos': 7, 'irregular': 7, 'hyundai': 7, 'tomada': 7, 'cubriendo': 7, 'materiales': 7, 'régimen': 7, 'pag': 7, 'pensiones': 7, 'correspondia': 7, 'descontar': 7, 'aproximado': 7, 'cédula': 7, 'pagó': 7, 'tomaron': 7, 'pagare': 7, 'sumado': 7, 'determinado': 7, 'denuncie': 7, 'intenté': 7, 'demuestra': 7, 'circunstancia': 7, 'deber': 7, 'vuelvo': 7, 'restricción': 7, 'pagaron': 7, 'podia': 7, 'prestado': 7, 'expongo': 7, 'ocaciones': 7, 'dé': 7, 'medios': 7, 'jueves': 7, 'automotora': 7, 'chocaron': 7, 'entrar': 7, 'hábil': 7, 'ingresa': 7, 'comienza': 7, 'paño': 7, 'vendedor': 7, 'primeras': 7, 'prácticas': 7, 'entregarme': 7, 'excusa': 7, 'cobrada': 7, 'considerado': 7, 'citado': 7, 'contacté': 7, 'morosidad': 7, 'ohio': 7, 'revocación': 7, 'convenido': 7, 'pareja': 7, 'ofrecerme': 7, 'met': 7, 'oford': 7, 'organismo': 7, 'diarios': 7, 'avisarme': 7, 'conseguir': 7, 'kia': 7, 'estafa': 7, 'mesa': 7, 'razonable': 7, 'atendio': 7, 'cupo': 7, 'atras': 7, 'trato': 7, 'eventuales': 7, 'cerebral': 7, 'derivado': 7, 'ganar': 7, 'cotizar': 7, 'programa': 7, 'afecta': 7, 'busca': 7, 'negocio': 7, 'profesional': 7, 'emitidos': 7, 'múltiples': 7, 'teléfonos': 7, 'tomando': 7, 'reglamento': 7, 'pregunto': 7, 'estafado': 7, 'juzgado': 7, 'técnico': 7, 'llevado': 7, 'causal': 7, 'insisten': 7, 'llevarlo': 7, 'llantas': 7, 'debi': 7, 'conversar': 7, 'largo': 7, 'vence': 7, 'clienta': 7, 'reposición': 7, 'bienes': 7, 'mm': 7, 'demorar': 7, 'propio': 7, 'podemos': 7, 'matriz': 7, 'diaria': 7, 'dificultades': 7, 'objetivo': 7, 'cobra': 7, 'pasando': 7, 'protocolo': 7, 'item': 7, 'beneficiarios': 7, 'proveedor': 7, 'corp': 7, 'lista': 7, 'arbitrario': 7, 'pactadas': 7, 'giro': 7, 'cirujano': 7, 'vuelven': 7, 'queria': 7, 'utilizados': 7, 'digital': 7, 'allí': 7, 'despide': 7, 'portalón': 7, 'antiguedad': 7, 'voluntaria': 7, 'local': 7, 'vigentes': 7, 'debieron': 7, 'deposite': 7, 'super': 7, 'siguió': 7, 'estudios': 7, 'relevante': 7, 'supera': 7, 'considere': 7, 'deberia': 7, 'menores': 7, 'tasas': 7, 'otorgue': 7, 'post': 7, 'compense': 7, 'mujer': 7, 'respetando': 7, 'requerir': 7, 'genero': 7, 'resguardo': 7, 'techpack': 7, 'intención': 7, 'silla': 7, 'inversionistas': 7, 'decidido': 6, 'riesgos': 6, 'contestaron': 6, 'calle': 6, 'comunican': 6, 'mantención': 6, 'automaticamente': 6, 'emitieron': 6, 'reevaluar': 6, 'bonificación': 6, 'diagnosticaron': 6, 'partidas': 6, 'tipos': 6, 'conclusión': 6, 'llegara': 6, 'legalizada': 6, 'atrasado': 6, 'reiteradamente': 6, 'beneficiario': 6, 'acreditar': 6, 'posesión': 6, 'llaves': 6, 'tratamientos': 6, 'examenes': 6, 'manifestar': 6, 'contenido': 6, 'texto': 6, 'piso': 6, 'aparecía': 6, 'incurridos': 6, 'tomarlo': 6, 'extranjero': 6, 'irregularidad': 6, 'recibiendo': 6, 'antigua': 6, 'suscribí': 6, 'srs': 6, 'sabía': 6, 'acudí': 6, 'rechazando': 6, 'copias': 6, 'travez': 6, 'previa': 6, 'pidio': 6, 'alla': 6, 'establecida': 6, 'traspasar': 6, 'impugnacion': 6, 'decidir': 6, 'prácticamente': 6, 'conjunto': 6, 'donaciones': 6, 'provocado': 6, 'límite': 6, 'electoral': 6, 'facultades': 6, 'social': 6, 'describe': 6, 'apelé': 6, 'constatar': 6, 'regularizado': 6, 'golf': 6, 'oliveto': 6, 'manifiesto': 6, 'protegida': 6, 'noticias': 6, 'noche': 6, 'comentarios': 6, 'prestamo': 6, 'pudieran': 6, 'mastercard': 6, 'demorado': 6, 'renuncie': 6, 'saco': 6, 'capaz': 6, 'demasiado': 6, 'declara': 6, 'procedo': 6, 'consultado': 6, 'especial': 6, 'instancias': 6, 'mencionados': 6, 'extraño': 6, 'circulación': 6, 'llegan': 6, 'euros': 6, 'hospitalizado': 6, 'puso': 6, 'fotocopias': 6, 'hecha': 6, 'explicar': 6, 'acredita': 6, 'negativo': 6, 'instante': 6, 'formas': 6, 'reclamada': 6, 'aplicada': 6, 'anticipado': 6, 'acepta': 6, 'eventos': 6, 'usar': 6, 'asimismo': 6, 'correspondencia': 6, 'viento': 6, 'tránsito': 6, 'esperaba': 6, 'alcoholemia': 6, 'posibles': 6, 'formato': 6, 'transporte': 6, 'abuelo': 6, 'porfavor': 6, 'innumerables': 6, 'establecer': 6, 'incurrir': 6, 'requerido': 6, 'visualizar': 6, 'anterioridad': 6, 'avisado': 6, 'negligente': 6, 'fiscalizar': 6, 'franca': 6, 'ruta': 6, 'emitir': 6, 'autorizacion': 6, 'nacimiento': 6, 'puntos': 6, 'vencido': 6, 'requería': 6, 'descontada': 6, 'adquirido': 6, 'comuniqué': 6, 'comprometen': 6, 'traído': 6, 'llanta': 6, 'avalúo': 6, 'dic': 6, 'económicos': 6, 'sábado': 6, 'condicionado': 6, 'valparaiso': 6, 'enteré': 6, 'insistido': 6, 'oportunamente': 6, 'accedí': 6, 'facturación': 6, 'fija': 6, 'definitivamente': 6, 'reposo': 6, 'notifico': 6, 'prorroga': 6, 'respondiendo': 6, 'venció': 6, 'san': 6, 'efectué': 6, 'depósitos': 6, 'sigan': 6, 'evidente': 6, 'cobrarme': 6, 'engañado': 6, 'pantalla': 6, 'intercedan': 6, 'necesitan': 6, 'descrito': 6, 'realizamos': 6, 'enormemente': 6, 'reclamé': 6, 'altura': 6, 'denominado': 6, 'inversionista': 6, 'pensando': 6, 'pertenece': 6, 'igualmente': 6, 'ubicada': 6, 'eliminado': 6, 'presto': 6, 'llevaba': 6, 'minuto': 6, 'perdí': 6, 'cargaron': 6, 'aaa': 6, 'desarrollo': 6, 'iguales': 6, 'tenian': 6, 'reclamando': 6, 'seguradora': 6, 'orientar': 6, 'impacto': 6, 'inundación': 6, 'modificación': 6, 'acontecido': 6, 'argumentos': 6, 'futuros': 6, 'usado': 6, 'volvi': 6, 'existencia': 6, 'engañosa': 6, 'errónea': 6, 'espere': 6, 'restricciones': 6, 'indisa': 6, 'delito': 6, 'oficial': 6, 'decia': 6, 'pensar': 6, 'informé': 6, 'campo': 6, 'alternativas': 6, 'ahorrado': 6, 'dejan': 6, 'placa': 6, 'otorgar': 6, 'permiso': 6, 'finanzas': 6, 'comunicó': 6, 'acepté': 6, 'repactación': 6, 'izquierda': 6, 'encontraban': 6, 'lluvia': 6, 'dolor': 6, 'pronto': 6, 'lv': 6, 'cuprum': 6, 'ajusta': 6, 'active': 6, 'montt': 6, 'reales': 6, 'comprada': 6, 'cumplida': 6, 'cuyos': 6, 'recibieron': 6, 'exigiendo': 6, 'reunión': 6, 'funcionarios': 6, 'anticipación': 6, 'zenit': 6, 'parachoque': 6, 'extender': 6, 'avisan': 6, 'nova': 6, 'querido': 6, 'puertas': 6, 'mamá': 6, 'acepto': 6, 'antiguo': 6, 'declarar': 6, 'desag': 6, 'pasada': 6, 'pabellón': 6, 'mandé': 6, 'pequeños': 6, 'publica': 6, 'comunica': 6, 'auditores': 6, 'demas': 6, 'gastar': 6, 'derivaron': 6, 'técnicos': 6, 'abrir': 6, 'restituya': 6, 'malestar': 6, 'pagarme': 6, 'impagas': 6, 'brasil': 6, 'suspensión': 6, 'pesima': 6, 'acogido': 6, 'mantienen': 6, 'serviu': 6, 'cordialmente': 6, 'pronunciamiento': 6, 'balance': 6, 'terminé': 6, 'red': 6, 'cancelaron': 6, 'cubiertos': 6, 'art': 6, 'probablemente': 6, 'abajo': 6, 'funcionamiento': 6, 'desconocen': 6, 'descuentos': 6, 'compañias': 6, 'podrían': 6, 'faltan': 6, 'retail': 6, 'manteniendo': 6, 'celfin': 6, 'indicarme': 6, 'síndico': 6, 'efectos': 6, 'depositados': 6, 'mecanico': 6, 'compro': 6, 'seis': 6, 'deba': 6, 'aclare': 6, 'operé': 6, 'anteojos': 6, 'aqui': 6, 'colectiva': 6, 'notas': 6, 'radiografías': 6, 'deberé': 6, 'actitud': 6, 'asesoría': 6, 'docto': 6, 'fuente': 6, 'buses': 6, 'contratadas': 6, 'elimine': 6, 'informen': 6, 'súper': 5, 'resolucion': 5, 'causales': 5, 'omisión': 5, 'olvido': 5, 'indicaciones': 5, 'haría': 5, 'avisar': 5, 'segura': 5, 'grande': 5, 'marsh': 5, 'indicandome': 5, 'feliz': 5, 'técnica': 5, 'atienden': 5, 'devolvió': 5, 'dependencias': 5, 'comprobar': 5, 'privilegiada': 5, 'cancelacion': 5, 'cancelaba': 5, 'expresa': 5, 'representada': 5, 'diagnosticado': 5, 'cónyuge': 5, 'electronica': 5, 'facturas': 5, 'agencia': 5, 'asegure': 5, 'incorporación': 5, 'complicaciones': 5, 'automatica': 5, 'tomadas': 5, 'mencionadas': 5, 'page': 5, 'chilenos': 5, 'judicial': 5, 'srta': 5, 'funda': 5, 'intermediario': 5, 'cancelados': 5, 'aquellos': 5, 'detallo': 5, 'cancer': 5, 'comisaría': 5, 'juntas': 5, 'molesto': 5, 'saliendo': 5, 'aprecia': 5, 'conozco': 5, 'soluciones': 5, 'devuelve': 5, 'mandan': 5, 'cabalidad': 5, 'cometido': 5, 'órgano': 5, 'podian': 5, 'aceptan': 5, 'permanencia': 5, 'cumplí': 5, 'terremotos': 5, 'permitió': 5, 'entro': 5, 'rigor': 5, 'sept': 5, 'vuelto': 5, 'pagaran': 5, 'deportes': 5, 'pretende': 5, 'reconozco': 5, 'cursar': 5, 'carabinero': 5, 'creemos': 5, 'quedan': 5, 'tranquila': 5, 'anemia': 5, 'procesos': 5, 'procede': 5, 'adjuntando': 5, 'logre': 5, 'abogados': 5, 'demandar': 5, 'comprometió': 5, 'debajo': 5, 'eh': 5, 'concesionario': 5, 'efectuadas': 5, 'enviadas': 5, 'oficios': 5, 'tomados': 5, 'habitación': 5, 'conservador': 5, 'separado': 5, 'estructura': 5, 'menciono': 5, 'aseguran': 5, 'atenta': 5, 'canceladas': 5, 'as': 5, 'vitalicia': 5, 'cuestion': 5, 'publico': 5, 'deberá': 5, 'disposición': 5, 'fotografías': 5, 'provocados': 5, 'derivados': 5, 'estipulados': 5, 'dijieron': 5, 'ayudaran': 5, 'asesor': 5, 'mecanismo': 5, 'desconoce': 5, 'ineficiencia': 5, 'carece': 5, 'deriva': 5, 'tomó': 5, 'relato': 5, 'autos': 5, 'osorno': 5, 'defunción': 5, 'activa': 5, 'villa': 5, 'inscripción': 5, 'encontrándome': 5, 'envíen': 5, 'corto': 5, 'explicaron': 5, 'nariz': 5, 'opere': 5, 'imagino': 5, 'cubren': 5, 'producidos': 5, 'sismos': 5, 'detectado': 5, 'intervengan': 5, 'firmando': 5, 'función': 5, 'publicada': 5, 'nivel': 5, 'traido': 5, 'comisaria': 5, 'taxi': 5, 'compraron': 5, 'destino': 5, 'traslado': 5, 'indicaban': 5, 'carrocería': 5, 'componentes': 5, 'demoran': 5, 'asegurador': 5, 'desprende': 5, 'tanta': 5, 'prueba': 5, 'realizaba': 5, 'autoridad': 5, 'dió': 5, 'titulo': 5, 'araucana': 5, 'porqué': 5, 'declaro': 5, 'aig': 5, 'blanca': 5, 'quiñenco': 5, 'válido': 5, 'ejercer': 5, 'canje': 5, 'entregando': 5, 'tramitando': 5, 'tiendas': 5, 'comenzar': 5, 'abono': 5, 'aceptaba': 5, 'continúa': 5, 'cerrar': 5, 'recientemente': 5, 'amablemente': 5, 'proporcionada': 5, 'comenzaron': 5, 'anticipadamente': 5, 'asume': 5, 'determinación': 5, 'filtración': 5, 'existente': 5, 'previos': 5, 'pm': 5, 'sacan': 5, 'constantes': 5, 'injustificada': 5, 'caducado': 5, 'importantes': 5, 'contradice': 5, 'cara': 5, 'harán': 5, 'autorizados': 5, 'declarados': 5, 'cambie': 5, 'global': 5, 'señalaba': 5, 'aguas': 5, 'vendido': 5, 'solucionado': 5, 'hablando': 5, 'boletin': 5, 'realizara': 5, 'protegido': 5, 'confirma': 5, 'excesivo': 5, 'senalar': 5, 'operada': 5, 'dávila': 5, 'publicidad': 5, 'inspeccionar': 5, 'aplique': 5, 'codigo': 5, 'ciudadano': 5, 'tremenda': 5, 'presentaba': 5, 'insólito': 5, 'contiene': 5, 'filtraciones': 5, 'joven': 5, 'vendió': 5, 'forwards': 5, 'aquello': 5, 'derco': 5, 'trabaja': 5, 'administrativo': 5, 'previsional': 5, 'ojo': 5, 'exista': 5, 'rodriguez': 5, 'impugne': 5, 'región': 5, 'voluntad': 5, 'pactada': 5, 'anular': 5, 'embarazada': 5, 'mensualidades': 5, 'conversacion': 5, 'contactó': 5, 'devolvería': 5, 'breve': 5, 'posición': 5, 'transcurridos': 5, 'interpretación': 5, 'existido': 5, 'referente': 5, 'definir': 5, 'salida': 5, 'título': 5, 'hipotecarios': 5, 'cancelé': 5, 'paragolpe': 5, 'rueda': 5, 'catastróficos': 5, 'retenidos': 5, 'generó': 5, 'contaban': 5, 'distinta': 5, 'vulnerado': 5, 'contractuales': 5, 'cuentan': 5, 'salvo': 5, 'mejorar': 5, 'suben': 5, 'instrucción': 5, 'locomoción': 5, 'ami': 5, 'tardar': 5, 'llegue': 5, 'pusieron': 5, 'preferencial': 5, 'calcula': 5, 'acuso': 5, 'pagara': 5, 'leer': 5, 'rebaja': 5, 'copiapó': 5, 'deficiente': 5, 'correctamente': 5, 'remedios': 5, 'explicando': 5, 'perjudicando': 5, 'salía': 5, 'complicado': 5, 'tendria': 5, 'reporte': 5, 'conducir': 5, 'sinistro': 5, 'familiares': 5, 'ajustadores': 5, 'firmo': 5, 'acercarme': 5, 'ángeles': 5, 'anulado': 5, 'decidi': 5, 'gratis': 5, 'validar': 5, 'señaló': 5, 'moral': 5, 'salio': 5, 'gomas': 5, 'llevando': 5, 'ocupar': 5, 'by': 5, 'pass': 5, 'vendedora': 5, 'corroborar': 5, 'er': 5, 'herencia': 5, 'ético': 5, 'universidad': 5, 'domingo': 5, 'conversaciones': 5, 'publicados': 5, 'retroactivo': 5, 'asesoria': 5, 'usd': 5, 'fraudulentas': 5, 'http': 5, 'argentina': 5, 'vuelve': 5, 'liquidez': 5, 'audio': 5, 'transferencias': 5, 'respetado': 5, 'diligencia': 5, 'tiroiditis': 5, 'acaba': 5, 'respalda': 5, 'ing': 5, 'método': 5, 'leasing': 5, 'serena': 5, 'buscan': 5, 'minimo': 5, 'volvió': 5, 'mórbida': 5, 'interesa': 5, 'realizarse': 5, 'incumplimientos': 5, 'mediados': 5, 'pésima': 5, 'disponibilidad': 5, 'costa': 5, 'telefonico': 5, 'liquidado': 5, 'trataba': 5, 'arica': 5, 'energía': 5, 'mercurio': 5, 'retirarlo': 5, 'panel': 5, 'hospitalizada': 5, 'faltantes': 5, 'claros': 5, 'suzuki': 5, 'especificado': 5, 'irregularidades': 5, 'reversa': 5, 'reducir': 5, 'gama': 5, 'conviene': 5, 'facultad': 5, 'elegir': 5, 'reajustes': 5, 'mínimos': 5, 'hijas': 5, 'receta': 5, 'tercer': 5, 'significado': 5, 'analice': 5, 'aclaren': 5, 'motocicleta': 5, 'percate': 5, 'mama': 5, 'detallado': 5, 'detallada': 5, 'cuesta': 5, 'gestione': 5, 'doctor': 5, 'correspondan': 5, 'cancela': 5, 'aborto': 5, 'ruedas': 5, 'xdirect': 5, 'emita': 5, 'ingresos': 5, 'restituir': 5, 'desconfianza': 5, 'negocios': 5, 'cambien': 5, 'mantengan': 5, 'sancionar': 5, 'instruir': 5, 'anule': 5, 'indemnizaciones': 5, 'reembolsen': 5, 'colocar': 4, 'inicie': 4, 'vicuña': 4, 'renovado': 4, 'operaron': 4, 'vienen': 4, 'iva': 4, 'depresión': 4, 'económicamente': 4, 'ds': 4, 'cambia': 4, 'am': 4, 'telefonista': 4, 'logro': 4, 'vean': 4, 'negociaciones': 4, 'caracter': 4, 'despidieron': 4, 'visitas': 4, 'computador': 4, 'factible': 4, 'fotografias': 4, 'operado': 4, 'conlleva': 4, 'derivada': 4, 'apelo': 4, 'absoluta': 4, 'disconformidad': 4, 'partida': 4, 'mayoría': 4, 'existían': 4, 'correspondían': 4, 'mclarens': 4, 'pagarse': 4, 'millón': 4, 'extinción': 4, 'contratando': 4, 'observar': 4, 'interpuse': 4, 'consolidad': 4, 'darle': 4, 'liberar': 4, 'mover': 4, 'desvinculada': 4, 'santader': 4, 'banefe': 4, 'legalizado': 4, 'falla': 4, 'webpay': 4, 'funciona': 4, 'poseen': 4, 'mesos': 4, 'tramitar': 4, 'excusas': 4, 'chocada': 4, 'quisieron': 4, 'paciente': 4, 'apareció': 4, 'poseia': 4, 'acompaño': 4, 'habitualmente': 4, 'activación': 4, 'efectúen': 4, 'celebrado': 4, 'relacion': 4, 'puntualmente': 4, 'mente': 4, 'notificando': 4, 'constan': 4, 'desconocía': 4, 'averiguaciones': 4, 'respaldan': 4, 'principalmente': 4, 'perdi': 4, 'móvil': 4, 'dispongo': 4, 'bloqueo': 4, 'arbitraje': 4, 'proteccion': 4, 'diferencias': 4, 'obligar': 4, 'numeros': 4, 'desesperada': 4, 'clonacion': 4, 'ofrecía': 4, 'afectando': 4, 'hacerla': 4, 'discapacidad': 4, 'cumplio': 4, 'pongo': 4, 'crónica': 4, 'inicia': 4, 'acogerme': 4, 'presupuestos': 4, 'salfa': 4, 'omiso': 4, 'anotaciones': 4, 'espejo': 4, 'sufrio': 4, 'involucrado': 4, 'orientación': 4, 'éstos': 4, 'consiguiente': 4, 'abierta': 4, 'equivoco': 4, 'cubrirá': 4, 'encargados': 4, 'asumo': 4, 'construcción': 4, 'curicó': 4, 'construcciones': 4, 'causas': 4, 'libre': 4, 'corpvida': 4, 'modalidad': 4, 'garantiza': 4, 'mínima': 4, 'nov': 4, 'determino': 4, 'parís': 4, 'desconociendo': 4, 'debian': 4, 'desvinculado': 4, 'administrativas': 4, 'terminados': 4, 'desliguen': 4, 'sacando': 4, 'exigen': 4, 'techo': 4, 'nestlé': 4, 'edificio': 4, 'atenderme': 4, 'resulto': 4, 'insolito': 4, 'ayudenme': 4, 'siniestrada': 4, 'llevamos': 4, 'liquide': 4, 'confirmando': 4, 'mediar': 4, 'retire': 4, 'definitivo': 4, 'reconocen': 4, 'absurdo': 4, 'ultimos': 4, 'avance': 4, 'gildemeister': 4, 'alzamiento': 4, 'bancario': 4, 'haciéndose': 4, 'renuncio': 4, 'letras': 4, 'maneras': 4, 'alturas': 4, 'aduce': 4, 'cuestiona': 4, 'inspeccionado': 4, 'extensión': 4, 'obligado': 4, 'desperfecto': 4, 'serio': 4, 'rectificación': 4, 'realizan': 4, 'adjuntada': 4, 'podré': 4, 'castigada': 4, 'gracia': 4, 'vendí': 4, 'grua': 4, 'relevantes': 4, 'viera': 4, 'próximo': 4, 'recomendado': 4, 'relatar': 4, 'parcialmente': 4, 'sufridos': 4, 'identifica': 4, 'filiales': 4, 'incluidos': 4, 'mención': 4, 'traspasado': 4, 'cargó': 4, 'inconsistencias': 4, 'extra': 4, 'previsionales': 4, 'sinietro': 4, 'inspeccion': 4, 'ente': 4, 'florida': 4, 'reembolsaron': 4, 'propietario': 4, 'pida': 4, 'obligue': 4, 'apreciar': 4, 'santabar': 4, 'lleguen': 4, 'signo': 4, 'explicó': 4, 'recuerdo': 4, 'intervenga': 4, 'pagados': 4, 'asaltaron': 4, 'suceso': 4, 'pequeña': 4, 'cerrada': 4, 'valparaíso': 4, 'mande': 4, 'on': 4, 'cesar': 4, 'abierto': 4, 'intermediaria': 4, 'suscribir': 4, 'pedro': 4, 'valdivia': 4, 'máxima': 4, 'ésa': 4, 'fallece': 4, 'natural': 4, 'cuatro': 4, 'garantia': 4, 'vea': 4, 'juez': 4, 'bolsillo': 4, 'rutina': 4, 'virtual': 4, 'hacía': 4, 'problemática': 4, 'propias': 4, 'colisión': 4, 'demostrar': 4, 'intento': 4, 'dudosa': 4, 'salen': 4, 'invertí': 4, 'cantidades': 4, 'fono': 4, 'pais': 4, 'notarial': 4, 'oeste': 4, 'bloquear': 4, 'segui': 4, 'demuestre': 4, 'expliqué': 4, 'pregunté': 4, 'parecía': 4, 'específicamente': 4, 'aneurisma': 4, 'verguenza': 4, 'iniciado': 4, 'estudiar': 4, 'providencia': 4, 'entregadas': 4, 'permitan': 4, 'justa': 4, 'trabajan': 4, 'ofrecer': 4, 'dimos': 4, 'preocupado': 4, 'app': 4, 'pestaña': 4, 'solucionaran': 4, 'coherente': 4, 'devolverán': 4, 'colocaron': 4, 'preferente': 4, 'cobre': 4, 'libertad': 4, 'optar': 4, 'contact': 4, 'registrar': 4, 'ortodoncia': 4, 'directa': 4, 'pasaba': 4, 'auxiliares': 4, 'designación': 4, 'intervalores': 4, 'utilizado': 4, 'reparan': 4, 'itaú': 4, 'sufro': 4, 'rápida': 4, 'imposibilidad': 4, 'grado': 4, 'capacidad': 4, 'sexta': 4, 'dictamen': 4, 'dañadas': 4, 'restante': 4, 'refiere': 4, 'identificado': 4, 'señale': 4, 'recupero': 4, 'coincide': 4, 'diversos': 4, 'cuidado': 4, 'contexto': 4, 'cercana': 4, 'cerraron': 4, 'reciben': 4, 'resultó': 4, 'transcurso': 4, 'importa': 4, 'papeleo': 4, 'claves': 4, 'tumor': 4, 'minima': 4, 'pro': 4, 'sinverg': 4, 'consideran': 4, 'ofreciéndome': 4, 'ingresada': 4, 'ética': 4, 'retener': 4, 'comentaron': 4, 'habria': 4, 'ordenes': 4, 'recomendación': 4, 'alcanza': 4, 'comunicarse': 4, 'prepague': 4, 'volvieron': 4, 'propósito': 4, 'renovará': 4, 'sacaron': 4, 'coinciden': 4, 'pudiendo': 4, 'remuneración': 4, 'aquel': 4, 'caduco': 4, 'atrase': 4, 'radiador': 4, 'limitó': 4, 'consulto': 4, 'adquirida': 4, 'fiscalicen': 4, 'castigo': 4, 'apenas': 4, 'límites': 4, 'existir': 4, 'vendiendo': 4, 'recomendaron': 4, 'repactar': 4, 'hicimos': 4, 'efectúe': 4, 'eliminen': 4, 'reactivar': 4, 'disculpa': 4, 'aparezco': 4, 'conversado': 4, 'saludarlos': 4, 'diez': 4, 'órdenes': 4, 'yugo': 4, 'adjuntas': 4, 'involucrada': 4, 'especialmente': 4, 'bursátiles': 4, 'últimas': 4, 'sabemos': 4, 'quedarse': 4, 'informaciones': 4, 'pelota': 4, 'siguiendo': 4, 'padrón': 4, 'exponer': 4, 'micro': 4, 'prensa': 4, 'endesa': 4, 'impresentable': 4, 'ofrecio': 4, 'gravemente': 4, 'comprender': 4, 'retractarme': 4, 'anuló': 4, 'confiado': 4, 'participamos': 4, 'socios': 4, 'interesados': 4, 'subió': 4, 'link': 4, 'traspasó': 4, 'objetado': 4, 'canceló': 4, 'machard': 4, 'disponibles': 4, 'copago': 4, 'mediación': 4, 'carpeta': 4, 'devuelta': 4, 'arreglado': 4, 'subieron': 4, 'lagunas': 4, 'validez': 4, 'máquina': 4, 'extendida': 4, 'termine': 4, 'voluntariamente': 4, 'dudo': 4, 'actos': 4, 'luces': 4, 'vivir': 4, 'saludarles': 4, 'fué': 4, 'impago': 4, 'sostener': 4, 'maria': 4, 'generando': 4, 'acorde': 4, 'cuantos': 4, 'tapabarro': 4, 'vivo': 4, 'sustento': 4, 'reitero': 4, 'contestar': 4, 'sucesión': 4, 'clínicas': 4, 'términos': 4, 'continuación': 4, 'debieran': 4, 'afiliada': 4, 'abonados': 4, 'compromisos': 4, 'busco': 4, 'raiz': 4, 'agradecería': 4, 'plano': 4, 'contratante': 4, 'minoritario': 4, 'full': 4, 'camara': 4, 'marin': 4, 'formuladas': 4, 'dueños': 4, 'queja': 4, 'agf': 4, 'vueltas': 4, 'sbif': 4, 'euroamérica': 4, 'explicarme': 4, 'mantuvo': 4, 'media': 4, 'erróneamente': 4, 'perdió': 4, 'perjudica': 4, 'victima': 4, 'sustenta': 4, 'especies': 4, 'avaluo': 4, 'efectuo': 4, 'cláusulas': 4, 'boletín': 4, 'ii': 4, 'diabetes': 4, 'estructurales': 4, 'demoró': 4, 'data': 4, 'conversación': 4, 'artrosis': 4, 'porcentajes': 4, 'revisé': 4, 'cobró': 4, 'propios': 4, 'aplicadas': 4, 'grabacion': 4, 'lluvias': 4, 'apelacion': 4, 'acordada': 4, 'esperado': 4, 'tardaron': 4, 'progreso': 4, 'pastilla': 4, 'correr': 4, 'ambulatorio': 4, 'engañada': 4, 'reliquidación': 4, 'emite': 4, 'mok': 4, 'estimada': 4, 'cercano': 4, 'comprometido': 4, 'dolares': 4, 'dolar': 4, 'reajuste': 4, 'gas': 4, 'referido': 4, 'novanet': 4, 'encarecidamente': 4, 'compensacion': 4, 'conyugue': 4, 'aire': 4, 'osea': 4, 'sa': 4, 'electrónica': 4, 'señalé': 4, 'comienzo': 4, 'orientarme': 4, 'corridos': 4, 'terminando': 4, 'mostrador': 4, 'permito': 4, 'pertenecía': 4, 'independientemente': 4, 'eliminaron': 4, 'fonoaudiología': 4, 'negociación': 4, 'doc': 4, 'pone': 4, 'faltando': 4, 'explican': 4, 'pasen': 4, 'rsm': 4, 'chapa': 4, 'confianza': 4, 'incumpliendo': 4, 'canales': 4, 'demoraron': 4, 'provocando': 4, 'unitario': 4, 'experiencia': 4, 'fotográfico': 4, 'ganados': 4, 'indebida': 4, 'saque': 4, 'estacionamiento': 4, 'legalmente': 4, 'bus': 4, 'copelec': 4, 'excedentes': 4, 'cernac': 4, 'severa': 4, 'exigieron': 4, 'cirugia': 4, 'podrán': 4, 'perfectas': 4, 'invermar': 4, 'encuentre': 4, 'figuraba': 4, 'tattersall': 4, 'pin': 4, 'manifestado': 4, 'bariatrica': 4, 'bienestar': 4, 'gestionó': 4, 'llenar': 4, 'inconvenientes': 4, 'obliga': 4, 'pertenecen': 4, 'aplicación': 4, 'sirven': 4, 'supervisora': 4, 'cubrio': 4, 'gaste': 4, 'cese': 4, 'ocasionadas': 4, 'endocrinóloga': 4, 'allá': 4, 'efectuaron': 4, 'colmena': 4, 'cord': 4, 'banca': 4, 'ajustaron': 4, 'devengada': 4, 'obra': 4, 'compensaciones': 4, 'padres': 4, 'hermana': 4, 'corrija': 4, 'cabeza': 4, 'deutsche': 4, 'esenciales': 4, 'abone': 4, 'rehabilite': 4, 'reajustado': 4, 'cuánto': 4, 'atiendan': 4, 'provisorio': 4, 'conosur': 4, 'maxilofacial': 4, 'grandes': 4, 'accidentes': 4, 'héroes': 4, 'arbitrio': 4, 'ee': 4, 'liverpool': 4, 'arriba': 4, 'eeff': 4, 'stadio': 4, 'exigencias': 4, 'cargados': 4, 'reintegre': 4, 'vulnere': 4, 'genere': 4, 'miembros': 4, 'pronunciarse': 4, 'recepcionada': 3, 'formalización': 3, 'mackenna': 3, 'mesón': 3, 'alameda': 3, 'usados': 3, 'incluyen': 3, 'sometí': 3, 'estética': 3, 'ajustadora': 3, 'establecidas': 3, 'testigo': 3, 'capitales': 3, 'chileno': 3, 'telefonicos': 3, 'rescindir': 3, 'preexistente': 3, 'importancia': 3, 'sometido': 3, 'cirugías': 3, 'cubiertas': 3, 'evidencias': 3, 'tiroides': 3, 'declarada': 3, 'intervenciones': 3, 'falsedad': 3, 'dañado': 3, 'inexistente': 3, 'liquido': 3, 'asociación': 3, 'seguidilla': 3, 'escribieron': 3, 'opte': 3, 'rige': 3, 'apoyar': 3, 'continuacion': 3, 'obligacion': 3, 'preguntado': 3, 'tronco': 3, 'suelto': 3, 'éxito': 3, 'solucione': 3, 'reportes': 3, 'turno': 3, 'metropolitano': 3, 'maleta': 3, 'ven': 3, 'profundamente': 3, 'podria': 3, 'ingresaba': 3, 'seguía': 3, 'pagador': 3, 'gestionando': 3, 'renuncié': 3, 'cotizacion': 3, 'rol': 3, 'mando': 3, 'complete': 3, 'explicitamente': 3, 'exigencia': 3, 'vih': 3, 'ajustan': 3, 'equidad': 3, 'prevalecen': 3, 'políticos': 3, 'reservado': 3, 'campaña': 3, 'jurídicas': 3, 'requerirán': 3, 'adoptado': 3, 'avda': 3, 'importe': 3, 'comenta': 3, 'remate': 3, 'sabían': 3, 'aceptare': 3, 'informaba': 3, 'contestó': 3, 'ref': 3, 'creyendo': 3, 'escaneada': 3, 'ocasionar': 3, 'vistas': 3, 'pretexto': 3, 'generada': 3, 'vuelva': 3, 'cubrirían': 3, 'aprobados': 3, 'darán': 3, 'tratan': 3, 'pasaje': 3, 'aclara': 3, 'comence': 3, 'derivan': 3, 'suponia': 3, 'cuanta': 3, 'demore': 3, 'targetas': 3, 'escusas': 3, 'mese': 3, 'exacta': 3, 'curauma': 3, 'ofrecían': 3, 'vino': 3, 'inspectora': 3, 'conseguí': 3, 'depende': 3, 'conseguirme': 3, 'vehicular': 3, 'recepcion': 3, 'renal': 3, 'hipertensión': 3, 'diálisis': 3, 'suscribe': 3, 'rectificar': 3, 'generaron': 3, 'capaces': 3, 'escribe': 3, 'tribunales': 3, 'chevrolet': 3, 'renovada': 3, 'est': 3, 'avisos': 3, 'bonificaciones': 3, 'rechazados': 3, 'corporal': 3, 'decide': 3, 'copec': 3, 'éstas': 3, 'afectan': 3, 'traspasos': 3, 'falsos': 3, 'pagará': 3, 'trading': 3, 'continental': 3, 'asset': 3, 'management': 3, 'caballero': 3, 'pedían': 3, 'renales': 3, 'aspectos': 3, 'dela': 3, 'expediente': 3, 'aportando': 3, 'aumentado': 3, 'variación': 3, 'garantizado': 3, 'reflejado': 3, 'pat': 3, 'abonaron': 3, 'descargar': 3, 'erronea': 3, 'provida': 3, 'aplicacion': 3, 'ejercicio': 3, 'opté': 3, 'ininterrumpidamente': 3, 'faltante': 3, 'enviarlo': 3, 'desbordamiento': 3, 'incluida': 3, 'informándome': 3, 'marubeni': 3, 'abuela': 3, 'congelado': 3, 'antiguos': 3, 'contactarse': 3, 'empezar': 3, 'pocas': 3, 'descontaba': 3, 'descontando': 3, 'impugnando': 3, 'arbitral': 3, 'aceptando': 3, 'maneja': 3, 'linares': 3, 'alternativo': 3, 'sabido': 3, 'demostrado': 3, 'consideraron': 3, 'encontrado': 3, 'aducen': 3, 'oportuno': 3, 'decían': 3, 'fallecida': 3, 'resoluciones': 3, 'verán': 3, 'laborales': 3, 'presentarme': 3, 'quizás': 3, 'promoción': 3, 'ocupo': 3, 'analizada': 3, 'aplican': 3, 'normativas': 3, 'expuestos': 3, 'reportado': 3, 'emergencia': 3, 'perfectamente': 3, 'rectificaciones': 3, 'república': 3, 'fiscales': 3, 'renovó': 3, 'sigla': 3, 'lógico': 3, 'evaluado': 3, 'responderme': 3, 'contando': 3, 'averig': 3, 'mazda': 3, 'terminara': 3, 'comente': 3, 'asignaron': 3, 'voz': 3, 'radio': 3, 'corta': 3, 'conducía': 3, 'llevara': 3, 'avanzar': 3, 'feb': 3, 'equivocados': 3, 'cansado': 3, 'grúas': 3, 'atendía': 3, 'ej': 3, 'cuáles': 3, 'mecánico': 3, 'daba': 3, 'exclusiones': 3, 'señaladas': 3, 'conservar': 3, 'restos': 3, 'noté': 3, 'detrás': 3, 'retroceso': 3, 'medias': 3, 'lomas': 3, 'baída': 3, 'valorizado': 3, 'comprador': 3, 'afirma': 3, 'enterando': 3, 'afirman': 3, 'ocupe': 3, 'abusivas': 3, 'comunicando': 3, 'aplicar': 3, 'evasivas': 3, 'planvital': 3, 'abandono': 3, 'motivado': 3, 'provoco': 3, 'fuerte': 3, 'verbalmente': 3, 'pudiese': 3, 'hablado': 3, 'cobrándome': 3, 'prenda': 3, 'integramedica': 3, 'hospitalizacion': 3, 'renovaron': 3, 'suscripción': 3, 'engorroso': 3, 'apropiado': 3, 'melon': 3, 'patricio': 3, 'choca': 3, 'cobrara': 3, 'sabría': 3, 'desagradable': 3, 'aplicaba': 3, 'sacaran': 3, 'pedía': 3, 'hiba': 3, 'marín': 3, 'orrego': 3, 'depositando': 3, 'diciéndome': 3, 'acredite': 3, 'llegaron': 3, 'line': 3, 'injustificado': 3, 'soliciten': 3, 'disconforme': 3, 'tomaría': 3, 'rechazos': 3, 'cumplió': 3, 'vapores': 3, 'ventas': 3, 'diarias': 3, 'manipulación': 3, 'dirigida': 3, 'fund': 3, 'concesionaria': 3, 'rancagua': 3, 'gatos': 3, 'sesenta': 3, 'planteo': 3, 'plantea': 3, 'pidiéndome': 3, 'mintiendo': 3, 'pagamos': 3, 'atrasada': 3, 'mentiras': 3, 'audiencia': 3, 'cita': 3, 'suscritas': 3, 'conversé': 3, 'vejez': 3, 'agradecida': 3, 'tendre': 3, 'preocupe': 3, 'haria': 3, 'quiera': 3, 'entrada': 3, 'subio': 3, 'amarrado': 3, 'desconocido': 3, 'estrategia': 3, 'caído': 3, 'alegando': 3, 'superiores': 3, 'columna': 3, 'funcionar': 3, 'envi': 3, 'efectúa': 3, 'hemorragia': 3, 'mandar': 3, 'intentaron': 3, 'cascadas': 3, 'asimetría': 3, 'modificada': 3, 'culpan': 3, 'practicas': 3, 'estándares': 3, 'comete': 3, 'sgte': 3, 'adelantado': 3, 'darían': 3, 'originalmente': 3, 'asegurarme': 3, 'índole': 3, 'complicada': 3, 'traté': 3, 'hechas': 3, 'automatico': 3, 'banmédica': 3, 'retiros': 3, 'quirúrgica': 3, 'indicándome': 3, 'precisamente': 3, 'dura': 3, 'estime': 3, 'notaria': 3, 'estatus': 3, 'puedes': 3, 'bch': 3, 'aclaratoria': 3, 'atendiendo': 3, 'provocaron': 3, 'involucradas': 3, 'chica': 3, 'colesterol': 3, 'incluia': 3, 'regalo': 3, 'complicación': 3, 'quiso': 3, 'actualidad': 3, 'cañerías': 3, 'plus': 3, 'decian': 3, 'representado': 3, 'ovalle': 3, 'negada': 3, 'quistes': 3, 'necesita': 3, 'benigno': 3, 'articulos': 3, 'enterándome': 3, 'desorden': 3, 'constante': 3, 'inquietudes': 3, 'espacio': 3, 'deterioro': 3, 'despedido': 3, 'manejar': 3, 'trabajadores': 3, 'usada': 3, 'menoscabo': 3, 'resultaron': 3, 'adquirió': 3, 'quinientos': 3, 'mantuve': 3, 'ocasiono': 3, 'ingeniero': 3, 'aplicara': 3, 'profesor': 3, 'vecino': 3, 'do': 3, 'dignidad': 3, 'comprometieron': 3, 'bebé': 3, 'incidentes': 3, 'finales': 3, 'liza': 3, 'venía': 3, 'descontó': 3, 'cambiarme': 3, 'fijada': 3, 'llamen': 3, 'bases': 3, 'revisa': 3, 'ayudan': 3, 'catastro': 3, 'causando': 3, 'agilizar': 3, 'dominio': 3, 'antojadiza': 3, 'curiosamente': 3, 'difícil': 3, 'percaté': 3, 'representa': 3, 'caducar': 3, 'prudente': 3, 'afecto': 3, 'fgr': 3, 'llamarían': 3, 'baño': 3, 'produciendo': 3, 'designado': 3, 'trizo': 3, 'robada': 3, 'pagaria': 3, 'cubrieron': 3, 'aparecio': 3, 'notificada': 3, 'preocupara': 3, 'falsificación': 3, 'haberse': 3, 'tramitaron': 3, 'actuales': 3, 'entendiendo': 3, 'cargando': 3, 'exención': 3, 'pedirme': 3, 'excede': 3, 'aseguré': 3, 'mandaron': 3, 'coseche': 3, 'extremadamente': 3, 'constituyen': 3, 'decisiones': 3, 'depositen': 3, 'numeral': 3, 'gerencial': 3, 'aumentar': 3, 'insuficiente': 3, 'contamos': 3, 'asistirme': 3, 'morales': 3, 'llevé': 3, 'decidio': 3, 'regreso': 3, 'cuidad': 3, 'entregarlo': 3, 'insoluto': 3, 'metropolitana': 3, 'telefónicas': 3, 'explicita': 3, 'trassa': 3, 'cirugias': 3, 'bonifica': 3, 'define': 3, 'transfieren': 3, 'kilómetro': 3, 'papá': 3, 'mujeres': 3, 'topes': 3, 'economico': 3, 'bla': 3, 'previas': 3, 'otorgué': 3, 'penalización': 3, 'depositada': 3, 'década': 3, 'inferiores': 3, 'respectivas': 3, 'procedió': 3, 'planteado': 3, 'aceptamos': 3, 'siniestralidad': 3, 'difícilmente': 3, 'aceptaron': 3, 'cuantitativo': 3, 'periódicos': 3, 'utilice': 3, 'techumbre': 3, 'run': 3, 'saquen': 3, 'dirigo': 3, 'lider': 3, 'cajero': 3, 'prejuicios': 3, 'maxima': 3, 'educación': 3, 'daría': 3, 'castigado': 3, 'internamente': 3, 'lugares': 3, 'aparecer': 3, 'regularice': 3, 'preocupación': 3, 'desahucio': 3, 'acá': 3, 'poniendo': 3, 'quebró': 3, 'indumotora': 3, 'sube': 3, 'emails': 3, 'duplicidad': 3, 'sensible': 3, 'trabajadora': 3, 'respectivamente': 3, 'resultando': 3, 'trimestre': 3, 'prestamos': 3, 'controladores': 3, 'inconsistencia': 3, 'preguntaron': 3, 'malo': 3, 'region': 3, 'textual': 3, 'pasajes': 3, 'contestación': 3, 'utilizadas': 3, 'cuadro': 3, 'colmo': 3, 'pierdo': 3, 'echo': 3, 'exigido': 3, 'mantencion': 3, 'juan': 3, 'camus': 3, 'pasara': 3, 'prestigio': 3, 'lógicamente': 3, 'cinco': 3, 'preocupa': 3, 'veía': 3, 'soporte': 3, 'terrenos': 3, 'nisiquiera': 3, 'desconocimiento': 3, 'box': 3, 'asumí': 3, 'tomen': 3, 'traspasaron': 3, 'mutual': 3, 'liquida': 3, 'víctima': 3, 'trascurrido': 3, 'conveniencia': 3, 'rechace': 3, 'encontraron': 3, 'elemento': 3, 'niego': 3, 'deseaba': 3, 'trasladarme': 3, 'telefónicos': 3, 'exigió': 3, 'intercesión': 3, 'planos': 3, 'ves': 3, 'aumentaron': 3, 'adecuado': 3, 'quemada': 3, 'corazon': 3, 'estricto': 3, 'girar': 3, 'marcados': 3, 'conteste': 3, 'utilizaron': 3, 'sumas': 3, 'muestran': 3, 'pista': 3, 'reevaluación': 3, 'cobraba': 3, 'eficiente': 3, 'contratiempos': 3, 'municipalidad': 3, 'evaluo': 3, 'perdieron': 3, 'inherentes': 3, 'palabras': 3, 'causo': 3, 'quedara': 3, 'chequeo': 3, 'española': 3, 'pedirle': 3, 'violencia': 3, 'veracidad': 3, 'declaraciones': 3, 'policía': 3, 'duplicado': 3, 'síndrome': 3, 'down': 3, 'confirmaron': 3, 'metodología': 3, 'clínicos': 3, 'impedir': 3, 'compensatorio': 3, 'agradeciendo': 3, 'pack': 3, 'asistencias': 3, 'posibilidades': 3, 'entregué': 3, 'sumamente': 3, 'poderes': 3, 'sucediendo': 3, 'cerro': 3, 'intente': 3, 'proporcional': 3, 'cito': 3, 'adquiridas': 3, 'estimo': 3, 'concurri': 3, 'alarma': 3, 'derivando': 3, 'pertenezco': 3, 'aquella': 3, 'fuertemente': 3, 'afectadas': 3, 'llevan': 3, 'seguí': 3, 'choqué': 3, 'dí': 3, 'referida': 3, 'https': 3, 'xxxx': 3, 'finalizar': 3, 'detalladamente': 3, 'colombia': 3, 'accidental': 3, 'pagarlas': 3, 'ahorrar': 3, 'instrumento': 3, 'tributaria': 3, 'aguda': 3, 'desplazarme': 3, 'potasios': 3, 'revision': 3, 'tecnica': 3, 'dieran': 3, 'incluyan': 3, 'gravamen': 3, 'relacionado': 3, 'usando': 3, 'realize': 3, 'participar': 3, 'negociar': 3, 'incorporé': 3, 'controlada': 3, 'trastorno': 3, 'paralelamente': 3, 'puntual': 3, 'invirtiendo': 3, 'apele': 3, 'contactara': 3, 'extranjera': 3, 'impedimento': 3, 'refinanciamiento': 3, 'agustinas': 3, 'insistí': 3, 'negligentes': 3, 'rodilla': 3, 'apelando': 3, 'particion': 3, 'privada': 3, 'promesa': 3, 'contratarlo': 3, 'lateral': 3, 'usarlo': 3, 'pedimos': 3, 'necesitaban': 3, 'todavia': 3, 'produjeron': 3, 'agradeceria': 3, 'otorgando': 3, 'encontrando': 3, 'avances': 3, 'abonado': 3, 'punta': 3, 'proceden': 3, 'podrá': 3, 'reserva': 3, 'demoras': 3, 'desgraciadamente': 3, 'reembolsado': 3, 'rechazadas': 3, 'equivale': 3, 'concurrir': 3, 'semestre': 3, 'chilexpress': 3, 'afectar': 3, 'terminó': 3, 'aparecido': 3, 'visitó': 3, 'darian': 3, 'arreglarlo': 3, 'contactos': 3, 'suspendido': 3, 'recuperación': 3, 'observación': 3, 'epicrisis': 3, 'sometida': 3, 'continuas': 3, 'solicitaban': 3, 'asegurarlo': 3, 'bastaba': 3, 'reclama': 3, 'abusos': 3, 'recate': 3, 'tantos': 3, 'correctos': 3, 'rebajar': 3, 'reparadas': 3, 'ubicadas': 3, 'notificar': 3, 'fundamentos': 3, 'otorgo': 3, 'asumiendo': 3, 'compradas': 3, 'castro': 3, 'dpto': 3, 'solicitadas': 3, 'aparentemente': 3, 'telecomando': 3, 'permanentemente': 3, 'detención': 3, 'dependiendo': 3, 'hurto': 3, 'terrorismo': 3, 'supo': 3, 'refleja': 3, 'apreciación': 3, 'maniobra': 3, 'deporte': 3, 'devoluciones': 3, 'derivo': 3, 'interese': 3, 'escombros': 3, 'fiscalizadora': 3, 'competencia': 3, 'enzas': 3, 'cerclaje': 3, 'molesta': 3, 'dación': 3, 'demuestran': 3, 'venido': 3, 'realizarlo': 3, 'participe': 3, 'complejo': 3, 'asignan': 3, 'intentos': 3, 'bco': 3, 'obrado': 3, 'obtención': 3, 'vales': 3, 'prometieron': 3, 'especificamente': 3, 'fuí': 3, 'transantiago': 3, 'reiterada': 3, 'inclusive': 3, 'continuos': 3, 'continuadora': 3, 'demuestren': 3, 'agentes': 3, 'funcional': 3, 'abusando': 3, 'limite': 3, 'funciones': 3, 'confiar': 3, 'videla': 3, 'excepción': 3, 'registradas': 3, 'salido': 3, 'vuelvan': 3, 'operario': 3, 'reconoció': 3, 'coordenadas': 3, 'operativa': 3, 'inquietud': 3, 'fiscalice': 3, 'pierden': 3, 'lamento': 3, 'absorción': 3, 'foto': 3, 'evidentemente': 3, 'addendum': 3, 'morbida': 3, 'rodeo': 3, 'hoja': 3, 'retroactiva': 3, 'rapido': 3, 'help': 3, 'insistiendo': 3, 'mapsa': 3, 'subsidio': 3, 'informandome': 3, 'hermano': 3, 'vital': 3, 'motorizado': 3, 'creer': 3, 'atrasos': 3, 'confuturo': 3, 'generen': 3, 'madeco': 3, 'complementa': 3, 'instruyeron': 3, 'otorgada': 3, 'quirúrgico': 3, 'reguladas': 3, 'poseer': 3, 'suponer': 3, 'acelerar': 3, 'antelación': 3, 'ayúdenme': 3, 'incurrí': 3, 'aprobación': 3, 'fútbol': 3, 'respetan': 3, 'presentadas': 3, 'emitió': 3, 'lesiones': 3, 'opero': 3, 'fundamental': 3, 'trabajador': 3, 'mencione': 3, 'orientacion': 3, 'agregando': 3, 'doctora': 3, 'utilidad': 3, 'exclusivamente': 3, 'corriendo': 3, 'usuarios': 3, 'metro': 3, 'clarificar': 3, 'ejecuto': 3, 'ajuste': 3, 'diagnosticada': 3, 'intermediarios': 3, 'asumio': 3, 'temuco': 3, 'índice': 3, 'contundente': 3, 'mantenido': 3, 'ecl': 3, 'securities': 3, 'actividad': 3, 'finiquitos': 3, 'administrando': 3, 'gano': 3, 'computacionales': 3, 'ahorrando': 3, 'empecé': 3, 'linfoma': 3, 'maniobras': 3, 'div': 3, 'tributario': 3, 'adeudados': 3, 'simultáneas': 3, 'repararlo': 3, 'tajantemente': 3, 'pensionado': 3, 'libremente': 3, 'evaluaciones': 3, 'decido': 3, 'sgd': 3, 'aplicable': 3, 'gana': 3, 'compin': 3, 'faltaban': 3, 'coloquen': 3, 'nuevapolar': 3, 'encabezados': 3, 'willis': 3, 'operadora': 3, 'efectivos': 3, 'recaudación': 3, 'avisando': 3, 'valija': 3, 'recepcionados': 3, 'kilos': 3, 'ponen': 3, 'confirmación': 3, 'descontados': 3, 'axion': 3, 'urgencias': 3, 'calcularon': 3, 'neto': 3, 'volatilidad': 3, 'indebido': 3, 'rr': 3, 'estatutos': 3, 'sociales': 3, 'auditor': 3, 'río': 3, 'maipo': 3, 'corresponder': 3, 'envien': 3, 'compensen': 3, 'justicia': 3, 'pudiesen': 3, 'incompetencia': 3, 'liquiden': 3, 'urgentemente': 3, 'estiman': 3, 'habilitar': 3, 'rato': 3, 'revertir': 3, 'beneficia': 3, 'agradece': 3, 'reconozca': 3, 'indemnicen': 3, 'pronuncie': 3, 'rebajen': 3, 'apruebe': 3, 'reintegren': 3, 'indefensión': 3, 'condujeron': 3, 'aparezca': 3, 'aseguró': 2, 'falseo': 2, 'anulando': 2, 'instituión': 2, 'renovara': 2, 'serviestado': 2, 'renovaba': 2, 'comprueba': 2, 'funcionando': 2, 'mandado': 2, 'electronicos': 2, 'largas': 2, 'telefonicas': 2, 'prefactura': 2, 'avale': 2, 'equilibrio': 2, 'depresivo': 2, 'resolviendo': 2, 'presentan': 2, 'parámetros': 2, 'específicos': 2, 'empleados': 2, 'impugnado': 2, 'oecd': 2, 'penas': 2, 'grafico': 2, 'dandome': 2, 'individualizadas': 2, 'sugirieron': 2, 'propusieron': 2, 'salvedad': 2, 'época': 2, 'verificado': 2, 'presentaron': 2, 'agregado': 2, 'perdería': 2, 'especifico': 2, 'eco': 2, 'tiroidea': 2, 'comunes': 2, 'corrientes': 2, 'mencionan': 2, 'empezaron': 2, 'cursará': 2, 'prendas': 2, 'consumidas': 2, 'expresión': 2, 'imposiciones': 2, 'planteadas': 2, 'indemnizado': 2, 'magnitud': 2, 'adjuntaron': 2, 'reclamados': 2, 'consideramos': 2, 'detrimento': 2, 'logramos': 2, 'identificar': 2, 'desafiliación': 2, 'enterarme': 2, 'debida': 2, 'cancelarían': 2, 'documentado': 2, 'atraves': 2, 'hiso': 2, 'legislación': 2, 'suponiendo': 2, 'castigue': 2, 'exigidos': 2, 'esten': 2, 'muerto': 2, 'denegó': 2, 'rededor': 2, 'golpeando': 2, 'herramientas': 2, 'acudi': 2, 'comentan': 2, 'notificacion': 2, 'deriban': 2, 'comprenderan': 2, 'recibio': 2, 'resoluci': 2, 'invertimos': 2, 'kinesiologo': 2, 'quebrado': 2, 'em': 2, 'evaluacion': 2, 'critico': 2, 'adulto': 2, 'perjudicados': 2, 'rehabilitacion': 2, 'movilizacion': 2, 'acarrea': 2, 'rapidamente': 2, 'escriben': 2, 'dps': 2, 'políticas': 2, 'virus': 2, 'preguntaba': 2, 'averiguando': 2, 'determinacion': 2, 'uqe': 2, 'sustancial': 2, 'controladas': 2, 'activó': 2, 'valle': 2, 'telefonos': 2, 'aseguraron': 2, 'firmamos': 2, 'alumno': 2, 'soltería': 2, 'pagaría': 2, 'catastróficas': 2, 'contenidas': 2, 'regula': 2, 'detallar': 2, 'salieron': 2, 'traumatólogo': 2, 'físicos': 2, 'significó': 2, 'urge': 2, 'deteriorando': 2, 'envergadura': 2, 'usan': 2, 'android': 2, 'reflejan': 2, 'logrado': 2, 'próxima': 2, 'conocidos': 2, 'concurro': 2, 'acabo': 2, 'conducia': 2, 'robar': 2, 'dirige': 2, 'quizas': 2, 'retiraba': 2, 'leones': 2, 'irme': 2, 'morosos': 2, 'solicitante': 2, 'fiscalizado': 2, 'bloqueado': 2, 'hacerque': 2, 'nombra': 2, 'sinverguenzas': 2, 'invalides': 2, 'dijera': 2, 'cumplían': 2, 'permanecer': 2, 'aprobada': 2, 'indignada': 2, 'costó': 2, 'conseguirlo': 2, 'inocente': 2, 'dirigirse': 2, 'confirmacion': 2, 'inapropiado': 2, 'anormal': 2, 'anomalia': 2, 'secundaria': 2, 'próstata': 2, 'hemodiálisis': 2, 'tribunal': 2, 'reinvertir': 2, 'manifieste': 2, 'acogerse': 2, 'hertz': 2, 'transfirieron': 2, 'mitad': 2, 'solicte': 2, 'administrativos': 2, 'sep': 2, 'reembolsará': 2, 'masa': 2, 'bonifico': 2, 'rav': 2, 'hicieran': 2, 'competente': 2, 'determina': 2, 'dañaron': 2, 'computacional': 2, 'destruyeron': 2, 'denuncias': 2, 'reitera': 2, 'denunciadas': 2, 'falsificado': 2, 'testigos': 2, 'trabajado': 2, 'falsedades': 2, 'accionarios': 2, 'revisados': 2, 'actúa': 2, 'tenor': 2, 'acaecido': 2, 'preparado': 2, 'cambiara': 2, 'rengo': 2, 'equivocación': 2, 'exprese': 2, 'oficialmente': 2, 'sinceramente': 2, 'componen': 2, 'inscrito': 2, 'metros': 2, 'reparo': 2, 'destruyendo': 2, 'instalaciones': 2, 'contemplaba': 2, 'serian': 2, 'msoto': 2, 'garantizada': 2, 'aparezcan': 2, 'lógica': 2, 'circulando': 2, 'bicevida': 2, 'pension': 2, 'superintedencia': 2, 'determinaron': 2, 'reconociendo': 2, 'suerte': 2, 'deudor': 2, 'contenidos': 2, 'autoridades': 2, 'incluyó': 2, 'combustibles': 2, 'aplicado': 2, 'enviarían': 2, 'negándome': 2, 'fidelidad': 2, 'accedido': 2, 'adjuntamos': 2, 'beckett': 2, 'alude': 2, 'levantaron': 2, 'filtró': 2, 'jurídica': 2, 'enviaría': 2, 'informarle': 2, 'representan': 2, 'linda': 2, 'deficiencia': 2, 'confirman': 2, 'devo': 2, 'ago': 2, 'registra': 2, 'predenuncio': 2, 'recordar': 2, 'intervenida': 2, 'acercarnos': 2, 'comunicamos': 2, 'sacado': 2, 'comunicarnos': 2, 'cruzblanca': 2, 'fuertes': 2, 'dolores': 2, 'evaluada': 2, 'resolvió': 2, 'conflictos': 2, 'administrar': 2, 'irresponsabilidad': 2, 'hepatitis': 2, 'autoinmune': 2, 'incorrecta': 2, 'fundamento': 2, 'reembolsaran': 2, 'desgaste': 2, 'raro': 2, 'robos': 2, 'beneficiar': 2, 'km': 2, 'traslade': 2, 'liberado': 2, 'ciertas': 2, 'premium': 2, 'pagaban': 2, 'indemnizen': 2, 'amigo': 2, 'cuanod': 2, 'quisimos': 2, 'cargan': 2, 'utilizando': 2, 'presentara': 2, 'debiese': 2, 'pabellon': 2, 'quirurgico': 2, 'pedirian': 2, 'enseres': 2, 'activacion': 2, 'avalan': 2, 'incertidumbre': 2, 'factibilidad': 2, 'vulnerados': 2, 'decirle': 2, 'respondera': 2, 'argumentan': 2, 'detener': 2, 'revisada': 2, 'marcha': 2, 'ida': 2, 'fallar': 2, 'tesorería': 2, 'obeteenr': 2, 'migración': 2, 'comenté': 2, 'pp': 2, 'utilizan': 2, 'verificación': 2, 'obtuvimos': 2, 'únicamente': 2, 'manifestaron': 2, 'registraba': 2, 'bernardo': 2, 'estudiantil': 2, 'sabia': 2, 'extraña': 2, 'manchado': 2, 'expedientes': 2, 'masiva': 2, 'capitulo': 2, 'pondrá': 2, 'empleado': 2, 'enfermo': 2, 'porta': 2, 'inspecciono': 2, 'consideró': 2, 'maletero': 2, 'neumático': 2, 'tucson': 2, 'vulneración': 2, 'designo': 2, 'llamaría': 2, 'llegaran': 2, 'ise': 2, 'terminen': 2, 'novedades': 2, 'preguntas': 2, 'recomendó': 2, 'encendió': 2, 'dadas': 2, 'salvar': 2, 'anualmente': 2, 'caducaron': 2, 'oncológico': 2, 'repararan': 2, 'reparó': 2, 'inmobiliario': 2, 'alcanzado': 2, 'tardía': 2, 'faltar': 2, 'afirmación': 2, 'empleo': 2, 'demoro': 2, 'abonar': 2, 'renunciando': 2, 'facilitaron': 2, 'contrataron': 2, 'registraban': 2, 'propietarios': 2, 'recurrido': 2, 'argumentaron': 2, 'cardiaca': 2, 'trabajaba': 2, 'maximo': 2, 'llamamos': 2, 'aciones': 2, 'recientes': 2, 'realicen': 2, 'ambulatorios': 2, 'holter': 2, 'presion': 2, 'informamos': 2, 'respetaron': 2, 'administra': 2, 'advertencia': 2, 'notaría': 2, 'pantallazo': 2, 'bastaría': 2, 'reciente': 2, 'reorganización': 2, 'emisor': 2, 'wp': 2, 'aplicaría': 2, 'respeta': 2, 'pare': 2, 'ceda': 2, 'versiones': 2, 'fácil': 2, 'muestren': 2, 'solicitarlo': 2, 'emocional': 2, 'estudiando': 2, 'contador': 2, 'entregaba': 2, 'cajera': 2, 'diéramos': 2, 'equivocada': 2, 'permitieran': 2, 'national': 2, 'exigida': 2, 'concretada': 2, 'aportado': 2, 'aludidos': 2, 'miente': 2, 'descaradamente': 2, 'emergencias': 2, 'acercara': 2, 'retirando': 2, 'fehca': 2, 'artritis': 2, 'llevó': 2, 'cortas': 2, 'miles': 2, 'correctas': 2, 'pd': 2, 'presentamos': 2, 'degravamen': 2, 'corregido': 2, 'perjudicándome': 2, 'depositara': 2, 'limita': 2, 'injusticia': 2, 'propuestas': 2, 'iniciada': 2, 'favorables': 2, 'márgenes': 2, 'tardó': 2, 'sesgado': 2, 'colisionó': 2, 'maquinaria': 2, 'urbano': 2, 'suelo': 2, 'bajos': 2, 'credibilidad': 2, 'cruzados': 2, 'detectada': 2, 'pagaré': 2, 'extravío': 2, 'burgos': 2, 'caí': 2, 'confié': 2, 'veridicos': 2, 'omiten': 2, 'verdaderamente': 2, 'accedio': 2, 'aceptadas': 2, 'obligan': 2, 'expresadas': 2, 'crisis': 2, 'dilatando': 2, 'resuelven': 2, 'voluntario': 2, 'anularon': 2, 'justificada': 2, 'cambiaran': 2, 'rescatarlo': 2, 'adjuntarlo': 2, 'voto': 2, 'acc': 2, 'incompleto': 2, 'básico': 2, 'mantendría': 2, 'pense': 2, 'latinoamericanas': 2, 'realizarían': 2, 'podíamos': 2, 'an': 2, 'impagos': 2, 'fu': 2, 'sucedi': 2, 'pagu': 2, 'proteger': 2, 'derrame': 2, 'engorrosa': 2, 'extraviaron': 2, 'aparecieron': 2, 'finiquitaron': 2, 'amenazando': 2, 'humillante': 2, 'peluquero': 2, 'protestado': 2, 'andar': 2, 'quillota': 2, 'señalandome': 2, 'imputados': 2, 'cotizo': 2, 'aldo': 2, 'roberto': 2, 'acredito': 2, 'presume': 2, 'sistemática': 2, 'paralelo': 2, 'finalice': 2, 'rotundamente': 2, 'causar': 2, 'jp': 2, 'duhalde': 2, 'visito': 2, 'simulación': 2, 'pruebas': 2, 'venia': 2, 'numerosas': 2, 'pasará': 2, 'quedarán': 2, 'mastercad': 2, 'restar': 2, 'continuan': 2, 'incial': 2, 'tratarse': 2, 'adeudadas': 2, 'demoraba': 2, 'atropellada': 2, 'cadera': 2, 'brazo': 2, 'daban': 2, 'flujo': 2, 'cargas': 2, 'nació': 2, 'malformación': 2, 'contactaran': 2, 'encuesta': 2, 'otorga': 2, 'supongo': 2, 'intenciones': 2, 'jurada': 2, 'impresos': 2, 'guantera': 2, 'pincho': 2, 'fijado': 2, 'cobrarlo': 2, 'estafando': 2, 'aconteció': 2, 'sacarme': 2, 'historico': 2, 'correspondió': 2, 'consideré': 2, 'respondio': 2, 'entrado': 2, 'incorporados': 2, 'undécimo': 2, 'separada': 2, 'vicio': 2, 'asigna': 2, 'muguruza': 2, 'infante': 2, 'sportage': 2, 'fundamentar': 2, 'concretas': 2, 'trasgrede': 2, 'existencias': 2, 'alteraciones': 2, 'bariatica': 2, 'facilidades': 2, 'reembolsados': 2, 'transcurriendo': 2, 'proveniente': 2, 'justamente': 2, 'deportivo': 2, 'utilicé': 2, 'manda': 2, 'informara': 2, 'amiga': 2, 'procedente': 2, 'stock': 2, 'persiste': 2, 'negarse': 2, 'confiere': 2, 'hnos': 2, 'montón': 2, 'trizado': 2, 'enterados': 2, 'toman': 2, 'omite': 2, 'cambiadas': 2, 'forum': 2, 'extirpacion': 2, 'estético': 2, 'consultando': 2, 'involuntario': 2, 'reembolsan': 2, 'mecanismos': 2, 'recaudado': 2, 'retiró': 2, 'bilateral': 2, 'ojos': 2, 'group': 2, 'alusión': 2, 'calificación': 2, 'afiliados': 2, 'conversiones': 2, 'conversión': 2, 'juego': 2, 'argumenta': 2, 'obligada': 2, 'terminaba': 2, 'corre': 2, 'larga': 2, 'fundamenta': 2, 'sucedieron': 2, 'manifeste': 2, 'asignada': 2, 'síntomas': 2, 'capitalización': 2, 'transferido': 2, 'gozar': 2, 'expuestas': 2, 'enviarla': 2, 'anulan': 2, 'movilizarlo': 2, 'encontrarme': 2, 'distribuir': 2, 'eliminacion': 2, 'procesar': 2, 'hablan': 2, 'continuado': 2, 'sagradamente': 2, 'grabada': 2, 'pequeño': 2, 'sugerencia': 2, 'empieza': 2, 'antonio': 2, 'armijo': 2, 'colisionado': 2, 'copiloto': 2, 'dañada': 2, 'ánimo': 2, 'intensidad': 2, 'amparada': 2, 'creen': 2, 'incontinencia': 2, 'auge': 2, 'respaldar': 2, 'bikesantiago': 2, 'farmacéuticos': 2, 'transparentar': 2, 'hipotecado': 2, 'incluir': 2, 'dará': 2, 'categoría': 2, 'resección': 2, 'retenido': 2, 'entregara': 2, 'engloba': 2, 'recomiendan': 2, 'accede': 2, 'prometido': 2, 'cambian': 2, 'enzura': 2, 'recepcionó': 2, 'parecida': 2, 'franquicia': 2, 'consultó': 2, 'bajado': 2, 'dilatoria': 2, 'daña': 2, 'verbales': 2, 'desk': 2, 'atd': 2, 'bloqueada': 2, 'nominal': 2, 'suscrita': 2, 'comunicara': 2, 'revisara': 2, 'observados': 2, 'respalde': 2, 'respalden': 2, 'endosó': 2, 'restituyeron': 2, 'caducidad': 2, 'mónica': 2, 'concluir': 2, 'compara': 2, 'ofertas': 2, 'exigí': 2, 'plenamente': 2, 'dándome': 2, 'diariamente': 2, 'bloomberg': 2, 'compone': 2, 'vario': 2, 'subgerente': 2, 'fm': 2, 'gonzalez': 2, 'trasladar': 2, 'objetivos': 2, 'incentivos': 2, 'metas': 2, 'benefician': 2, 'beneficiando': 2, 'accinistas': 2, 'ósea': 2, 'cubran': 2, 'pazos': 2, 'especifican': 2, 'recidivo': 2, 'colegio': 2, 'peligro': 2, 'contradicen': 2, 'otorgó': 2, 'cubrirme': 2, 'hosp': 2, 'militar': 2, 'stgo': 2, 'oncologico': 2, 'sarcoma': 2, 'ewing': 2, 'hcuc': 2, 'derivacion': 2, 'caec': 2, 'ciclos': 2, 'quimioterpia': 2, 'ciclo': 2, 'bonificadas': 2, 'inmunomodulador': 2, 'droga': 2, 'informna': 2, 'pocedimiento': 2, 'terapeutico': 2, 'prestacion': 2, 'terapiass': 2, 'orales': 2, 'deducibles': 2, 'desicion': 2, 'psicológico': 2, 'jugando': 2, 'tremendo': 2, 'supieron': 2, 'ejercida': 2, 'terminaron': 2, 'repacto': 2, 'hacernos': 2, 'value': 2, 'autoricé': 2, 'códigos': 2, 'ahorrados': 2, 'disponer': 2, 'retirarlos': 2, 'retirados': 2, 'notoriamente': 2, 'apellido': 2, 'recurso': 2, 'mejores': 2, 'caros': 2, 'esperara': 2, 'programado': 2, 'caducó': 2, 'casualidad': 2, 'sección': 2, 'activas': 2, 'merezco': 2, 'residencia': 2, 'insostenible': 2, 'quebraron': 2, 'topones': 2, 'repararon': 2, 'cierta': 2, 'entendí': 2, 'especie': 2, 'escribir': 2, 'motors': 2, 'aproxima': 2, 'cartel': 2, 'ilegal': 2, 'físico': 2, 'producido': 2, 'losa': 2, 'denegado': 2, 'gatillante': 2, 'andres': 2, 'redactada': 2, 'llamarán': 2, 'existo': 2, 'llamarme': 2, 'agrega': 2, 'jose': 2, 'desesperado': 2, 'confiando': 2, 'pregrado': 2, 'accedió': 2, 'normalidad': 2, 'validación': 2, 'perjudiquen': 2, 'derivó': 2, 'percatamos': 2, 'especificaba': 2, 'estéticos': 2, 'ítems': 2, 'auditoria': 2, 'mandíbula': 2, 'asesorar': 2, 'ordenado': 2, 'coticé': 2, 'respuesto': 2, 'notificadas': 2, 'descontara': 2, 'capacitación': 2, 'decenas': 2, 'exponiendo': 2, 'fraudes': 2, 'obvio': 2, 'aplicará': 2, 'llevaran': 2, 'prioridad': 2, 'responsabilidades': 2, 'pediatra': 2, 'enfermos': 2, 'evalúe': 2, 'caídas': 2, 'acompañado': 2, 'transfiera': 2, 'ue': 2, 'veia': 2, 'lujo': 2, 'valorado': 2, 'significo': 2, 'flujos': 2, 'participaciones': 2, 'clp': 2, 'xbrl': 2, 'pasan': 2, 'meto': 2, 'indagar': 2, 'fisicos': 2, 'interpretan': 2, 'escapan': 2, 'procedencia': 2, 'boucher': 2, 'canjear': 2, 'mundial': 2, 'jlt': 2, 'orbital': 2, 'autorizaba': 2, 'privado': 2, 'comprados': 2, 'existia': 2, 'acudió': 2, 'entregarian': 2, 'acordó': 2, 'basado': 2, 'mediana': 2, 'validado': 2, 'andrés': 2, 'colapso': 2, 'supe': 2, 'catastrófica': 2, 'necesite': 2, 'ppu': 2, 'diagnosticó': 2, 'participando': 2, 'excediendo': 2, 'aspecto': 2, 'escuchar': 2, 'entendemos': 2, 'inconcebible': 2, 'consideren': 2, 'dejarían': 2, 'abdominal': 2, 'integridad': 2, 'totales': 2, 'cancelaran': 2, 'cielo': 2, 'cedió': 2, 'bancochile': 2, 'mínimas': 2, 'enfrentar': 2, 'alcances': 2, 'solicitaba': 2, 'ratificar': 2, 'tamaño': 2, 'rotas': 2, 'buin': 2, 'ingresan': 2, 'prestigiosa': 2, 'garantías': 2, 'camión': 2, 'cuantas': 2, 'transito': 2, 'use': 2, 'comprendo': 2, 'cambié': 2, 'corrido': 2, 'samsung': 2, 'termina': 2, 'asistido': 2, 'material': 2, 'escriturar': 2, 'senala': 2, 'coloque': 2, 'copiapo': 2, 'corazón': 2, 'actuó': 2, 'facturado': 2, 'descontaban': 2, 'remitido': 2, 'cortinas': 2, 'cambiarlas': 2, 'sentí': 2, 'psicologico': 2, 'ctacte': 2, 'encontraría': 2, 'acreencias': 2, 'secciones': 2, 'darlo': 2, 'carguen': 2, 'ra': 2, 'reconsideración': 2, 'notificaron': 2, 'atropella': 2, 'animal': 2, 'caducara': 2, 'campanario': 2, 'encendido': 2, 'clonada': 2, 'margen': 2, 'funciono': 2, 'actuado': 2, 'dano': 2, 'investigado': 2, 'excelencia': 2, 'poderosos': 2, 'maliciosos': 2, 'terceras': 2, 'exteriores': 2, 'versión': 2, 'responderán': 2, 'subiran': 2, 'planes': 2, 'fallado': 2, 'alcanzo': 2, 'extienda': 2, 'valorizacion': 2, 'carecen': 2, 'cámaras': 2, 'impugné': 2, 'cuestionario': 2, 'cooredores': 2, 'enajenaron': 2, 'mantenían': 2, 'católica': 2, 'prestaba': 2, 'desempeño': 2, 'específica': 2, 'resguardos': 2, 'vencer': 2, 'aumentaba': 2, 'preguntó': 2, 'respondí': 2, 'debíamos': 2, 'vespucio': 2, 'pasados': 2, 'sucesion': 2, 'concretar': 2, 'integrantes': 2, 'ciudades': 2, 'preocupante': 2, 'nissan': 2, 'lamentable': 2, 'registrada': 2, 'chasis': 2, 'soluciona': 2, 'poseía': 2, 'leído': 2, 'supermercados': 2, 'comunicada': 2, 'atrasadas': 2, 'histórica': 2, 'terminada': 2, 'traslada': 2, 'determinó': 2, 'pagarán': 2, 'interponer': 2, 'intendencia': 2, 'isapres': 2, 'estudian': 2, 'importaba': 2, 'encontramos': 2, 'prestar': 2, 'hablo': 2, 'sindico': 2, 'repacté': 2, 'dejaba': 2, 'suscribió': 2, 'comentado': 2, 'lumifytactical': 2, 'teatank': 2, 'existan': 2, 'manifiesta': 2, 'valevista': 2, 'memoria': 2, 'unidos': 2, 'strategic': 2, 'business': 2, 'unit': 2, 'supervisión': 2, 'altas': 2, 'reforma': 2, 'aplicando': 2, 'cancelarlo': 2, 'evolución': 2, 'complementarios': 2, 'pretenden': 2, 'presentarse': 2, 'recordaba': 2, 'cambiarlo': 2, 'condice': 2, 'puestas': 2, 'transar': 2, 'erróneos': 2, 'trajeron': 2, 'citroen': 2, 'saca': 2, 'ingresados': 2, 'consegui': 2, 'cobraran': 2, 'agregados': 2, 'desconosco': 2, 'acumularon': 2, 'atrasados': 2, 'agregaron': 2, 'mayoritarios': 2, 'aumentos': 2, 'desviar': 2, 'aysen': 2, 'orlando': 2, 'neira': 2, 'obras': 2, 'area': 2, 'cadenas': 2, 'principales': 2, 'mostrada': 2, 'satisface': 2, 'factoring': 2, 'factotal': 2, 'publicó': 2, 'hashimoto': 2, 'gestacional': 2, 'refuerza': 2, 'dev': 2, 'imagenes': 2, 'preciso': 2, 'sanas': 2, 'preexistencias': 2, 'comprenderán': 2, 'permuta': 2, 'respondidos': 2, 'dependía': 2, 'habiéndose': 2, 'arrendatario': 2, 'económicas': 2, 'potencial': 2, 'inversions': 2, 'idioma': 2, 'multiplicar': 2, 'fiscalizando': 2, 'rotonda': 2, 'lloviendo': 2, 'regrese': 2, 'reportar': 2, 'manejaba': 2, 'excedido': 2, 'puntuales': 2, 'cancelarnos': 2, 'debiendo': 2, 'proyectos': 2, 'refinanciar': 2, 'iphone': 2, 'coordinador': 2, 'explicado': 2, 'cobraban': 2, 'acogió': 2, 'hostigamiento': 2, 'aburrí': 2, 'repetir': 2, 'historia': 2, 'gonartrosis': 2, 'partidor': 2, 'herederos': 2, 'externas': 2, 'pedian': 2, 'cancelarles': 2, 'contractual': 2, 'tiraron': 2, 'rompio': 2, 'aplicables': 2, 'fiestas': 2, 'leucemia': 2, 'quedarme': 2, 'especificaciones': 2, 'estudie': 2, 'declaró': 2, 'sobrepeso': 2, 'mencionaron': 2, 'cambiando': 2, 'complementar': 2, 'ajunto': 2, 'correspondiendo': 2, 'denegada': 2, 'sucursales': 2, 'detección': 2, 'agotado': 2, 'agrego': 2, 'apurar': 2, 'probar': 2, 'conocida': 2, 'llamara': 2, 'profesionalismo': 2, 'comenzando': 2, 'obligándome': 2, 'comenzado': 2, 'ingresando': 2, 'incompleta': 2, 'prestador': 2, 'trae': 2, 'ahumada': 2, 'inspecciones': 2, 'imparcial': 2, 'arauco': 2, 'maipú': 2, 'tiran': 2, 'haré': 2, 'revisadas': 2, 'estipularse': 2, 'desfase': 2, 'eventualmente': 2, 'dolo': 2, 'abrí': 2, 'comentó': 2, 'explicara': 2, 'instructivo': 2, 'resuelta': 2, 'atendida': 2, 'ministro': 2, 'distribuidos': 2, 'inventan': 2, 'lampa': 2, 'robadas': 2, 'mostró': 2, 'avisó': 2, 'sugieren': 2, 'gigante': 2, 'privados': 2, 'instrumentos': 2, 'perdimos': 2, 'varas': 2, 'dollar': 2, 'invierten': 2, 'negativamente': 2, 'radica': 2, 'contribuyente': 2, 'contable': 2, 'ppl': 2, 'multinacional': 2, 'fenosa': 2, 'tusan': 2, 'tecnet': 2, 'binaria': 2, 'clg': 2, 'igsa': 2, 'enerplus': 2, 'prestan': 2, 'millonarias': 2, 'denuncian': 2, 'elegí': 2, 'siete': 2, 'consultada': 2, 'indura': 2, 'palanca': 2, 'arreglaron': 2, 'rayón': 2, 'entel': 2, 'cayendo': 2, 'caída': 2, 'temprano': 2, 'jornada': 2, 'operador': 2, 'diferencial': 2, 'nacida': 2, 'acondicionado': 2, 'ke': 2, 'saltada': 2, 'investigacion': 2, 'taxis': 2, 'pk': 2, 'canse': 2, 'serias': 2, 'bateria': 2, 'cesárea': 2, 'contactan': 2, 'sobreprecio': 2, 'señalaban': 2, 'desconocer': 2, 'obligaron': 2, 'maneje': 2, 'contrat': 2, 'elección': 2, 'vine': 2, 'rentable': 2, 'harían': 2, 'accedo': 2, 'comienzan': 2, 'cometen': 2, 'severo': 2, 'fervientemente': 2, 'entablar': 2, 'inmenso': 2, 'miraflores': 2, 'aprobando': 2, 'apropiarse': 2, 'apremio': 2, 'horarios': 2, 'mojado': 2, 'accionaria': 2, 'interpretativo': 2, 'titulado': 2, 'indaga': 2, 'privilegiados': 2, 'perjudicar': 2, 'públicos': 2, 'enteró': 2, 'mpro': 2, 'transfiere': 2, 'dispuestos': 2, 'realizará': 2, 'comunidad': 2, 'cometidas': 2, 'minera': 2, 'incautó': 2, 'omnibus': 2, 'saberlo': 2, 'ctas': 2, 'habilitado': 2, 'remiten': 2, 'responsabilizarse': 2, 'menú': 2, 'aparecia': 2, 'serv': 2, 'anulacion': 2, 'corbanca': 2, 'impida': 2, 'completado': 2, 'apesar': 2, 'listado': 2, 'accesorios': 2, 'relativamente': 2, 'mediadores': 2, 'venden': 2, 'quinta': 2, 'ignorante': 2, 'fluor': 2, 'nombrada': 2, 'limitación': 2, 'publique': 2, 'sostenido': 2, 'emelat': 2, 'conafe': 2, 'unificar': 2, 'distribuidora': 2, 'aparecida': 2, 'informático': 2, 'sinientro': 2, 'iniciales': 2, 'soquimich': 2, 'yendo': 2, 'bruscamente': 2, 'segundos': 2, 'adquirirlo': 2, 'regir': 2, 'captura': 2, 'asigno': 2, 'dañando': 2, 'fiscaliza': 2, 'demande': 2, 'porciento': 2, 'bebe': 2, 'dilatado': 2, 'asistentes': 2, 'reflejar': 2, 'auditar': 2, 'ayude': 2, 'considerados': 2, 'correlativo': 2, 'producen': 2, 'ocurriendo': 2, 'postergar': 2, 'prorrogas': 2, 'averigue': 2, 'ford': 2, 'identificación': 2, 'oneroso': 2, 'decidió': 2, 'resciliación': 2, 'cubriera': 2, 'funcionan': 2, 'comprometida': 2, 'cuarto': 2, 'burlarse': 2, 'manden': 2, 'nege': 2, 'redujo': 2, 'grand': 2, 'indemnizarme': 2, 'tercios': 2, 'expliquen': 2, 'juntos': 2, 'supermercado': 2, 'movia': 2, 'llené': 2, 'mensualidad': 2, 'trasladarían': 2, 'congelaron': 2, 'resulten': 2, 'items': 2, 'cubriria': 2, 'minina': 2, 'prótesis': 2, 'cubrirla': 2, 'secuela': 2, 'displacía': 2, 'dolencia': 2, 'recaudados': 2, 'cumplía': 2, 'directos': 2, 'accionario': 2, 'industrial': 2, 'cchc': 2, 'especialidad': 2, 'david': 2, 'leyendo': 2, 'ventanas': 2, 'anti': 2, 'comunicaran': 2, 'expectativas': 2, 'ch': 2, 'hipertrofia': 2, 'procediera': 2, 'ocupando': 2, 'enviándome': 2, 'acontecimientos': 2, 'one': 2, 'correponde': 2, 'fallo': 2, 'trozos': 2, 'saltó': 2, 'aqua': 2, 'procederán': 2, 'estafas': 2, 'inexistentes': 2, 'coloca': 2, 'prescrito': 2, 'rumores': 2, 'baje': 2, 'castigadas': 2, 'paz': 2, 'opcion': 2, 'ban': 2, 'acoge': 2, 'excepciones': 2, 'vele': 2, 'autoriza': 2, 'desconforme': 2, 'depositos': 2, 'textualmente': 2, 'dirigido': 2, 'descuenta': 2, 'anunció': 2, 'anuncia': 2, 'reparto': 2, 'ofertado': 2, 'acudio': 2, 'dc': 2, 'rezagos': 2, 'usura': 2, 'reducido': 2, 'multidiciplinario': 2, 'actué': 2, 'firman': 2, 'pablo': 2, 'sistemáticamente': 2, 'cumplirse': 2, 'propiedades': 2, 'edwards': 2, 'imputable': 2, 'íntegra': 2, 'convenida': 2, 'temperatura': 2, 'razonables': 2, 'labor': 2, 'trabaje': 2, 'acercado': 2, 'confirmó': 2, 'dirigiera': 2, 'novatec': 2, 'subido': 2, 'inutilizable': 2, 'odontólogo': 2, 'operarme': 2, 'declararlo': 2, 'casco': 2, 'utilización': 2, 'des': 2, 'balón': 2, 'gástrico': 2, 'endoscopia': 2, 'dirigir': 2, 'ingresamos': 2, 'levantar': 2, 'prende': 2, 'tanner': 2, 'discrepo': 2, 'vende': 2, 'gravedad': 2, 'coronario': 2, 'alusion': 2, 'ad': 2, 'portas': 2, 'asistente': 2, 'inconac': 2, 'pie': 2, 'cobrará': 2, 'perteneciente': 2, 'armada': 2, 'prepagar': 2, 'presencialmente': 2, 'vina': 2, 'pertenecientes': 2, 'respondida': 2, 'quedará': 2, 'tenerlo': 2, 'ccaf': 2, 'assurant': 2, 'caracteristicas': 2, 'protegidos': 2, 'kilómetros': 2, 'escenario': 2, 'pronunciado': 2, 'cumbre': 2, 'dato': 2, 'parabrisa': 2, 'colisiono': 2, 'asombro': 2, 'variar': 2, 'expuse': 2, 'supere': 2, 'atendí': 2, 'suspenda': 2, 'forzada': 2, 'gms': 2, 'arribo': 2, 'conducido': 2, 'objetando': 2, 'villanelo': 2, 'indefinido': 2, 'inicié': 2, 'rezago': 2, 'eventualidad': 2, 'aportados': 2, 'fiscalia': 2, 'relativos': 2, 'resuelve': 2, 'celeridad': 2, 'concurre': 2, 'xtb': 2, 'disidente': 2, 'entendimiento': 2, 'asiste': 2, 'aprueba': 2, 'realización': 2, 'alzamientos': 2, 'biopsias': 2, 'vigésima': 2, 'inexactitudes': 2, 'omisiones': 2, 'ectópico': 2, 'complicó': 2, 'entrando': 2, 'tag': 2, 'noches': 2, 'reclamante': 2, 'pubertad': 2, 'precoz': 2, 'inyección': 2, 'gigantismo': 2, 'crecimiento': 2, 'internas': 2, 'discapacitada': 2, 'corporales': 2, 'amparándose': 2, 'perito': 2, 'insatisfactoria': 2, 'otorrino': 2, 'puño': 2, 'bgf': 2, 'política': 2, 'endeudamiento': 2, 'cúpula': 2, 'recibidos': 2, 'practica': 2, 'recurrente': 2, 'informante': 2, 'teck': 2, 'notifican': 2, 'afecte': 2, 'ponga': 2, 'restitucion': 2, 'accedieron': 2, 'devolverian': 2, 'licitación': 2, 'suba': 2, 'exigo': 2, 'sobreprima': 2, 'acaban': 2, 'airbags': 2, 'avise': 2, 'concuerdan': 2, 'reaccionar': 2, 'intervencion': 2, 'legislen': 2, 'europ': 2, 'guardia': 2, 'bancarios': 2, 'respetuosamente': 2, 'fiel': 2, 'sentencia': 2, 'prestados': 2, 'paciencia': 2, 'radioterapia': 2, 'peticiones': 2, 'cortaron': 2, 'mantenerlo': 2, 'almacenes': 2, 'débito': 2, 'lago': 2, 'arriesgar': 2, 'duplicados': 2, 'jubilada': 2, 'procediendo': 2, 'finalizo': 2, 'extravio': 2, 'servir': 2, 'digitalizada': 2, 'curse': 2, 'casas': 2, 'rechacé': 2, 'porcelanato': 2, 'cerámica': 2, 'closet': 2, 'descabellado': 2, 'conocimientos': 2, 'locales': 2, 'asignados': 2, 'periódicamente': 2, 'duró': 2, 'maestro': 2, 'aclaración': 2, 'quejas': 2, 'comunicacion': 2, 'volvo': 2, 'parciales': 2, 'multi': 2, 'faltas': 2, 'continuamente': 2, 'descripcion': 2, 'nego': 2, 'desabitada': 2, 'consume': 2, 'tac': 2, 'industria': 2, 'vendidas': 2, 'ésto': 2, 'adquiri': 2, 'peloteo': 2, 'pregunte': 2, 'hiperglicemia': 2, 'multidisciplinario': 2, 'shock': 2, 'municipal': 2, 'humedad': 2, 'respaldados': 2, 'edelnor': 2, 'recomienda': 2, 'amplia': 2, 'ideal': 2, 'ticket': 2, 'esclarecer': 2, 'obviando': 2, 'suguro': 2, 'nieguen': 2, 'rehabilitar': 2, 'tranquilidad': 2, 'ordenar': 2, 'quieres': 2, 'necesariamente': 2, 'modificar': 2, 'prepagos': 2, 'reponer': 2, 'detenido': 2, 'devolverá': 2, 'perdidos': 2, 'escencial': 2, 'reembolsada': 2, 'terrible': 2, 'inconsciente': 2, 'quitar': 2, 'morfina': 2, 'tomografia': 2, 'suficientes': 2, 'actuando': 2, 'europa': 2, 'perdía': 2, 'pierde': 2, 'dictatorial': 2, 'cifra': 2, 'ampliamente': 2, 'obtiene': 2, 'conchalí': 2, 'propone': 2, 'catastroficas': 2, 'producirse': 2, 'trust': 2, 'ssv': 2, 'desinteresada': 2, 'áreas': 2, 'demostraron': 2, 'infracciones': 2, 'resuelvan': 2, 'pagarlos': 2, 'eligió': 2, 'lentos': 2, 'coordinación': 2, 'aprovechamiento': 2, 'insistentemente': 2, 'registre': 2, 'llamarlos': 2, 'in': 2, 'aguinaldos': 2, 'aguinaldo': 2, 'interpuso': 2, 'rodrigo': 2, 'contraorden': 2, 'completos': 2, 'relatados': 2, 'coreo': 2, 'peugeot': 2, 'designar': 2, 'prexistencia': 2, 'adjuntaré': 2, 'adjuntado': 2, 'volviendo': 2, 'deferencia': 2, 'postventa': 2, 'pacte': 2, 'ca': 2, 'respeusta': 2, 'reclamose': 2, 'zuricha': 2, 'obligatorios': 2, 'atenderse': 2, 'motorizados': 2, 'excluyentes': 2, 'smail': 2, 'rigurosidad': 2, 'privadas': 2, 'incomodo': 2, 'próximos': 2, 'fallecio': 2, 'superindencia': 2, 'ahorrocoop': 2, 'hablé': 2, 'solucionada': 2, 'incurrido': 2, 'excesivos': 2, 'escriba': 2, 'eliminó': 2, 'aprovecha': 2, 'nocturna': 2, 'ilimitado': 2, 'lesión': 2, 'raspando': 2, 'compromete': 2, 'ocurren': 2, 'infarto': 2, 'cardiaco': 2, 'ordinario': 2, 'amabilidad': 2, 'segmento': 2, 'recargo': 2, 'valoración': 2, 'valorice': 2, 'histórico': 2, 'mayoritario': 2, 'implique': 2, 'valorizar': 2, 'vitacura': 2, 'valía': 2, 'venda': 2, 'rentabilidades': 2, 'reconocido': 2, 'glaucoma': 2, 'reglas': 2, 'tremendamente': 2, 'asignación': 2, 'importación': 2, 'obtuvo': 2, 'históricas': 2, 'indicación': 2, 'amparado': 2, 'contestada': 2, 'sólida': 2, 'producir': 2, 'desembolsar': 2, 'minoristas': 2, 'hacienda': 2, 'interferir': 2, 'ingresadas': 2, 'colocación': 2, 'adjudicación': 2, 'niegue': 2, 'considerablemente': 2, 'indebidos': 2, 'acogidas': 2, 'fase': 2, 'pienso': 2, 'presentaciones': 2, 'contenida': 2, 'cuestionable': 2, 'préstamos': 2, 'escena': 2, 'esquema': 2, 'barato': 2, 'impuesto': 2, 'forman': 2, 'ausencia': 2, 'solventa': 2, 'verbal': 2, 'tb': 2, 'poseian': 2, 'aclaracion': 2, 'nemo': 2, 'impresión': 2, 'quinientas': 2, 'paradero': 2, 'carencias': 2, 'formalizar': 2, 'sirva': 2, 'mencioné': 2, 'lejos': 2, 'desvincule': 2, 'preexistentes': 2, 'obligarme': 2, 'finiquitar': 2, 'detalladas': 2, 'generándome': 2, 'restituyan': 2, 'tando': 2, 'devueltos': 2, 'continuidad': 2, 'carrera': 2, 'contacten': 2, 'enteren': 2, 'procedan': 2, 'defenderme': 2, 'eficiencia': 2, 'válida': 2, 'reajustados': 2, 'responsabilice': 2, 'contener': 2, 'multe': 2, 'administrativa': 2, 'actualización': 2, 'abonen': 2, 'ocurran': 2, 'prontamente': 2, 'conducta': 2, 'intachable': 2, 'permita': 2, 'reactive': 2, 'discriminatoria': 2, 'oficiar': 2, 'vitara': 2, 'glx': 2, 'andando': 2, 'adecuados': 2, 'arregle': 2, 'encontraré': 2, 'corrí': 2, 'atribuciones': 2, 'permiten': 2, 'detallados': 2, 'economica': 2, 'protocolos': 2, 'tomare': 2, 'regularicen': 2, 'exijan': 2, 'incremento': 2, 'prestando': 2, 'entregándome': 2, 'ingresen': 2, 'anomalias': 2, 'facilitar': 2, 'excluir': 2, 'hecos': 2, 'tomaran': 2, 'perjudico': 2, 'extras': 2, 'investiguen': 2, 'compleja': 2, 'destinado': 2, 'ajusten': 2, 'adquiridos': 2, 'engaños': 2, 'usuaria': 2, 'determine': 2, 'determinen': 2, 'contado': 2, 'administracion': 2, 'exhaustiva': 2, 'justificar': 2, 'unidades': 2, 'fomento': 2, 'retrasando': 2, 'hacerlos': 2, 'certifique': 2, 'garantizar': 2, 'repongan': 2, 'padece': 2, 'definición': 2, 'ordene': 2, 'realista': 2, 'consecuencias': 2, 'monetaria': 2, 'io': 2, 'ciudadanos': 2, 'reembolsadas': 2, 'actas': 2, 'gustaria': 2, 'prohibida': 1, 'destrucción': 1, 'descuido': 1, 'recibían': 1, 'dejaban': 1, 'levanto': 1, 'renvar': 1, 'renovarla': 1, 'maas': 1, 'arbitrariedad': 1, 'obligaban': 1, 'vencia': 1, 'supiera': 1, 'renueva': 1, 'ilegalmentee': 1, 'doctos': 1, 'suministrados': 1, 'bsantander': 1, 'facturada': 1, 'padecer': 1, 'reembolsó': 1, 'remisión': 1, 'episodio': 1, 'desencadenó': 1, 'sentirme': 1, 'satisfecha': 1, 'cuerpo': 1, 'reconstructiva': 1, 'recuperándome': 1, 'presionada': 1, 'proporcionados': 1, 'fundada': 1, 'justificación': 1, 'criterios': 1, 'standard': 1, 'parten': 1, 'autotech': 1, 'transformarlos': 1, 'reenviárselos': 1, 'volumen': 1, 'anunciada': 1, 'vergonzoso': 1, 'filtran': 1, 'confidencial': 1, 'subirle': 1, 'mejora': 1, 'llebe': 1, 'ostigando': 1, 'enviandome': 1, 'abogada': 1, 'doña': 1, 'realizaban': 1, 'concurrió': 1, 'chron': 1, 'haciéndole': 1, 'inactivo': 1, 'pertenecia': 1, 'domestico': 1, 'cajas': 1, 'arroja': 1, 'renunciaba': 1, 'provincia': 1, 'medular': 1, 'quirurgicas': 1, 'concuerdo': 1, 'bonifiquen': 1, 'algun': 1, 'eutirox': 1, 'tsh': 1, 'tlibre': 1, 'libreta': 1, 'mo': 1, 'tempral': 1, 'variedad': 1, 'ascendieron': 1, 'apalear': 1, 'significada': 1, 'reconstruir': 1, 'vestir': 1, 'cesación': 1, 'contactenos': 1, 'acérquese': 1, 'resueltas': 1, 'dirimir': 1, 'utilizó': 1, 'gotos': 1, 'indemnizsción': 1, 'evalución': 1, 'calificados': 1, 'irreparables': 1, 'maestros': 1, 'constructores': 1, 'finalidad': 1, 'ocurriera': 1, 'desafilaron': 1, 'acumuladas': 1, 'necesitar': 1, 'revuelo': 1, 'enredo': 1, 'desajuste': 1, 'obligo': 1, 'llege': 1, 'servía': 1, 'admitió': 1, 'manó': 1, 'tajante': 1, 'ligua': 1, 'informática': 1, 'comunicandome': 1, 'asegurarnos': 1, 'perseguir': 1, 'extiendo': 1, 'murio': 1, 'ulcera': 1, 'duodenal': 1, 'dira': 1, 'vesicula': 1, 'empezo': 1, 'sigueron': 1, 'laguna': 1, 'aculeos': 1, 'estacionar': 1, 'seco': 1, 'pasto': 1, 'dañé': 1, 'abollado': 1, 'intentar': 1, 'retrocedí': 1, 'levemente': 1, 'reja': 1, 'recinto': 1, 'levantarlo': 1, 'demorando': 1, 'esperé': 1, 'acudiera': 1, 'complemento': 1, 'admirada': 1, 'enmendado': 1, 'admira': 1, 'persisten': 1, 'boton': 1, 'cupon': 1, 'desordena': 1, 'mitsui': 1, 'comenzo': 1, 'dilataci': 1, 'veses': 1, 'capta': 1, 'be': 1, 'invierta': 1, 'séptimo': 1, 'estacione': 1, 'calles': 1, 'cercanas': 1, 'designa': 1, 'evalua': 1, 'estableciendo': 1, 'enviarian': 1, 'max': 1, 'version': 1, 'opinion': 1, 'subjetiva': 1, 'brindando': 1, 'ambito': 1, 'profesion': 1, 'pacientes': 1, 'hogares': 1, 'desvinculando': 1, 'devolviera': 1, 'generé': 1, 'consorsio': 1, 'asegurable': 1, 'inmunodeficiencia': 1, 'humana': 1, 'sde': 1, 'soibre': 1, 'gestiono': 1, 'informandonos': 1, 'cesion': 1, 'monasterio': 1, 'requiriendo': 1, 'habitado': 1, 'nates': 1, 'compramos': 1, 'notificamos': 1, 'rectificarla': 1, 'rebota': 1, 'air': 1, 'bag': 1, 'reventado': 1, 'consciente': 1, 'pagabas': 1, 'sagrada': 1, 'respetarlo': 1, 'sobrevivencia': 1, 'acoger': 1, 'milenio': 1, 'advance': 1, 'experto': 1, 'fidelizando': 1, 'meds': 1, 'aprobadas': 1, 'sumaron': 1, 'impidieron': 1, 'percibidos': 1, 'atravesando': 1, 'rehusó': 1, 'incumplieron': 1, 'procedido': 1, 'reabrir': 1, 'temblor': 1, 'muros': 1, 'preocupan': 1, 'vayan': 1, 'absorbió': 1, 'corpbancainversiones': 1, 'bloquearlo': 1, 'remota': 1, 'cerrarlos': 1, 'cerrara': 1, 'celebrarse': 1, 'carecer': 1, 'válidos': 1, 'clubdegolfydeporteselolivetosa': 1, 'yahoo': 1, 'encontrara': 1, 'enajenación': 1, 'decidirse': 1, 'diera': 1, 'desfialiado': 1, 'porton': 1, 'madrugada': 1, 'coincidir': 1, 'cumplidos': 1, 'aceptacion': 1, 'siniesntro': 1, 'debito': 1, 'venian': 1, 'cubrian': 1, 'minimas': 1, 'practicamente': 1, 'desafiliarme': 1, 'pertecen': 1, 'afiliacion': 1, 'anulados': 1, 'octb': 1, 'anularia': 1, 'revisan': 1, 'cordiamente': 1, 'invitan': 1, 'dond': 1, 'cargarian': 1, 'umillada': 1, 'mendigando': 1, 'agradable': 1, 'intermedia': 1, 'garantizadora': 1, 'manifiestan': 1, 'intermedian': 1, 'requieren': 1, 'enviarlos': 1, 'turnos': 1, 'mercadopago': 1, 'po': 1, 'quen': 1, 'tnia': 1, 'dspues': 1, 'bario': 1, 'abc': 1, 'hites': 1, 'ivan': 1, 'pagsr': 1, 'fallabela': 1, 'plaso': 1, 'grabe': 1, 'generaran': 1, 'cumpli': 1, 'incendios': 1, 'repugnación': 1, 'suponía': 1, 'quemado': 1, 'proponen': 1, 'colision': 1, 'padron': 1, 'pondrian': 1, 'entera': 1, 'arterial': 1, 'diversa': 1, 'consultorio': 1, 'cesfam': 1, 'centros': 1, 'chacabuco': 1, 'difiere': 1, 'procederá': 1, 'reinversiones': 1, 'confirmen': 1, 'juntaremos': 1, 'contestándome': 1, 'surgieron': 1, 'captiva': 1, 'fabrica': 1, 'fraudulenta': 1, 'inscribió': 1, 'regulación': 1, 'entregarlos': 1, 'difarma': 1, 'recabado': 1, 'indice': 1, 'aplico': 1, 'expirado': 1, 'chrysler': 1, 'intervinieron': 1, 'ofertan': 1, 'nueve': 1, 'pavez': 1, 'tolosa': 1, 'complementando': 1, 'debidas': 1, 'falsificadas': 1, 'propuesto': 1, 'valoran': 1, 'dilatar': 1, 'innecesariamente': 1, 'expire': 1, 'incumpliendose': 1, 'segregada': 1, 'administrada': 1, 'fx': 1, 'administrador': 1, 'pase': 1, 'mido': 1, 'embargue': 1, 'atuda': 1, 'cometió': 1, 'gentilmente': 1, 'contactarían': 1, 'tradicional': 1, 'endosa': 1, 'cometí': 1, 'permanecía': 1, 'estructuras': 1, 'estableciéndose': 1, 'otorgamiento': 1, 'sumadas': 1, 'tasado': 1, 'incendiario': 1, 'bomberil': 1, 'posterioridad': 1, 'rubricado': 1, 'incomprensibles': 1, 'injustos': 1, 'arbitrarios': 1, 'verde': 1, 'infirmo': 1, 'tip': 1, 'vidacorp': 1, 'escasa': 1, 'fijos': 1, 'varían': 1, 'cargada': 1, 'tendriamos': 1, 'ltiples': 1, 'entedad': 1, 'pensionada': 1, 'explicaci': 1, 'regalado': 1, 'servivio': 1, 'cesanti': 1, 'normado': 1, 'bienm': 1, 'regonociar': 1, 'sec': 1, 'obtenida': 1, 'trasgresión': 1, 'utm': 1, 'anexar': 1, 'tit': 1, 'montoss': 1, 'eñl': 1, 'chanta': 1, 'aprovechadora': 1, 'harta': 1, 'bsci': 1, 'registraron': 1, 'asistieron': 1, 'asocia': 1, 'sísmico': 1, 'deseamos': 1, 'ininterrumpida': 1, 'complementaria': 1, 'extendiéndose': 1, 'zincs': 1, 'entremedio': 1, 'clavos': 1, 'mojando': 1, 'garreto': 1, 'prestó': 1, 'obstáculos': 1, 'agilizaría': 1, 'mackena': 1, 'suscito': 1, 'agendar': 1, 'chiprodal': 1, 'pertenecieron': 1, 'corporativo': 1, 'sanhueza': 1, 'escuchada': 1, 'acurró': 1, 'resivieron': 1, 'fuy': 1, 'cubrira': 1, 'docymentos': 1, 'inposible': 1, 'moneto': 1, 'inpagos': 1, 'nerviosa': 1, 'reventó': 1, 'caldera': 1, 'caliente': 1, 'procedimos': 1, 'dirigirnos': 1, 'sure': 1, 'reinicia': 1, 'estola': 1, 'reconstrucción': 1, 'quisiéramos': 1, 'generalizados': 1, 'transitoria': 1, 'aseguradoraq': 1, 'siguó': 1, 'otorgarme': 1, 'dictamenes': 1, 'fichas': 1, 'clinicas': 1, 'intenta': 1, 'interrumpe': 1, 'orienta': 1, 'conocía': 1, 'arriesgando': 1, 'gtia': 1, 'manutenciones': 1, 'ilógico': 1, 'expresar': 1, 'repente': 1, 'trajo': 1, 'inverti': 1, 'irían': 1, 'tamaña': 1, 'desilusión': 1, 'beneficiado': 1, 'grato': 1, 'indicio': 1, 'esgrimida': 1, 'aparta': 1, 'argumentar': 1, 'fehacientemente': 1, 'preliminar': 1, 'pegunto': 1, 'investigador': 1, 'mandara': 1, 'vió': 1, 'llevaban': 1, 'dificultad': 1, 'arrancara': 1, 'roban': 1, 'contextualizar': 1, 'implícito': 1, 'pagarían': 1, 'siguieran': 1, 'elantra': 1, 'inmediatamete': 1, 'hechan': 1, 'vivía': 1, 'facturo': 1, 'aduaneros': 1, 'valoraron': 1, 'conste': 1, 'aduanero': 1, 'comercializado': 1, 'noticieros': 1, 'rematan': 1, 'reparados': 1, 'vueltos': 1, 'evaluando': 1, 'duraba': 1, 'internacionales': 1, 'ascienden': 1, 'renunciarse': 1, 'exlicaron': 1, 'pagarlo': 1, 'adosan': 1, 'tabique': 1, 'juntar': 1, 'puedieran': 1, 'depresion': 1, 'docuentos': 1, 'dificilmente': 1, 'liquidarme': 1, 'indemnizatoria': 1, 'bareyre': 1, 'dependiente': 1, 'sitado': 1, 'litigio': 1, 'afectaron': 1, 'are': 1, 'constitucion': 1, 'precariedad': 1, 'selebrado': 1, 'verificacion': 1, 'inconpetividad': 1, 'eleve': 1, 'demostro': 1, 'precaria': 1, 'explicaran': 1, 'ameritaban': 1, 'excusarse': 1, 'indemnizatorio': 1, 'reportó': 1, 'indicarle': 1, 'copiarme': 1, 'precaución': 1, 'señales': 1, 'tablero': 1, 'trayecto': 1, 'señal': 1, 'apuro': 1, 'penso': 1, 'funcionaba': 1, 'incorpore': 1, 'rectificsaciones': 1, 'suegro': 1, 'enersis': 1, 'usos': 1, 'reembolsarme': 1, 'decidieron': 1, 'expresando': 1, 'indignación': 1, 'tratarnos': 1, 'mentirosos': 1, 'sospechosa': 1, 'alegato': 1, 'falabellos': 1, 'limitándose': 1, 'comentos': 1, 'objetada': 1, 'aval': 1, 'libertador': 1, 'higgins': 1, 'normalización': 1, 'aceleró': 1, 'manchando': 1, 'borrarme': 1, 'desastre': 1, 'apaga': 1, 'buzon': 1, 'simplememnte': 1, 'segúnnr': 1, 'apernado': 1, 'considerandoen': 1, 'liquidaciónademás': 1, 'considerarse': 1, 'barras': 1, 'aluminio': 1, 'gata': 1, 'hidráulica': 1, 'solicitarle': 1, 'gps': 1, 'incorporo': 1, 'alertar': 1, 'fusionaron': 1, 'incorpora': 1, 'ebriedad': 1, 'adquirieron': 1, 'despachado': 1, 'escusa': 1, 'iso': 1, 'desperfectos': 1, 'pactar': 1, 'solventar': 1, 'dirigía': 1, 'bajada': 1, 'describir': 1, 'líquidos': 1, 'basadas': 1, 'siguiera': 1, 'enciende': 1, 'responsabilizándose': 1, 'providencias': 1, 'saldría': 1, 'divididos': 1, 'renovarse': 1, 'tantas': 1, 'escuché': 1, 'designó': 1, 'abrió': 1, 'recurrentemente': 1, 'tasadores': 1, 'consumado': 1, 'basé': 1, 'regulada': 1, 'facilidad': 1, 'abonada': 1, 'congelada': 1, 'reajusta': 1, 'actualiza': 1, 'vencidas': 1, 'simultáneamente': 1, 'asocio': 1, 'helena': 1, 'llevármelas': 1, 'evaluaron': 1, 'senneise': 1, 'liquidó': 1, 'loid': 1, 'demandé': 1, 'respondíó': 1, 'armonisa': 1, 'dama': 1, 'ccu': 1, 'factuta': 1, 'facturó': 1, 'significar': 1, 'dejarán': 1, 'ejercerán': 1, 'altísima': 1, 'velada': 1, 'kinesioterapia': 1, 'sobrecarga': 1, 'entrenamiento': 1, 'viniera': 1, 'arrastrando': 1, 'vehicuo': 1, 'alteración': 1, 'sugirio': 1, 'impidio': 1, 'rechazará': 1, 'insisti': 1, 'cotubre': 1, 'copañia': 1, 'contratamos': 1, 'tner': 1, 'anteceentes': 1, 'detroit': 1, 'constituyó': 1, 'prendar': 1, 'constituída': 1, 'abundamiento': 1, 'psiquiatria': 1, 'saludarle': 1, 'codificación': 1, 'extienden': 1, 'consultarle': 1, 'cumpliera': 1, 'actualizaba': 1, 'autorizada': 1, 'vengan': 1, 'necesitado': 1, 'advirtiendo': 1, 'contraviene': 1, 'melón': 1, 'confusas': 1, 'sucesivas': 1, 'aclaraciones': 1, 'confusión': 1, 'bárbara': 1, 'originada': 1, 'división': 1, 'isanpa': 1, 'corren': 1, 'satisfactorios': 1, 'avisé': 1, 'entregármelo': 1, 'aplicó': 1, 'avisarle': 1, 'subterfugios': 1, 'eludir': 1, 'ekecutivo': 1, 'informaton': 1, 'mostraran': 1, 'corresponderia': 1, 'quitaron': 1, 'psicológicamente': 1, 'monetariamente': 1, 'mugre': 1, 'reseña': 1, 'compañera': 1, 'logar': 1, 'hablábamos': 1, 'papeleta': 1, 'hablamos': 1, 'conto': 1, 'devolvernos': 1, 'desbalance': 1, 'duplicaron': 1, 'creía': 1, 'revisaba': 1, 'bimensualmente': 1, 'negué': 1, 'raya': 1, 'screenshots': 1, 'screnshoots': 1, 'invaluable': 1, 'insistiendole': 1, 'tomarian': 1, 'costaría': 1, 'desamparado': 1, 'enunciado': 1, 'cayó': 1, 'sinsicial': 1, 'ridícula': 1, 'china': 1, 'característica': 1, 'reinvertirlo': 1, 'exacto': 1, 'tomaríamos': 1, 'excusándose': 1, 'destaco': 1, 'evitado': 1, 'mkúltiples': 1, 'dasa': 1, 'mezclar': 1, 'psoriáitica': 1, 'doumento': 1, 'desvirtuar': 1, 'ése': 1, 'dr': 1, 'reumatología': 1, 'cn': 1, 'aprobó': 1, 'infinidad': 1, 'promedia': 1, 'vendedores': 1, 'cortos': 1, 'tratamos': 1, 'revisamos': 1, 'justas': 1, 'apelamos': 1, 'involucramos': 1, 'insuficiencia': 1, 'hepática': 1, 'padecida': 1, 'index': 1, 'capturas': 1, 'prespuesto': 1, 'ilogico': 1, 'llamandolos': 1, 'conceguir': 1, 'consumen': 1, 'tipica': 1, 'musiquita': 1, 'enviare': 1, 'ilogicas': 1, 'limitan': 1, 'incorporada': 1, 'origine': 1, 'permitidos': 1, 'recibiría': 1, 'corresponderían': 1, 'visualizan': 1, 'visualizado': 1, 'consideraría': 1, 'rescatado': 1, 'canalizado': 1, 'virtuales': 1, 'aqueja': 1, 'plantee': 1, 'incorrecto': 1, 'indeterminado': 1, 'indeformable': 1, 'cm': 1, 'encuenta': 1, 'cocos': 1, 'arrastre': 1, 'colisionar': 1, 'intercambios': 1, 'aguanto': 1, 'frontalmente': 1, 'brazos': 1, 'operamos': 1, 'hernia': 1, 'inguinal': 1, 'pad': 1, 'envíamos': 1, 'contraloría': 1, 'lava': 1, 'cansados': 1, 'afines': 1, 'desprotegido': 1, 'arriesgado': 1, 'mandos': 1, 'aseveraciones': 1, 'entromete': 1, 'autorizaci': 1, 'actuan': 1, 'vulnerando': 1, 'falseando': 1, 'informaci': 1, 'scanearla': 1, 'pesada': 1, 'aqu': 1, 'incómodo': 1, 'resposnabilizan': 1, 'ofertdo': 1, 'avisarán': 1, 'mesadeatencion': 1, 'larrainvial': 1, 'inforsa': 1, 'recuperaran': 1, 'waldo': 1, 'riveros': 1, 'computación': 1, 'manuales': 1, 'recuperados': 1, 'disfrutan': 1, 'suculentas': 1, 'sacrificio': 1, 'recuperarlas': 1, 'concluyo': 1, 'despojada': 1, 'desaparecio': 1, 'devia': 1, 'nuemro': 1, 'mmmm': 1, 'seguiria': 1, 'facturacion': 1, 'ncg': 1, 'opto': 1, 'inconclusas': 1, 'originaron': 1, 'voluntarios': 1, 'rentar': 1, 'ainformar': 1, 'hacerli': 1, 'renovo': 1, 'desgraciadamebte': 1, 'qur': 1, 'li': 1, 'renu': 1, 'ciar': 1, 'castigaran': 1, 'repetidas': 1, 'emergentes': 1, 'alfa': 1, 'fusionado': 1, 'emergente': 1, 'acusado': 1, 'retirarme': 1, 'uber': 1, 'comprarse': 1, 'grabado': 1, 'sanitaria': 1, 'diputados': 1, 'concluido': 1, 'andinas': 1, 'recomendaban': 1, 'discutí': 1, 'razonamientos': 1, 'sustentaba': 1, 'indicándole': 1, 'cercanos': 1, 'instruí': 1, 'afirmativamente': 1, 'alcanzaban': 1, 'manteniéndose': 1, 'explicará': 1, 'potenciales': 1, 'procesado': 1, 'regulan': 1, 'limitarse': 1, 'ahondando': 1, 'percat': 1, 'hab': 1, 'ten': 1, 'fotocopiaron': 1, 'volv': 1, 'seguia': 1, 'desaparecidos': 1, 'rota': 1, 'intracerebral': 1, 'ecedi': 1, 'diriji': 1, 'nero': 1, 'caere': 1, 'acusando': 1, 'opera': 1, 'emití': 1, 'falleci': 1, 'concurr': 1, 'encontre': 1, 'particularmente': 1, 'interponiendo': 1, 'ponce': 1, 'motta': 1, 'guzman': 1, 'leonidas': 1, 'retribuido': 1, 'cotizamos': 1, 'activaría': 1, 'anexas': 1, 'fórmulas': 1, 'cotacto': 1, 'autorice': 1, 'asumi': 1, 'inoperancia': 1, 'rectificando': 1, 'admitiendo': 1, 'desdeel': 1, 'rich': 1, 'negue': 1, 'dimensionar': 1, 'estara': 1, 'demasiadas': 1, 'baso': 1, 'sólidos': 1, 'honesta': 1, 'alinearse': 1, 'equivoca': 1, 'vieron': 1, 'regularizaran': 1, 'reembolsarian': 1, 'olvidándose': 1, 'descartar': 1, 'advertirle': 1, 'veer': 1, 'inhabilitada': 1, 'insitutución': 1, 'sumar': 1, 'obtendo': 1, 'heurístico': 1, 'csg': 1, 'finalizaron': 1, 'inspeccionados': 1, 'pedirían': 1, 'vacío': 1, 'descontadas': 1, 'contactarlos': 1, 'senalarme': 1, 'fracturas': 1, 'conductora': 1, 'inmovilizada': 1, 'empezando': 1, 'caminar': 1, 'andador': 1, 'muletas': 1, 'gestionara': 1, 'solicitarla': 1, 'reparos': 1, 'largamente': 1, 'daran': 1, 'superintencia': 1, 'aseguradas': 1, 'polidactilia': 1, 'redactar': 1, 'publicitar': 1, 'folleto': 1, 'constancias': 1, 'empiezo': 1, 'llenara': 1, 'responsabilizara': 1, 'preparada': 1, 'entregaban': 1, 'tc': 1, 'prevista': 1, 'eliminandome': 1, 'instruido': 1, 'dólar': 1, 'invertida': 1, 'inversióntenga': 1, 'distitna': 1, 'recuperando': 1, 'btgpactual': 1, 'solicitarian': 1, 'entra': 1, 'instruye': 1, 'involucra': 1, 'continuando': 1, 'solicitara': 1, 'especificas': 1, 'pusimos': 1, 'converse': 1, 'aycliquidadores': 1, 'gastritis': 1, 'higado': 1, 'graso': 1, 'asuman': 1, 'manga': 1, 'gástrica': 1, 'millon': 1, 'televisor': 1, 'lcd': 1, 'vendi': 1, 'cerró': 1, 'revalidación': 1, 'basicamente': 1, 'reembolsa': 1, 'removibles': 1, 'dentista': 1, 'citas': 1, 'tri': 1, 'descargos': 1, 'admitira': 1, 'perfeccion': 1, 'incluidas': 1, 'inscrita': 1, 'extiende': 1, 'estanques': 1, 'matrices': 1, 'entradas': 1, 'pay': 1, 'llenarlos': 1, 'intransferible': 1, 'comprobación': 1, 'cuaderno': 1, 'aproximandos': 1, 'mwe': 1, 'demasiada': 1, 'anulé': 1, 'defraudaciones': 1, 'market': 1, 'domiciliada': 1, 'hubieren': 1, 'aproximada': 1, 'dedujo': 1, 'querella': 1, 'to': 1, 'tube': 1, 'arbitro': 1, 'respaldatoria': 1, 'pretendida': 1, 'moderado': 1, 'distribuidor': 1, 'ejecutadas': 1, 'reemplazan': 1, 'manejan': 1, 'apoya': 1, 'bellavista': 1, 'contemplarse': 1, 'específicas': 1, 'conceder': 1, 'adhesión': 1, 'firmarse': 1, 'usual': 1, 'milium': 1, 'mandarlos': 1, 'emitio': 1, 'aducir': 1, 'teme': 1, 'adusen': 1, 'biosia': 1, 'nombran': 1, 'pediria': 1, 'extirpar': 1, 'quistesy': 1, 'extraviada': 1, 'sodimac': 1, 'sermecoop': 1, 'liquidara': 1, 'fiat': 1, 'palio': 1, 'queratocono': 1, 'transplantado': 1, 'cornea': 1, 'mejoría': 1, 'avanzado': 1, 'tórpida': 1, 'financial': 1, 'ulf': 1, 'regirán': 1, 'decimales': 1, 'agudeza': 1, 'pág': 1, 'edición': 1, 'queratótomo': 1, 'tabla': 1, 'combinado': 1, 'formula': 1, 'encontrarlas': 1, 'toyota': 1, 'juntado': 1, 'cascacda': 1, 'cascada': 1, 'influyo': 1, 'informatico': 1, 'entendera': 1, 'conozca': 1, 'mica': 1, 'denominan': 1, 'dianmica': 1, 'jorge': 1, 'envaida': 1, 'incumplio': 1, 'maullín': 1, 'refractaria': 1, 'psiquiatras': 1, 'anciano': 1, 'evaluó': 1, 'calificó': 1, 'psiquiátrico': 1, 'acreditan': 1, 'diferida': 1, 'goce': 1, 'irrevocable': 1, 'revocarse': 1, 'priva': 1, 'sobrevive': 1, 'modesta': 1, 'anciana': 1, 'esquizofrénica': 1, 'tenerme': 1, 'arriesgaré': 1, 'atrapada': 1, 'ayudaaa': 1, 'hyndai': 1, 'new': 1, 'supuestamemnte': 1, 'integrado': 1, 'habalr': 1, 'ruben': 1, 'beltrami': 1, 'dedirme': 1, 'eeor': 1, 'explicaiones': 1, 'aceptarme': 1, 'aumente': 1, 'crei': 1, 'chiquito': 1, 'varona': 1, 'remitida': 1, 'brillance': 1, 'plateado': 1, 'fundas': 1, 'molduras': 1, 'largos': 1, 'agotadores': 1, 'peleados': 1, 'fortaleza': 1, 'repáralo': 1, 'vemos': 1, 'inusual': 1, 'provocó': 1, 'indirectamente': 1, 'concuerda': 1, 'redacción': 1, 'habiéndome': 1, 'interpreta': 1, 'insertan': 1, 'deducen': 1, 'serios': 1, 'urinaria': 1, 'poseí': 1, 'adjunté': 1, 'urodinamico': 1, 'aguirre': 1, 'herpes': 1, 'zoster': 1, 'brescia': 1, 'asombroso': 1, 'actualizada': 1, 'litoral': 1, 'chillán': 1, 'comercializarse': 1, 'neta': 1, 'expresarles': 1, 'poseedor': 1, 'indefensa': 1, 'percata': 1, 'regularse': 1, 'apuesta': 1, 'buscador': 1, 'michel': 1, 'chain': 1, 'vesical': 1, 'remití': 1, 'obtuviera': 1, 'vto': 1, 'agrita': 1, 'desprendre': 1, 'repitio': 1, 'talleristas': 1, 'agrieta': 1, 'adherencia': 1, 'comprometían': 1, 'frescura': 1, 'antojo': 1, 'industrias': 1, 'forestales': 1, 'preparados': 1, 'cañería': 1, 'contemplan': 1, 'obviaron': 1, 'fijando': 1, 'contratista': 1, 'deducibe': 1, 'cambiarían': 1, 'chequearan': 1, 'enfermada': 1, 'informarron': 1, 'estusa': 1, 'indenizaran': 1, 'damaris': 1, 'pueges': 1, 'correso': 1, 'acreencia': 1, 'entiedad': 1, 'renovados': 1, 'papás': 1, 'injusta': 1, 'rechazarón': 1, 'tramitacion': 1, 'registrando': 1, 'correspondian': 1, 'llaga': 1, 'formalizado': 1, 'cámbiese': 1, 'fácilmente': 1, 'falsificada': 1, 'part': 1, 'ahorrocop': 1, 'consultara': 1, 'demorarían': 1, 'supervisados': 1, 'justifican': 1, 'desconozcan': 1, 'jul': 1, 'nieve': 1, 'infraestructura': 1, 'agregan': 1, 'crearon': 1, 'exclusivo': 1, 'citó': 1, 'anomalía': 1, 'panorámico': 1, 'inexiste': 1, 'llevaría': 1, 'duplicar': 1, 'denota': 1, 'devolvieran': 1, 'debengarían': 1, 'prepagarían': 1, 'debidoa': 1, 'devueltas': 1, 'agregué': 1, 'multifondos': 1, 'restituyendo': 1, 'continuaron': 1, 'maña': 1, 'muñoz': 1, 'exoneración': 1, 'bonita': 1, 'excel': 1, 'parrilla': 1, 'definieron': 1, 'comparable': 1, 'subsidian': 1, 'quitarme': 1, 'vestigio': 1, 'dijeran': 1, 'liquidarlo': 1, 'resposabilidad': 1, 'desasen': 1, 'gusto': 1, 'paginas': 1, 'investing': 1, 'pesa': 1, 'rentas': 1, 'variables': 1, 'carle': 1, 'gaju': 1, 'informarán': 1, 'castigar': 1, 'optimizar': 1, 'rta': 1, 'veronica': 1, 'contestaban': 1, 'confirmarle': 1, 'instruccion': 1, 'incentivo': 1, 'individuales': 1, 'aportación': 1, 'interpretarse': 1, 'comenzara': 1, 'vesícula': 1, 'decline': 1, 'alineados': 1, 'corporativos': 1, 'implementado': 1, 'seguimientos': 1, 'servidor': 1, 'sab': 1, 'eliminarme': 1, 'debiesen': 1, 'evaden': 1, 'salgo': 1, 'despedir': 1, 'convertirme': 1, 'impuntual': 1, 'decidan': 1, 'automáticas': 1, 'qie': 1, 'pintado': 1, 'recalienta': 1, 'quince': 1, 'chillan': 1, 'inserto': 1, 'recibirán': 1, 'operara': 1, 'pedirán': 1, 'merita': 1, 'decretó': 1, 'cerebro': 1, 'vascular': 1, 'menscabado': 1, 'pronuncin': 1, 'disctámente': 1, 'segurois': 1, 'hcuch': 1, 'indemnizandome': 1, 'aceptable': 1, 'comprometiéndose': 1, 'subdesarrollo': 1, 'esperan': 1, 'ejemplificador': 1, 'pozos': 1, 'choques': 1, 'absurda': 1, 'acojo': 1, 'av': 1, 'contactarn': 1, 'senalado': 1, 'atreves': 1, 'acercamos': 1, 'valga': 1, 'redundancia': 1, 'papa': 1, 'provocan': 1, 'haciéndonos': 1, 'vano': 1, 'cumpliese': 1, 'anulaba': 1, 'extinguirse': 1, 'excedemos': 1, 'edades': 1, 'denominada': 1, 'mamario': 1, 'actuaron': 1, 'perfecta': 1, 'identificandose': 1, 'dejara': 1, 'venderemos': 1, 'ofrecemos': 1, 'comparables': 1, 'condici': 1, 'establecen': 1, 'seran': 1, 'respetaran': 1, 'ejercen': 1, 'presi': 1, 'encontrarse': 1, 'refinanciamientos': 1, 'ratifica': 1, 'experiencias': 1, 'extrema': 1, 'lavaron': 1, 'gustaba': 1, 'deberle': 1, 'repactacion': 1, 'perdían': 1, 'repactada': 1, 'inidcan': 1, 'folios': 1, 'destinarlos': 1, 'finance': 1, 'nemotécnicos': 1, 'cfmboticea': 1, 'cfmcfnrepa': 1, 'señalados': 1, 'perjudicó': 1, 'contingencias': 1, 'urgentes': 1, 'autorizó': 1, 'pecuniarias': 1, 'asia': 1, 'fijados': 1, 'circunstanciadamente': 1, 'practicaron': 1, 'reglamentos': 1, 'reiteré': 1, 'proporcionado': 1, 'santafe': 1, 'ños': 1, 'palzo': 1, 'haverse': 1, 'companía': 1, 'huviese': 1, 'anticipaci': 1, 'cumplío': 1, 'aprecial': 1, 'carátula': 1, 'afirmaba': 1, 'bajas': 1, 'renovaciones': 1, 'sentimos': 1, 'abusados': 1, 'sinistrorsos': 1, 'sesantia': 1, 'precente': 1, 'encontaron': 1, 'dine': 1, 'kiles': 1, 'respondo': 1, 'paran': 1, 'aparecían': 1, 'informarón': 1, 'reactivarla': 1, 'frecuencia': 1, 'ventana': 1, 'leves': 1, 'ocurrieron': 1, 'declararon': 1, 'admitían': 1, 'apuntaba': 1, 'etiqueta': 1, 'crasos': 1, 'perjudican': 1, 'creando': 1, 'aventura': 1, 'variado': 1, 'afortunadamente': 1, 'volviera': 1, 'entregarán': 1, 'interconsulta': 1, 'escolar': 1, 'cauces': 1, 'aposamiento': 1, 'consecuentes': 1, 'interseccion': 1, 'bello': 1, 'oriente': 1, 'colisionando': 1, 'omitiendo': 1, 'consolidar': 1, 'cubriría': 1, 'siguio': 1, 'senorita': 1, 'yao': 1, 'aprobo': 1, 'darles': 1, 'comer': 1, 'cambiaban': 1, 'coementarios': 1, 'sabado': 1, 'macul': 1, 'alessandri': 1, 'dispensadores': 1, 'anotando': 1, 'diendome': 1, 'emito': 1, 'cooperacion': 1, 'capacidades': 1, 'corfo': 1, 'cancelándolo': 1, 'postulando': 1, 'continuara': 1, 'deposita': 1, 'regularicé': 1, 'camiones': 1, 'entregándonos': 1, 'carrasco': 1, 'carvajal': 1, 'eirl': 1, 'centrales': 1, 'emitidas': 1, 'regional': 1, 'denunciando': 1, 'instalada': 1, 'arreglada': 1, 'cambiada': 1, 'especificaron': 1, 'tipificado': 1, 'mantenerse': 1, 'ensu': 1, 'invocar': 1, 'reembolsarían': 1, 'medicamente': 1, 'constatando': 1, 'poniéndole': 1, 'descontármelo': 1, 'efectuarme': 1, 'pieza': 1, 'cotizaron': 1, 'instalación': 1, 'preferenciales': 1, 'conseguirán': 1, 'formulados': 1, 'reclamas': 1, 'sancionen': 1, 'intercambio': 1, 'confirmara': 1, 'efectuarían': 1, 'continuaban': 1, 'efectuándose': 1, 'confirme': 1, 'culpo': 1, 'comparten': 1, 'alarmante': 1, 'nomina': 1, 'gravísima': 1, 'tratará': 1, 'aislada': 1, 'injustas': 1, 'contarle': 1, 'soltera': 1, 'amiguito': 1, 'calmaran': 1, 'resguardaran': 1, 'jardín': 1, 'infantil': 1, 'impedían': 1, 'abandonar': 1, 'parta': 1, 'decidimos': 1, 'encontrábamos': 1, 'bronquitis': 1, 'laringitis': 1, 'mediodía': 1, 'reconsideré': 1, 'volatilidades': 1, 'generalizadas': 1, 'manipulando': 1, 'manadato': 1, 'loq': 1, 'suplicar': 1, 'reactivaran': 1, 'disculpe': 1, 'dudad': 1, 'abra': 1, 'confiabilidad': 1, 'perp': 1, 'clasificaron': 1, 'controladoras': 1, 'repite': 1, 'afilié': 1, 'hipotiroidismo': 1, 'descompensacion': 1, 'digiieron': 1, 'escala': 1, 'mercalli': 1, 'ocasion': 1, 'visitaron': 1, 'evidentes': 1, 'efectue': 1, 'quisco': 1, 'evaluados': 1, 'efectuan': 1, 'pullman': 1, 'agradecemos': 1, 'sorteo': 1, 'israel': 1, 'lobovsky': 1, 'cedía': 1, 'ppor': 1, 'cesión': 1, 'cartela': 1, 'sensibles': 1, 'solicitación': 1, 'dactilar': 1, 'exceden': 1, 'constó': 1, 'agradables': 1, 'panendoscopia': 1, 'existio': 1, 'selfin': 1, 'agrupaban': 1, 'organizaciones': 1, 'muruos': 1, 'iniciativa': 1, 'semanna': 1, 'stress': 1, 'rutinas': 1, 'normales': 1, 'inconvenistes': 1, 'feriados': 1, 'pasciencia': 1, 'liquidaror': 1, 'desido': 1, 'enfrentarlo': 1, 'whats': 1, 'sobrepasa': 1, 'jpv': 1, 'especializados': 1, 'educa': 1, 'justificaciones': 1, 'retrocediendo': 1, 'riña': 1, 'callejera': 1, 'golpea': 1, 'partiéndolo': 1, 'poste': 1, 'dinámicas': 1, 'errada': 1, 'revisaría': 1, 'verlo': 1, 'electrometalurgica': 1, 'quemchi': 1, 'fvor': 1, 'soluci': 1, 'indirecta': 1, 'vencida': 1, 'mildel': 1, 'pyme': 1, 'comenzamos': 1, 'notar': 1, 'mantenimiento': 1, 'manteniamos': 1, 'berger': 1, 'habiamo': 1, 'reclasificados': 1, 'tramo': 1, 'cumpliamos': 1, 'habersenos': 1, 'aceptabamos': 1, 'aceptarlo': 1, 'vamos': 1, 'ejecutaron': 1, 'avisaron': 1, 'clasifican': 1, 'erróneo': 1, 'vertidos': 1, 'candidato': 1, 'presidencial': 1, 'penados': 1, 'difundir': 1, 'persigue': 1, 'absorvio': 1, 'ángeless': 1, 'depositará': 1, 'ostentan': 1, 'monitoreo': 1, 'planifiqué': 1, 'afirmándome': 1, 'tratarán': 1, 'gyg': 1, 'reyco': 1, 'colaboradores': 1, 'odontologo': 1, 'acercandome': 1, 'enfermó': 1, 'mononucleosis': 1, 'aceptó': 1, 'procederian': 1, 'rechazarlo': 1, 'recibó': 1, 'normativo': 1, 'obstaculizando': 1, 'normativos': 1, 'plique': 1, 'especiales': 1, 'desequilibrio': 1, 'ítalo': 1, 'vergara': 1, 'guiando': 1, 'salí': 1, 'palabra': 1, 'generan': 1, 'guiaba': 1, 'compresión': 1, 'restituido': 1, 'variadas': 1, 'chutean': 1, 'giftcard': 1, 'pacté': 1, 'guardada': 1, 'consabida': 1, 'asamblea': 1, 'mayoritariamente': 1, 'repartieron': 1, 'cerraran': 1, 'ubicaba': 1, 'reducirlo': 1, 'promociones': 1, 'cunplieron': 1, 'promocion': 1, 'snverguenzas': 1, 'qye': 1, 'despiden': 1, 'desfasada': 1, 'validada': 1, 'cancelará': 1, 'enviarse': 1, 'fecu': 1, 'dictado': 1, 'comentarles': 1, 'contactada': 1, 'atractivo': 1, 'basica': 1, 'dl': 1, 'declaracoion': 1, 'emdidas': 1, 'falleciera': 1, 'oblicacion': 1, 'grve': 1, 'sicologiaco': 1, 'eprincipal': 1, 'reconcen': 1, 'gestionan': 1, 'omisa': 1, 'agravando': 1, 'altamente': 1, 'castigan': 1, 'bellotas': 1, 'solicicite': 1, 'ficalizar': 1, 'sys': 1, 'condiciona': 1, 'sucrita': 1, 'transportes': 1, 'top': 1, 'tur': 1, 'condicionar': 1, 'contusión': 1, 'abdomen': 1, 'incorporarlas': 1, 'cobrandome': 1, 'intensas': 1, 'precipitaciones': 1, 'acontecer': 1, 'noticioso': 1, 'filtro': 1, 'entretecho': 1, 'recoleta': 1, 'viéndose': 1, 'planchas': 1, 'zinc': 1, 'vulcanita': 1, 'manifesté': 1, 'proporcionaba': 1, 'estimaba': 1, 'obtuvieran': 1, 'ratifico': 1, 'notificándome': 1, 'citro': 1, 'tapabarros': 1, 'guardafangos': 1, 'plástico': 1, 'tercio': 1, 'punzante': 1, 'emblemas': 1, 'farol': 1, 'acordé': 1, 'instalado': 1, 'sueltas': 1, 'tramito': 1, 'sustitución': 1, 'encargadas': 1, 'llegarán': 1, 'insistiéndome': 1, 'caducará': 1, 'raúl': 1, 'oyarzun': 1, 'neumáticos': 1, 'otorgarán': 1, 'confuso': 1, 'promueve': 1, 'parcela': 1, 'deseábamos': 1, 'planta': 1, 'alcantarillado': 1, 'hipotecaria': 1, 'mencionándonos': 1, 'escribíamos': 1, 'manquehue': 1, 'felipe': 1, 'lillo': 1, 'mencionarnos': 1, 'extraviado': 1, 'municipio': 1, 'arquitectos': 1, 'constructor': 1, 'piedo': 1, 'fair': 1, 'biologicos': 1, 'fraccion': 1, 'porq': 1, 'unilaterelemente': 1, 'lavadora': 1, 'secadora': 1, 'lavado': 1, 'detergente': 1, 'espuma': 1, 'omo': 1, 'facilitado': 1, 'funcionado': 1, 'febreo': 1, 'solicitarme': 1, 'estilo': 1, 'sali': 1, 'omision': 1, 'contratara': 1, 'cuuota': 1, 'cobrarmelo': 1, 'marco': 1, 'considerarlos': 1, 'fulguracion': 1, 'arritmia': 1, 'programada': 1, 'limito': 1, 'logo': 1, 'razonamiento': 1, 'cpor': 1, 'contempladas': 1, 'tradicionales': 1, 'marcapasos': 1, 'consalud': 1, 'cuestionaron': 1, 'depositaban': 1, 'transbank': 1, 'degradasen': 1, 'estándar': 1, 'salgan': 1, 'digitado': 1, 'corrigieron': 1, 'atónita': 1, 'básica': 1, 'pudor': 1, 'duplica': 1, 'digestiva': 1, 'sangramiento': 1, 'digestivo': 1, 'telemarketing': 1, 'conllevaba': 1, 'tómese': 1, 'curado': 1, 'sanado': 1, 'malicioso': 1, 'separarse': 1, 'inventar': 1, 'separados': 1, 'navideñas': 1, 'conectó': 1, 'explotó': 1, 'incendiando': 1, 'árbol': 1, 'pascua': 1, 'enojada': 1, 'gifcard': 1, 'ofendida': 1, 'dios': 1, 'estudiante': 1, 'recomendada': 1, 'mpmento': 1, 'auro': 1, 'entregarle': 1, 'person': 1, 'almente': 1, 'retrasar': 1, 'pesadilla': 1, 'tramitara': 1, 'adecuadas': 1, 'acreditara': 1, 'descontarían': 1, 'depositadas': 1, 'interrumpidamente': 1, 'clientebancario': 1, 'generadora': 1, 'dá': 1, 'pelotean': 1, 'asegurándolo': 1, 'automora': 1, 'portillo': 1, 'modos': 1, 'economicos': 1, 'carretera': 1, 'perro': 1, 'esquivar': 1, 'controlarlo': 1, 'atropelló': 1, 'atravesado': 1, 'esquivarlo': 1, 'impactando': 1, 'barrera': 1, 'contención': 1, 'incrementó': 1, 'falaballa': 1, 'culpandome': 1, 'generandome': 1, 'comp': 1, 'ñia': 1, 'diaz': 1, 'sone': 1, 'disponia': 1, 'exepcion': 1, 'catastrofe': 1, 'anos': 1, 'acerce': 1, 'habitable': 1, 'enviandoles': 1, 'demostrarles': 1, 'fusionarse': 1, 'tam': 1, 'investiga': 1, 'familias': 1, 'poderosas': 1, 'premios': 1, 'empresarial': 1, 'cueto': 1, 'rallados': 1, 'individuo': 1, 'renovando': 1, 'eraclio': 1, 'partieron': 1, 'cuestionando': 1, 'responderían': 1, 'aparicion': 1, 'contactaria': 1, 'daria': 1, 'sucedio': 1, 'renovaran': 1, 'existira': 1, 'juramento': 1, 'entenderan': 1, 'aseguraran': 1, 'sucedera': 1, 'cubriran': 1, 'redeclarar': 1, 'casado': 1, 'conyugal': 1, 'lanzo': 1, 'caiga': 1, 'asaltos': 1, 'sufri': 1, 'asalto': 1, 'traumante': 1, 'chip': 1, 'activado': 1, 'habiendola': 1, 'avalaba': 1, 'insistieron': 1, 'haciéndome': 1, 'nefasta': 1, 'automovilístico': 1, 'afiliar': 1, 'respetados': 1, 'evasiva': 1, 'localizarnos': 1, 'réplica': 1, 'marcoleta': 1, 'origino': 1, 'intervenirme': 1, 'pedida': 1, 'aburrir': 1, 'preparar': 1, 'defectos': 1, 'cias': 1, 'impuse': 1, 'decentes': 1, 'manifestarle': 1, 'disposicion': 1, 'sostenidas': 1, 'republica': 1, 'dominicana': 1, 'bajaba': 1, 'europe': 1, 'assistence': 1, 'esperámos': 1, 'esperamos': 1, 'hotel': 1, 'elegimos': 1, 'llegados': 1, 'preocupada': 1, 'mariano': 1, 'ingresarían': 1, 'reliquidarían': 1, 'bajaron': 1, 'moderados': 1, 'smchile': 1, 'objeciones': 1, 'representacion': 1, 'viudez': 1, 'mafre': 1, 'objetaron': 1, 'legalizadas': 1, 'gestionado': 1, 'trebol': 1, 'abro': 1, 'requiera': 1, 'lamo': 1, 'conoce': 1, 'utilizo': 1, 'numerosos': 1, 'comuniquen': 1, 'deseosa': 1, 'clarificacion': 1, 'xtrail': 1, 'piedra': 1, 'trizó': 1, 'tranquilos': 1, 'considerábamos': 1, 'valide': 1, 'acordándome': 1, 'modificara': 1, 'empeora': 1, 'solucionan': 1, 'empiezan': 1, 'colusion': 1, 'atrasar': 1, 'comenzarán': 1, 'toronto': 1, 'clandestina': 1, 'giró': 1, 'seguían': 1, 'discrepancias': 1, 'dependencia': 1, 'módulo': 1, 'jumbo': 1, 'habilitados': 1, 'preferentes': 1, 'poseíamos': 1, 'redujeron': 1, 'valorizadas': 1, 'participado': 1, 'pensarlo': 1, 'provista': 1, 'compuesta': 1, 'acontecidos': 1, 'voucher': 1, 'vinculo': 1, 'vive': 1, 'elle': 1, 'regularización': 1, 'proximidad': 1, 'sentía': 1, 'diabética': 1, 'depósitado': 1, 'subaru': 1, 'outback': 1, 'bianual': 1, 'miercoles': 1, 'satisfctoria': 1, 'inspeccionara': 1, 'cerato': 1, 'miguel': 1, 'sub': 1, 'parque': 1, 'desenzani': 1, 'basándome': 1, 'romero': 1, 'surgió': 1, 'rendirlas': 1, 'manteníamos': 1, 'buanas': 1, 'beagle': 1, 'compuesto': 1, 'igpa': 1, 'caerá': 1, 'posiciones': 1, 'ocurra': 1, 'luis': 1, 'moll': 1, 'pacheco': 1, 'claudia': 1, 'compañeras': 1, 'carteles': 1, 'ubicables': 1, 'trayectoria': 1, 'tirar': 1, 'convenía': 1, 'remataria': 1, 'dejáramos': 1, 'cuántos': 1, 'quiénes': 1, 'atrasé': 1, 'celebré': 1, 'quice': 1, 'repacte': 1, 'exenta': 1, 'dispuso': 1, 'instruyo': 1, 'poseyeran': 1, 'optado': 1, 'idéntico': 1, 'order': 1, 'php': 1, 'linterna': 1, 'lumify': 1, 'dedicado': 1, 'citando': 1, 'citados': 1, 'tarjetahabiente': 1, 'colocador': 1, 'timbrado': 1, 'epositado': 1, 'escueta': 1, 'irrefutable': 1, 'securiry': 1, 'incurriendo': 1, 'creó': 1, 'comprende': 1, 'reporting': 1, 'laurie': 1, 'kelly': 1, 'investor': 1, 'relations': 1, 'aseguraban': 1, 'ccss': 1, 'cardi': 1, 'reportada': 1, 'decrecerían': 1, 'gradualmente': 1, 'ayudaría': 1, 'derogó': 1, 'regirá': 1, 'radicalmente': 1, 'solicitará': 1, 'alterada': 1, 'aquejado': 1, 'agudo': 1, 'estómago': 1, 'concluyó': 1, 'apéndicitis': 1, 'prescribió': 1, 'apendectomía': 1, 'ama': 1, 'resorte': 1, 'configurar': 1, 'prefectura': 1, 'cartioa': 1, 'futura': 1, 'perderlo': 1, 'fechada': 1, 'sobres': 1, 'ancud': 1, 'becket': 1, 'climática': 1, 'permitiría': 1, 'ocurría': 1, 'rebajando': 1, 'décima': 1, 'anunciado': 1, 'transaron': 1, 'transarse': 1, 'suplantación': 1, 'incompatibilidad': 1, 'trizaron': 1, 'freno': 1, 'plastico': 1, 'estaria': 1, 'impecable': 1, 'tarjetade': 1, 'targeta': 1, 'recalque': 1, 'martercad': 1, 'marinsa': 1, 'mercados': 1, 'deprimidos': 1, 'basados': 1, 'solicitaran': 1, 'obtuvieron': 1, 'analizado': 1, 'electronicas': 1, 'apropian': 1, 'apropiaron': 1, 'mire': 1, 'sinietsro': 1, 'enro': 1, 'jhasta': 1, 'pagadpo': 1, 'lea': 1, 'ladada': 1, 'coyhaiquye': 1, 'barco': 1, 'aseguradoera': 1, 'tamburrinos': 1, 'litda': 1, 'cxambio': 1, 'apuerto': 1, 'mont': 1, 'estanb': 1, 'mmuchas': 1, 'iregularidades': 1, 'cometieron': 1, 'automáticos': 1, 'deriba': 1, 'apersono': 1, 'civiles': 1, 'levantamiento': 1, 'guros': 1, 'observacione': 1, 'tabiqueria': 1, 'fierro': 1, 'concreto': 1, 'escaneado': 1, 'limitado': 1, 'llegaban': 1, 'intruccion': 1, 'direcciones': 1, 'ubicarlos': 1, 'prometió': 1, 'ventajas': 1, 'renovarán': 1, 'folletos': 1, 'explicativos': 1, 'primar': 1, 'signifique': 1, 'deduzco': 1, 'transgresión': 1, 'olvidarse': 1, 'adherirme': 1, 'ft': 1, 'elimina': 1, 'estimad': 1, 'contesté': 1, 'asesora': 1, 'afecciones': 1, 'consultadas': 1, 'perfil': 1, 'bioquímico': 1, 'hemoglobina': 1, 'glicosilada': 1, 'excluyendo': 1, 'sana': 1, 'endocrinólogo': 1, 'recetado': 1, 'levotiroxina': 1, 'afección': 1, 'tiroide': 1, 'clinicalascondes': 1, 'revista': 1, 'dica': 1, 'hidalgo': 1, 'descarta': 1, 'búsqueda': 1, 'descubrió': 1, 'socavones': 1, 'hospicio': 1, 'inhabitalidad': 1, 'block': 1, 'observa': 1, 'informándole': 1, 'cerrados': 1, 'metodo': 1, 'ejecutar': 1, 'asesoramiento': 1, 'acusó': 1, 'escribió': 1, 'mbj': 1, 'disculpándose': 1, 'respondimos': 1, 'correspondido': 1, 'diciéndoles': 1, 'entregárnoslos': 1, 'convertible': 1, 'escribimos': 1, 'habitabilidad': 1, 'existentes': 1, 'llegué': 1, 'acinversions': 1, 'desprolija': 1, 'desatendida': 1, 'hacían': 1, 'rentabilizar': 1, 'excelente': 1, 'estudié': 1, 'supervisaba': 1, 'manejaban': 1, 'palomas': 1, 'chocando': 1, 'bandejon': 1, 'nuematico': 1, 'vulcanizacion': 1, 'empezó': 1, 'calentar': 1, 'estaciones': 1, 'ta': 1, 'recibía': 1, 'rara': 1, 'correntista': 1, 'dibujo': 1, 'graficara': 1, 'venir': 1, 'reenviaría': 1, 'formulado': 1, 'brasileiro': 1, 'módulos': 1, 'aparecieran': 1, 'subirán': 1, 'cobrármelo': 1, 'adendum': 1, 'nmoneda': 1, 'distraído': 1, 'balmaceda': 1, 'ci': 1, 'desempleado': 1, 'morosa': 1, 'joder': 1, 'excedió': 1, 'aumentaban': 1, 'contestadas': 1, 'sucedía': 1, 'carpetas': 1, 'tramitada': 1, 'sorprendida': 1, 'reflejada': 1, 'frenar': 1, 'grotescamente': 1, 'segautomovil': 1, 'fallas': 1, 'utilizarlo': 1, 'escucharme': 1, 'viejo': 1, 'freddy': 1, 'kohnenkampf': 1, 'favorablemente': 1, 'explicarles': 1, 'facetaría': 1, 'apnea': 1, 'sueño': 1, 'polisomnografia': 1, 'mellitus': 1, 'rebajado': 1, 'subsidios': 1, 'apunto': 1, 'caduca': 1, 'compensar': 1, 'agote': 1, 'elusiva': 1, 'arrogan': 1, 'competen': 1, 'posesion': 1, 'notariada': 1, 'depositario': 1, 'confieren': 1, 'veintres': 1, 'ingeproc': 1, 'sol': 1, 'proyecto': 1, 'setescientos': 1, 'ochenta': 1, 'aprobara': 1, 'elegian': 1, 'comprometiera': 1, 'elevado': 1, 'distinto': 1, 'piedrazo': 1, 'tapiz': 1, 'haran': 1, 'guardado': 1, 'emrcado': 1, 'observó': 1, 'acercan': 1, 'adquirimos': 1, 'licito': 1, 'fallecer': 1, 'borrado': 1, 'montones': 1, 'lei': 1, 'contratacion': 1, 'tendrian': 1, 'filtracion': 1, 'sectores': 1, 'constata': 1, 'recibíamos': 1, 'perseverar': 1, 'fundado': 1, 'padeció': 1, 'endocarditis': 1, 'cuestionadas': 1, 'firmara': 1, 'cuestionó': 1, 'padecía': 1, 'estatura': 1, 'autopsia': 1, 'recae': 1, 'responsablemente': 1, 'contacta': 1, 'tecna': 1, 'venideras': 1, 'vencían': 1, 'mantuviesen': 1, 'fijadas': 1, 'contactándome': 1, 'cfinrentas': 1, 'compradora': 1, 'transado': 1, 'discordantes': 1, 'preventivos': 1, 'recurrirse': 1, 'gastados': 1, 'procederse': 1, 'ascendiendo': 1, 'contravención': 1, 'rectificarlo': 1, 'considerable': 1, 'asignarme': 1, 'comunicaba': 1, 'tardarían': 1, 'maturana': 1, 'dejándo': 1, 'recados': 1, 'reiterado': 1, 'enterar': 1, 'entró': 1, 'ineficiencias': 1, 'inexplicables': 1, 'desactualizada': 1, 'analista': 1, 'supervisores': 1, 'detectaron': 1, 'mieloide': 1, 'reembolsándonos': 1, 'acabamos': 1, 'resquicios': 1, 'altera': 1, 'economía': 1, 'actualizado': 1, 'aclaratorio': 1, 'emplador': 1, 'resguarda': 1, 'inspectores': 1, 'prepotentes': 1, 'faltos': 1, 'intentan': 1, 'minimizar': 1, 'orgino': 1, 'proposito': 1, 'velando': 1, 'realizaremos': 1, 'rebajara': 1, 'estudiaran': 1, 'ssang': 1, 'yong': 1, 'korando': 1, 'extendieron': 1, 'gravisimo': 1, 'tradicionalmente': 1, 'links': 1, 'controversia': 1, 'árbitro': 1, 'arbitrador': 1, 'superarán': 1, 'instituto': 1, 'virginio': 1, 'gómez': 1, 'atenea': 1, 'pantallas': 1, 'ecotomografías': 1, 'soportante': 1, 'martín': 1, 'expira': 1, 'cumplia': 1, 'altercado': 1, 'metido': 1, 'dista': 1, 'rossana': 1, 'matus': 1, 'contactaría': 1, 'canal': 1, 'presunción': 1, 'maliciosa': 1, 'pólicial': 1, 'puntualizar': 1, 'asistio': 1, 'empadronar': 1, 'confianzaque': 1, 'bitacora': 1, 'probatorio': 1, 'suspendida': 1, 'pedirselo': 1, 'weg': 1, 'otorgaron': 1, 'otorgara': 1, 'reintegrara': 1, 'corrió': 1, 'ajuntece': 1, 'repsuesta': 1, 'junion': 1, 'basan': 1, 'aludir': 1, 'automobil': 1, 'rogar': 1, 'ubicarlo': 1, 'bodega': 1, 'remates': 1, 'aclararon': 1, 'anotó': 1, 'rosada': 1, 'amarilla': 1, 'pintada': 1, 'polia': 1, 'automaticos': 1, 'remediar': 1, 'sugerencias': 1, 'deseperada': 1, 'comprometio': 1, 'custodiar': 1, 'noi': 1, 'interpusimos': 1, 'hubio': 1, 'resarcirnos': 1, 'pasadas': 1, 'impactados': 1, 'rehusa': 1, 'rehusan': 1, 'hurtados': 1, 'figuro': 1, 'eliminada': 1, 'investment': 1, 'grade': 1, 'retorno': 1, 'clasificación': 1, 'horizonte': 1, 'permanecido': 1, 'latinoamericanos': 1, 'fed': 1, 'eeuu': 1, 'disminuye': 1, 'rentaron': 1, 'requeri': 1, 'dirigi': 1, 'solicitaria': 1, 'consistia': 1, 'acompañando': 1, 'comprueban': 1, 'liquidacdor': 1, 'envíar': 1, 'américas': 1, 'condicionados': 1, 'remite': 1, 'embaragarme': 1, 'aca': 1, 'afiliado': 1, 'plantear': 1, 'regularise': 1, 'refiero': 1, 'versan': 1, 'discriminaron': 1, 'discapacitado': 1, 'trataron': 1, 'pésimo': 1, 'rompieron': 1, 'eléctrico': 1, 'descansaré': 1, 'almenos': 1, 'reparando': 1, 'televisión': 1, 'vías': 1, 'ceder': 1, 'tolerar': 1, 'sexto': 1, 'pretendia': 1, 'pensé': 1, 'compraría': 1, 'compraran': 1, 'marcó': 1, 'moviendo': 1, 'gusta': 1, 'venderme': 1, 'conlos': 1, 'bordean': 1, 'fallos': 1, 'abollon': 1, 'pintaron': 1, 'sail': 1, 'negro': 1, 'todooo': 1, 'peliar': 1, 'tsi': 1, 'rotulado': 1, 'cursando': 1, 'plaquetopenia': 1, 'púrpura': 1, 'trombocitopénico': 1, 'inmune': 1, 'pti': 1, 'pancitopenia': 1, 'plaquetas': 1, 'preparación': 1, 'desprendimiento': 1, 'placenta': 1, 'hospitalizarme': 1, 'crítica': 1, 'médula': 1, 'rectificó': 1, 'aplástica': 1, 'inmunosupresor': 1, 'ciclosporina': 1, 'prednisona': 1, 'cotrimoxazol': 1, 'forte': 1, 'transfusiones': 1, 'sangre': 1, 'introdujo': 1, 'eltrombopag': 1, 'liberadas': 1, 'refactura': 1, 'refacturado': 1, 'desmerece': 1, 'remunera': 1, 'gaguen': 1, 'desface': 1, 'contancia': 1, 'estacion': 1, 'trabada': 1, 'cruzadas': 1, 'velasquez': 1, 'viendome': 1, 'escribiendole': 1, 'juntarnos': 1, 'evaluara': 1, 'meciono': 1, 'culpar': 1, 'repararle': 1, 'asegurando': 1, 'quitan': 1, 'cartagena': 1, 'accediendo': 1, 'agradó': 1, 'lograron': 1, 'esperas': 1, 'falsas': 1, 'concedió': 1, 'engañosamente': 1, 'ocultos': 1, 'desistía': 1, 'escoliosis': 1, 'leve': 1, 'miopia': 1, 'astigmatismo': 1, 'tramitó': 1, 'disección': 1, 'convaleciente': 1, 'automores': 1, 'madrugar': 1, 'reunir': 1, 'informarlo': 1, 'incito': 1, 'cotice': 1, 'culpables': 1, 'cobraría': 1, 'individualizar': 1, 'entragada': 1, 'identificada': 1, 'estimamos': 1, 'completisimos': 1, 'reirse': 1, 'ganan': 1, 'jodan': 1, 'basta': 1, 'reprogramar': 1, 'acomodaba': 1, 'impositivo': 1, 'delictivo': 1, 'creciente': 1, 'involuntariamente': 1, 'equivoque': 1, 'equivalía': 1, 'equivocaron': 1, 'reciproco': 1, 'swift': 1, 'solucionarían': 1, 'pierdan': 1, 'llegarme': 1, 'acongojada': 1, 'impiden': 1, 'morgado': 1, 'comparado': 1, 'microempresario': 1, 'patologia': 1, 'infeccioso': 1, 'sindrome': 1, 'túnel': 1, 'carpiano': 1, 'cancelaciones': 1, 'perjudicarme': 1, 'evitando': 1, 'cargar': 1, 'ce': 1, 'vb': 1, 'solicitarles': 1, 'impugnacióm': 1, 'raparación': 1, 'innocente': 1, 'patinó': 1, 'pavimento': 1, 'regadores': 1, 'facilitó': 1, 'cometiendo': 1, 'reportaje': 1, 'diseñadas': 1, 'elmostrador': 1, 'disenadas': 1, 'solictar': 1, 'comienzos': 1, 'seríamente': 1, 'bolsas': 1, 'quedado': 1, 'cansada': 1, 'elude': 1, 'adolfo': 1, 'ibañez': 1, 'renegación': 1, 'degrádame': 1, 'reemplazar': 1, 'lg': 1, 'style': 1, 'avaluado': 1, 'comprándolo': 1, 'operadores': 1, 'trasfiere': 1, 'tergiversación': 1, 'inverosímil': 1, 'triptico': 1, 'adjuntará': 1, 'rectifica': 1, 'desacuerdo': 1, 'correspondería': 1, 'ofrecida': 1, 'avisará': 1, 'tremendas': 1, 'rio': 1, 'valore': 1, 'ricardo': 1, 'alid': 1, 'computadores': 1, 'crm': 1, 'intentamos': 1, 'pols': 1, 'cads': 1, 'exceda': 1, 'limpia': 1, 'accioné': 1, 'fusible': 1, 'soltado': 1, 'escogiendo': 1, 'contarte': 1, 'derivaba': 1, 'telef': 1, 'informaban': 1, 'antencion': 1, 'bloquee': 1, 'obligandolo': 1, 'sinnumero': 1, 'implicar': 1, 'fluctuación': 1, 'creces': 1, 'inmovilizado': 1, 'inabilitado': 1, 'excluyen': 1, 'reposicion': 1, 'enumeradas': 1, 'refieren': 1, 'bloqueos': 1, 'huelga': 1, 'combatiente': 1, 'protestas': 1, 'diseñada': 1, 'doblemente': 1, 'conciencia': 1, 'empatia': 1, 'pagandoles': 1, 'ridiculo': 1, 'puras': 1, 'maravillas': 1, 'pata': 1, 'gato': 1, 'asesorados': 1, 'notebook': 1, 'reflejó': 1, 'derivarme': 1, 'arenas': 1, 'parezca': 1, 'culpas': 1, 'cargarlas': 1, 'humillada': 1, 'tratarme': 1, 'actualizaciones': 1, 'escoger': 1, 'salirme': 1, 'cargarme': 1, 'prolijidad': 1, 'print': 1, 'soc': 1, 'comercialización': 1, 'integre': 1, 'hatch': 1, 'renunciarlos': 1, 'significaría': 1, 'imágenes': 1, 'informármelo': 1, 'celebrada': 1, 'declaran': 1, 'incompetentes': 1, 'calculadas': 1, 'riskamerica': 1, 'evitan': 1, 'arguyendo': 1, 'suscitó': 1, 'elementos': 1, 'concluyen': 1, 'saqué': 1, 'pegué': 1, 'word': 1, 'pidiéndoseme': 1, 'laboratorios': 1, 'querellas': 1, 'penales': 1, 'desvincularse': 1, 'rigen': 1, 'pretender': 1, 'reunido': 1, 'señalara': 1, 'desafiliarse': 1, 'moción': 1, 'presentes': 1, 'reuniones': 1, 'ofrecerles': 1, 'composición': 1, 'facturadas': 1, 'pondrán': 1, 'asisto': 1, 'preguntat': 1, 'vencía': 1, 'solos': 1, 'reenvio': 1, 'ontológico': 1, 'ocuparlo': 1, 'eliminaran': 1, 'delas': 1, 'camion': 1, 'delante': 1, 'caen': 1, 'triza': 1, 'frena': 1, 'verg': 1, 'inscribir': 1, 'ofrecian': 1, 'comprarlo': 1, 'manipulaban': 1, 'desfalco': 1, 'arcas': 1, 'acrecentar': 1, 'reputación': 1, 'añadiendo': 1, 'estrechos': 1, 'caducaría': 1, 'ejerciera': 1, 'incompetencias': 1, 'caducidades': 1, 'pondré': 1, 'sospecha': 1, 'facilita': 1, 'básicos': 1, 'máximos': 1, 'nacer': 1, 'pediátricos': 1, 'extensamente': 1, 'estafarme': 1, 'estafen': 1, 'quieran': 1, 'desglosado': 1, 'aburra': 1, 'fuguraria': 1, 'llenamos': 1, 'edificios': 1, 'gimansio': 1, 'relacionada': 1, 'alegre': 1, 'lote': 1, 'solicitándole': 1, 'estudiara': 1, 'intercambiar': 1, 'verían': 1, 'tocara': 1, 'sobrevalorización': 1, 'scan': 1, 'seguidillas': 1, 'intercambié': 1, 'auditoría': 1, 'demuestro': 1, 'postergando': 1, 'acudó': 1, 'incluyo': 1, 'técnicas': 1, 'reenviadas': 1, 'páginas': 1, 'derivadas': 1, 'entendiéndose': 1, 'oportunos': 1, 'repetidos': 1, 'idas': 1, 'entregarlas': 1, 'adicionar': 1, 'asumidos': 1, 'elena': 1, 'cerda': 1, 'octava': 1, 'we': 1, 'traspasadas': 1, 'enjoy': 1, 'paquetes': 1, 'liquidarlos': 1, 'carolina': 1, 'multiple': 1, 'forcenter': 1, 'quilin': 1, 'vio': 1, 'importacion': 1, 'portalones': 1, 'comunidado': 1, 'liquidaci': 1, 'fluida': 1, 'atienda': 1, 'hostil': 1, 'sufrir': 1, 'extemporánea': 1, 'permitta': 1, 'signfica': 1, 'pedirla': 1, 'inconformidad': 1, 'entorpeciendo': 1, 'reflejará': 1, 'desestimando': 1, 'pensionarme': 1, 'bruta': 1, 'aceptaban': 1, 'aceptarla': 1, 'despedida': 1, 'subi': 1, 'expiro': 1, 'avargas': 1, 'fusat': 1, 'pertenecer': 1, 'repercute': 1, 'artificialmente': 1, 'valoracion': 1, 'distorsion': 1, 'recula': 1, 'radiante': 1, 'mcmajustadores': 1, 'quinto': 1, 'confirmada': 1, 'totaliudad': 1, 'desentendidos': 1, 'queje': 1, 'conte': 1, 'considerarlo': 1, 'imgreso': 1, 'zx': 1, 'tiger': 1, 'psoterior': 1, 'realziada': 1, 'sinistero': 1, 'realzian': 1, 'vehciulo': 1, 'relamo': 1, 'imposibilitan': 1, 'exito': 1, 'ingresarla': 1, 'arrojo': 1, 'consignado': 1, 'apunta': 1, 'directrices': 1, 'asus': 1, 'desgradamen': 1, 'retai': 1, 'algarrobo': 1, 'ancha': 1, 'descuadro': 1, 'abollo': 1, 'probocado': 1, 'aseuradora': 1, 'nerviso': 1, 'cuidar': 1, 'niño': 1, 'nervioso': 1, 'reenviar': 1, 'contratatado': 1, 'rescataría': 1, 'sabiendas': 1, 'apropiación': 1, 'malestares': 1, 'cf': 1, 'conducto': 1, 'grabadas': 1, 'revalorización': 1, 'aconseja': 1, 'comenze': 1, 'despedirme': 1, 'genética': 1, 'pacer': 1, 'verificaron': 1, 'generali': 1, 'international': 1, 'limited': 1, 'vision': 1, 'negativas': 1, 'producía': 1, 'excusó': 1, 'tardíamente': 1, 'inglés': 1, 'paralisis': 1, 'megasalud': 1, 'salvador': 1, 'anestesiología': 1, 'mmi': 1, 'incorporaba': 1, 'relaciona': 1, 'rebatir': 1, 'transcurrieron': 1, 'firmalarla': 1, 'llevarla': 1, 'cesped': 1, 'telefonicamemte': 1, 'pasarian': 1, 'see': 1, 'vigilancia': 1, 'seguridades': 1, 'protecciones': 1, 'instalé': 1, 'laminas': 1, 'golpes': 1, 'coordinar': 1, 'pinchó': 1, 'contestara': 1, 'grabadora': 1, 'ocupados': 1, 'cortaba': 1, 'arrepentida': 1, 'inquieta': 1, 'asegurdadora': 1, 'septoplastia': 1, 'desvio': 1, 'septal': 1, 'obstructivo': 1, 'cornetes': 1, 'etmoiditis': 1, 'colemana': 1, 'póloza': 1, 'estea': 1, 'declarán': 1, 'remesa': 1, 'danés': 1, 'saxobank': 1, 'corresponsal': 1, 'ortognática': 1, 'disfunción': 1, 'temporo': 1, 'mandibular': 1, 'desconocida': 1, 'acirugía': 1, 'tien': 1, 'sugerida': 1, 'diagnósticada': 1, 'corregible': 1, 'fundamentada': 1, 'clínicamente': 1, 'relegada': 1, 'circunscribe': 1, 'residente': 1, 'replicas': 1, 'vinieron': 1, 'aumentando': 1, 'procedía': 1, 'reenviaron': 1, 'engañando': 1, 'inspeccionaron': 1, 'probaron': 1, 'aeguraron': 1, 'repararía': 1, 'cambiaría': 1, 'cuadrado': 1, 'notorios': 1, 'abrieron': 1, 'tierra': 1, 'suena': 1, 'francisco': 1, 'wiegold': 1, 'rojas': 1, 'piquetes': 1, 'dirigieron': 1, 'revisarla': 1, 'asumió': 1, 'inspiro': 1, 'aquachile': 1, 'participacion': 1, 'twitter': 1, 'típica': 1, 'electrónicas': 1, 'desaparecen': 1, 'lentes': 1, 'retienen': 1, 'llene': 1, 'prescripción': 1, 'retenida': 1, 'unicos': 1, 'bursátil': 1, 'alcalde': 1, 'defraudaron': 1, 'centrado': 1, 'solvencia': 1, 'parecido': 1, 'destapo': 1, 'salga': 1, 'calmar': 1, 'confirmarlos': 1, 'buscábamos': 1, 'subiría': 1, 'asique': 1, 'continuaba': 1, 'comenzaba': 1, 'reenviarme': 1, 'queríamos': 1, 'comprueben': 1, 'advirtieron': 1, 'osa': 1, 'estabamos': 1, 'filo': 1, 'siguente': 1, 'misa': 1, 'mandando': 1, 'tesis': 1, 'express': 1, 'incurre': 1, 'discriminar': 1, 'engañar': 1, 'utiliza': 1, 'frase': 1, 'modificaciones': 1, 'incumple': 1, 'podremos': 1, 'traseros': 1, 'autorizan': 1, 'telafonica': 1, 'esquiva': 1, 'sorpresivamente': 1, 'cumpliéndose': 1, 'colocó': 1, 'confesando': 1, 'ajustar': 1, 'forzando': 1, 'salirse': 1, 'recompra': 1, 'tocó': 1, 'anuncian': 1, 'tattersal': 1, 'reapertura': 1, 'emprender': 1, 'nacionales': 1, 'libres': 1, 'duplicó': 1, 'enterara': 1, 'incrustado': 1, 'insistentes': 1, 'contradicción': 1, 'mamaria': 1, 'dorsalgía': 1, 'sufriendo': 1, 'tiuempo': 1, 'tanot': 1, 'isban': 1, 'apoyen': 1, 'contratdas': 1, 'enabril': 1, 'trébol': 1, 'encargo': 1, 'suscribi': 1, 'lamentablemernte': 1, 'formulan': 1, 'acumulados': 1, 'ganancia': 1, 'somete': 1, 'recomendacion': 1, 'ttiene': 1, 'metiendome': 1, 'haces': 1, 'cuadno': 1, 'cobrarían': 1, 'once': 1, 'abusivos': 1, 'asistiera': 1, 'colación': 1, 'encontrará': 1, 'aprobaron': 1, 'recepcionadas': 1, 'plataformas': 1, 'cancelario': 1, 'sandoval': 1, 'escalar': 1, 'benjamín': 1, 'determinan': 1, 'elvenir': 1, 'acompañarse': 1, 'factores': 1, 'metabólico': 1, 'padezco': 1, 'ruboril': 1, 'rosácea': 1, 'marilow': 1, 'anticonceptivo': 1, 'sugerido': 1, 'menstrual': 1, 'ignorada': 1, 'ruptura': 1, 'caneria': 1, 'damnificando': 1, 'andrea': 1, 'facultar': 1, 'aprobacion': 1, 'busqué': 1, 'asumía': 1, 'chamy': 1, 'descartan': 1, 'becal': 1, 'precauciones': 1, 'agravamiento': 1, 'documentada': 1, 'narra': 1, 'microbusero': 1, 'escapo': 1, 'concepcion': 1, 'declarara': 1, 'supuse': 1, 'prestadores': 1, 'sctoiabank': 1, 'clinico': 1, 'desvincularme': 1, 'msimo': 1, 'finiquto': 1, 'quedaría': 1, 'reporté': 1, 'transcurrió': 1, 'mandó': 1, 'enviará': 1, 'acreedora': 1, 'retirato': 1, 'digieron': 1, 'negandose': 1, 'corroboran': 1, 'excusaran': 1, 'manualmente': 1, 'producción': 1, 'heridas': 1, 'injustificablemente': 1, 'adulteración': 1, 'wav': 1, 'declaracacion': 1, 'supertintendente': 1, 'indagación': 1, 'chilenas': 1, 'cometo': 1, 'liquidada': 1, 'radiografía': 1, 'conllevaban': 1, 'trató': 1, 'djunto': 1, 'tambi': 1, 'necesiten': 1, 'enviaré': 1, 'habló': 1, 'diría': 1, 'alargar': 1, 'aquejaba': 1, 'caballo': 1, 'cancelara': 1, 'utilizaba': 1, 'desistir': 1, 'acusé': 1, 'retrasado': 1, 'trayendo': 1, 'consigo': 1, 'sinfín': 1, 'compensando': 1, 'torre': 1, 'haberle': 1, 'visitara': 1, 'ahorrarme': 1, 'soledad': 1, 'zañartu': 1, 'financiado': 1, 'acumuló': 1, 'culminada': 1, 'controlaba': 1, 'concentración': 1, 'alcanzada': 1, 'dcidí': 1, 'isoluto': 1, 'intervenido': 1, 'afecha': 1, 'reiterativa': 1, 'gestionaron': 1, 'lanpass': 1, 'declarando': 1, 'dejación': 1, 'brindado': 1, 'forestal': 1, 'liberando': 1, 'documente': 1, 'amh': 1, 'contraje': 1, 'ventajosas': 1, 'postulo': 1, 'notifica': 1, 'abstiene': 1, 'arlegui': 1, 'terminan': 1, 'afectadoso': 1, 'imponentes': 1, 'huérfanos': 1, 'mencionó': 1, 'anulada': 1, 'renovable': 1, 'periodos': 1, 'nacio': 1, 'insistente': 1, 'quize': 1, 'ah': 1, 'obligarorio': 1, 'deciden': 1, 'ocupado': 1, 'estare': 1, 'esperada': 1, 'legajo': 1, 'ofrecimiento': 1, 'hombro': 1, 'informándonos': 1, 'consejería': 1, 'experta': 1, 'cadena': 1, 'nogales': 1, 'recalcar': 1, 'pagarla': 1, 'cursaron': 1, 'sufrimos': 1, 'peritajes': 1, 'sensor': 1, 'estampada': 1, 'inmediatez': 1, 'duplico': 1, 'odontológicos': 1, 'director': 1, 'ampliadas': 1, 'operan': 1, 'modernas': 1, 'informalmente': 1, 'sellado': 1, 'revisó': 1, 'seguramente': 1, 'armoniza': 1, 'visitados': 1, 'compran': 1, 'refiera': 1, 'perdio': 1, 'contrtan': 1, 'idoneo': 1, 'obligademante': 1, 'restituyendome': 1, 'devuelven': 1, 'ocurrirá': 1, 'pasaría': 1, 'estipuló': 1, 'doce': 1, 'coutas': 1, 'adquiero': 1, 'precaucion': 1, 'venga': 1, 'imprudente': 1, 'definida': 1, 'inventada': 1, 'indicador': 1, 'variaban': 1, 'períodos': 1, 'fluctuando': 1, 'masterdcard': 1, 'cesacion': 1, 'previcorp': 1, 'pocos': 1, 'declinada': 1, 'tramitarla': 1, 'personalizada': 1, 'retención': 1, 'descontándome': 1, 'ateinde': 1, 'sitema': 1, 'adultos': 1, 'deb': 1, 'productora': 1, 'impresora': 1, 'bizhub': 1, 'tramitarme': 1, 'dividio': 1, 'invexans': 1, 'visitndo': 1, 'frontal': 1, 'polola': 1, 'multiples': 1, 'canmcelar': 1, 'avisaran': 1, 'pedidos': 1, 'traspase': 1, 'selección': 1, 'registró': 1, 'invirtió': 1, 'guardados': 1, 'incluyera': 1, 'ro': 1, 'check': 1, 'list': 1, 'reuní': 1, 'reiterarle': 1, 'minvu': 1, 'antedentes': 1, 'sustraidas': 1, 'recurrí': 1, 'cuarta': 1, 'sac': 1, 'financiada': 1, 'direccionarme': 1, 'detiene': 1, 'quirúrgicos': 1, 'reclamación': 1, 'abriéndose': 1, 'porsche': 1, 'inter': 1, 'cel': 1, 'infracción': 1, 'latam': 1, 'broker': 1, 'ofrexiendo': 1, 'regulados': 1, 'prometerme': 1, 'supervisadas': 1, 'avatrade': 1, 'supervice': 1, 'pronuncien': 1, 'presuntas': 1, 'piramidales': 1, 'compare': 1, 'conduce': 1, 'sorprende': 1, 'cargadas': 1, 'seriamente': 1, 'ocurrie': 1, 'culpabilidad': 1, 'quin': 1, 'leyó': 1, 'automovilistico': 1, 'demaciado': 1, 'alvitrario': 1, 'liquidan': 1, 'cotizado': 1, 'arreglan': 1, 'complicar': 1, 'imperiosa': 1, 'revalúe': 1, 'acreditaban': 1, 'sintió': 1, 'placer': 1, 'contemplado': 1, 'reperesentante': 1, 'invermed': 1, 'cbr': 1, 'poseedora': 1, 'acogí': 1, 'rastreo': 1, 'terminará': 1, 'gravoso': 1, 'comprometidas': 1, 'rigurosamente': 1, 'abona': 1, 'cesant': 1, 'modus': 1, 'orerandi': 1, 'biles': 1, 'har': 1, 'liberadamente': 1, 'confirm': 1, 'oblig': 1, 'adem': 1, 'env': 1, 'detacoop': 1, 'djuntar': 1, 'comision': 1, 'preparando': 1, 'viajado': 1, 'burlesca': 1, 'rechazarian': 1, 'puedfe': 1, 'amenazar': 1, 'cuestionamiento': 1, 'prendaron': 1, 'deposité': 1, 'libere': 1, 'optimus': 1, 'vitae': 1, 'trataría': 1, 'encontrarían': 1, 'rechazarían': 1, 'ola': 1, 'prefiero': 1, 'suv': 1, 'vendidos': 1, 'representantes': 1, 'tomara': 1, 'consisten': 1, 'oculto': 1, 'transitoriamente': 1, 'sometiendo': 1, 'trompa': 1, 'falopio': 1, 'complicando': 1, 'fertilidad': 1, 'desglosó': 1, 'desentendiéndose': 1, 'apelaciones': 1, 'autopistas': 1, 'crónico': 1, 'acogieran': 1, 'metlifee': 1, 'dializar': 1, 'angamos': 1, 'costoso': 1, 'rayar': 1, 'partido': 1, 'establecía': 1, 'interrumpir': 1, 'reactivo': 1, 'imposibilitarme': 1, 'eminente': 1, 'sobregiro': 1, 'significativos': 1, 'interpuesto': 1, 'luhrs': 1, 'facultado': 1, 'diligencias': 1, 'sebastián': 1, 'delpiano': 1, 'tagler': 1, 'humanos': 1, 'abultamiento': 1, 'mamas': 1, 'hormonales': 1, 'ecotomografias': 1, 'útero': 1, 'rx': 1, 'decapeptyl': 1, 'talla': 1, 'hormonas': 1, 'antagonistas': 1, 'lh': 1, 'rh': 1, 'recalca': 1, 'análogos': 1, 'enanismo': 1, 'leerlo': 1, 'morfológicas': 1, 'funcionales': 1, 'ameriten': 1, 'parálisis': 1, 'movilizado': 1, 'recurrió': 1, 'autovalente': 1, 'imprescindible': 1, 'desplazarse': 1, 'asimilarse': 1, 'pies': 1, 'cuestina': 1, 'millonario': 1, 'balace': 1, 'prostático': 1, 'alegan': 1, 'descartada': 1, 'descartaban': 1, 'financió': 1, 'enlace': 1, 'convertir': 1, 'enlaces': 1, 'raíces': 1, 'chiguayante': 1, 'asaltado': 1, 'inflamada': 1, 'huevo': 1, 'desinflamo': 1, 'desviada': 1, 'buscamos': 1, 'pensamos': 1, 'observado': 1, 'equilibrada': 1, 'short': 1, 'duration': 1, 'bond': 1, 'world': 1, 'healthscience': 1, 'raía': 1, 'bonificaran': 1, 'adquerir': 1, 'tarjera': 1, 'terminos': 1, 'modificados': 1, 'faslencias': 1, 'dividido': 1, 'cuadraba': 1, 'escale': 1, 'amable': 1, 'depositaron': 1, 'insitutcion': 1, 'giros': 1, 'estableció': 1, 'líquidas': 1, 'ejercicios': 1, 'permitiera': 1, 'repartiendo': 1, 'artificial': 1, 'influir': 1, 'verdadera': 1, 'decirlo': 1, 'cumplirlo': 1, 'ssangyong': 1, 'bucher': 1, 'remitente': 1, 'conv': 1, 'ab': 1, 'var': 1, 'sugirió': 1, 'penita': 1, 'mina': 1, 'aseguren': 1, 'responderá': 1, 'porqie': 1, 'nomade': 1, 'infinitamente': 1, 'superintendbencia': 1, 'latamente': 1, 'advertir': 1, 'comprarían': 1, 'formulo': 1, 'obligara': 1, 'vendamos': 1, 'presentarlo': 1, 'comprobado': 1, 'detenidamente': 1, 'postulación': 1, 'sexual': 1, 'indetectable': 1, 'discriminado': 1, 'portador': 1, 'entendería': 1, 'oportunistas': 1, 'volwagen': 1, 'bora': 1, 'veredicto': 1, 'devolvera': 1, 'generaba': 1, 'verificaria': 1, 'costanera': 1, 'fallabella': 1, 'figuaraba': 1, 'figuraria': 1, 'ocutube': 1, 'entregandome': 1, 'precitado': 1, 'indicame': 1, 'solucionaria': 1, 'mediano': 1, 'cotejado': 1, 'desentiendan': 1, 'ubican': 1, 'velen': 1, 'injerencia': 1, 'imponga': 1, 'sacaban': 1, 'licitada': 1, 'rechazaran': 1, 'itp': 1, 'adelanto': 1, 'sob': 1, 'lipomaxitroma': 1, 'santamaría': 1, 'hablaba': 1, 'bulto': 1, 'picadura': 1, 'determinara': 1, 'activaron': 1, 'recopilando': 1, 'coo': 1, 'nuero': 1, 'consiga': 1, 'solicitarlos': 1, 'vaya': 1, 'rango': 1, 'hacercamiento': 1, 'maglaren': 1, 'dignado': 1, 'socabon': 1, 'leyes': 1, 'atenerme': 1, 'qeu': 1, 'aa': 1, 'tino': 1, 'veen': 1, 'rapida': 1, 'tela': 1, 'demostrativas': 1, 'assistance': 1, 'adherida': 1, 'afrontar': 1, 'fístula': 1, 'auricular': 1, 'infectó': 1, 'agravó': 1, 'acaso': 1, 'antibióticos': 1, 'empeoraba': 1, 'aclaro': 1, 'potestad': 1, 'extenderme': 1, 'preguntarle': 1, 'desistí': 1, 'excedían': 1, 'desestimiento': 1, 'abonarse': 1, 'depositarme': 1, 'velar': 1, 'dictó': 1, 'apropiados': 1, 'ejecutoriada': 1, 'extendido': 1, 'deficiencias': 1, 'caos': 1, 'clarificado': 1, 'adicioné': 1, 'refinanciacion': 1, 'incluyeron': 1, 'logico': 1, 'renovarlo': 1, 'destruida': 1, 'malversación': 1, 'latinoamericano': 1, 'latinoamerica': 1, 'latioamerica': 1, 'aclarará': 1, 'manual': 1, 'manipular': 1, 'acude': 1, 'ningunas': 1, 'liquidará': 1, 'drogas': 1, 'ocupadas': 1, 'acivó': 1, 'escolaridad': 1, 'comunicaron': 1, 'consideraba': 1, 'salian': 1, 'cencosur': 1, 'cencosurde': 1, 'tobalaba': 1, 'recomendo': 1, 'andaba': 1, 'saludad': 1, 'devolveria': 1, 'entregamos': 1, 'reduzca': 1, 'retrasada': 1, 'puente': 1, 'mensajes': 1, 'irrisorio': 1, 'acudido': 1, 'recib': 1, 'asesorado': 1, 'consumió': 1, 'nombrar': 1, 'decreto': 1, 'transaccion': 1, 'acumula': 1, 'canjeables': 1, 'devolveran': 1, 'fiscalizan': 1, 'puedar': 1, 'ladrones': 1, 'verguenzas': 1, 'pf': 1, 'modificado': 1, 'comparandola': 1, 'colisionaron': 1, 'dejandolo': 1, 'encargaria': 1, 'cobrarle': 1, 'tramitan': 1, 'devolvérmelos': 1, 'revotaron': 1, 'lavándose': 1, 'confirmo': 1, 'desea': 1, 'traspasen': 1, 'llámese': 1, 'transparentes': 1, 'cuatros': 1, 'burocracia': 1, 'cancelarian': 1, 'complicacion': 1, 'excesivas': 1, 'aserguradora': 1, 'perdiera': 1, 'indemización': 1, 'larragaña': 1, 'descolocado': 1, 'lotes': 1, 'indicándose': 1, 'generándose': 1, 'apertura': 1, 'livin': 1, 'comedor': 1, 'pasillo': 1, 'techos': 1, 'baños': 1, 'cocina': 1, 'muro': 1, 'logia': 1, 'dormitorios': 1, 'uniones': 1, 'tabiquería': 1, 'contara': 1, 'ajustara': 1, 'externa': 1, 'lejano': 1, 'subnormal': 1, 'botar': 1, 'picar': 1, 'cemento': 1, 'matrimonial': 1, 'secar': 1, 'contiguo': 1, 'gasfíter': 1, 'calefón': 1, 'tina': 1, 'armar': 1, 'calificada': 1, 'acodo': 1, 'inalco': 1, 'cancelaria': 1, 'resulata': 1, 'proximos': 1, 'impresa': 1, 'creada': 1, 'ciniestro': 1, 'sacarlo': 1, 'primna': 1, 'responzable': 1, 'primeramente': 1, 'difundió': 1, 'min': 1, 'select': 1, 'uj': 1, 'atendío': 1, 'abollón': 1, 'perta': 1, 'piloto': 1, 'llegarían': 1, 'completaría': 1, 'indicara': 1, 'llegaría': 1, 'indiver': 1, 'administratico': 1, 'ingresaon': 1, 'bomberos': 1, 'insistió': 1, 'descubrí': 1, 'afirmando': 1, 'munchen': 1, 'tecnex': 1, 'inclumplimientos': 1, 'materializo': 1, 'transcurrir': 1, 'suficientemente': 1, 'revisiones': 1, 'fallecidos': 1, 'cuadrados': 1, 'haciende': 1, 'consumir': 1, 'cortes': 1, 'cortado': 1, 'fugas': 1, 'desabitaada': 1, 'entrelazadas': 1, 'consumio': 1, 'considerara': 1, 'anteayer': 1, 'trimestral': 1, 'abonos': 1, 'destacado': 1, 'amarillo': 1, 'únicas': 1, 'invariables': 1, 'satisfecho': 1, 'afirmaciones': 1, 'difíciles': 1, 'paraguas': 1, 'custodio': 1, 'reconociera': 1, 'digitación': 1, 'dígito': 1, 'implicancia': 1, 'corregida': 1, 'advierte': 1, 'inscribí': 1, 'deniega': 1, 'ofrezco': 1, 'pagándose': 1, 'habilitada': 1, 'continua': 1, 'descontándose': 1, 'prolongada': 1, 'experimentados': 1, 'conyuge': 1, 'presentacion': 1, 'sujeto': 1, 'pensaba': 1, 'aporto': 1, 'dilatación': 1, 'pupila': 1, 'precavida': 1, 'progresivo': 1, 'afectaría': 1, 'riezgo': 1, 'latente': 1, 'elevar': 1, 'manifestó': 1, 'peores': 1, 'imposibilitando': 1, 'desmedros': 1, 'fisuras': 1, 'visible': 1, 'fisura': 1, 'dormitorio': 1, 'py': 1, 'balances': 1, 'deficientes': 1, 'suez': 1, 'mejillones': 1, 'altisimos': 1, 'llevandose': 1, 'francia': 1, 'miserable': 1, 'fución': 1, 'electroandina': 1, 'acionario': 1, 'acuda': 1, 'probado': 1, 'postrior': 1, 'continbuan': 1, 'indisputabildad': 1, 'seguiran': 1, 'provienen': 1, 'invertirlos': 1, 'elijo': 1, 'devolverlos': 1, 'presionándome': 1, 'repito': 1, 'talagante': 1, 'recomendar': 1, 'vaticiniar': 1, 'expertos': 1, 'spam': 1, 'eletróncio': 1, 'dediqué': 1, 'contarlos': 1, 'esencuiales': 1, 'molestosa': 1, 'emplea': 1, 'resumida': 1, 'duplicada': 1, 'venc': 1, 'jefaturas': 1, 'gerencias': 1, 'asuntos': 1, 'lineas': 1, 'venderlas': 1, 'evaluen': 1, 'anestesiachile': 1, 'html': 1, 'duración': 1, 'descanso': 1, 'postoperatorio': 1, 'sala': 1, 'destinada': 1, 'sillones': 1, 'universitaria': 1, 'enmarcar': 1, 'histerectomía': 1, 'metrorragia': 1, 'comprobé': 1, 'diagnósticos': 1, 'ginecológicas': 1, 'justificando': 1, 'recahzo': 1, 'realizaa': 1, 'ginecológicos': 1, 'considerándolos': 1, 'complejidad': 1, 'tajeta': 1, 'idicar': 1, 'comprbante': 1, 'estrega': 1, 'naturales': 1, 'servicioo': 1, 'transando': 1, 'intensión': 1, 'cargaran': 1, 'especificando': 1, 'rehabilitarlo': 1, 'implico': 1, 'apuraron': 1, 'pudiéramos': 1, 'bajaría': 1, 'implicaría': 1, 'ingrata': 1, 'altos': 1, 'debes': 1, 'dame': 1, 'guía': 1, 'incluian': 1, 'bursatil': 1, 'cuestiones': 1, 'operativas': 1, 'interesan': 1, 'unicamente': 1, 'crearme': 1, 'tratandose': 1, 'aseveración': 1, 'carcinoma': 1, 'párrafos': 1, 'parrafos': 1, 'aprobar': 1, 'robaban': 1, 'cree': 1, 'desgastante': 1, 'tenencia': 1, 'recreo': 1, 'exceder': 1, 'excedio': 1, 'dictamina': 1, 'inhabitabilidad': 1, 'senalan': 1, 'liberacion': 1, 'singularizada': 1, 'arrendamiento': 1, 'panificadora': 1, 'saldes': 1, 'llegamos': 1, 'contactando': 1, 'qui': 1, 'relaciones': 1, 'derivará': 1, 'alguién': 1, 'acuciosidad': 1, 'pte': 1, 'anuncio': 1, 'elecciones': 1, 'constituir': 1, 'casé': 1, 'arreglándome': 1, 'treinta': 1, 'menisectomía': 1, 'operatorios': 1, 'davila': 1, 'aon': 1, 'staff': 1, 'burocráticos': 1, 'finiquitado': 1, 'hito': 1, 'capataz': 1, 'construccion': 1, 'plantearon': 1, 'desprenden': 1, 'resolvieron': 1, 'consumido': 1, 'angustiado': 1, 'caer': 1, 'ganaba': 1, 'declaré': 1, 'empeoró': 1, 'cancelaría': 1, 'cancelaríe': 1, 'sehabía': 1, 'enviaba': 1, 'ataque': 1, 'establecimiento': 1, 'calmantes': 1, 'indicándoles': 1, 'discutir': 1, 'rebatirle': 1, 'alernativa': 1, 'viable': 1, 'poseeo': 1, 'burocratico': 1, 'agradecere': 1, 'ocurria': 1, 'ascendía': 1, 'permitido': 1, 'incrementar': 1, 'justificaron': 1, 'incitar': 1, 'contraseña': 1, 'botón': 1, 'haberlo': 1, 'cursados': 1, 'satisfizo': 1, 'york': 1, 'empero': 1, 'saguro': 1, 'haracerlo': 1, 'avenimiento': 1, 'judicialmente': 1, 'reemplaza': 1, 'gane': 1, 'renault': 1, 'megane': 1, 'renovaban': 1, 'casilla': 1, 'encubierto': 1, 'transparentado': 1, 'preocuparse': 1, 'digno': 1, 'alli': 1, 'interceda': 1, 'hodgkin': 1, 'folicular': 1, 'mesenterio': 1, 'recibiendose': 1, 'aguachándose': 1, 'regularizan': 1, 'vidas': 1, 'quedándome': 1, 'clásico': 1, 'adecuadamente': 1, 'pdtos': 1, 'pdto': 1, 'umetlife': 1, 'levantaría': 1, 'autorizarlo': 1, 'antonieta': 1, 'soto': 1, 'actualizados': 1, 'superado': 1, 'soberbia': 1, 'lógicas': 1, 'entorpecer': 1, 'finalizado': 1, 'rebuscan': 1, 'ampara': 1, 'topon': 1, 'ponernos': 1, 'perseguirlos': 1, 'piensan': 1, 'amigos': 1, 'loquidador': 1, 'imperfectos': 1, 'parado': 1, 'demostró': 1, 'adeudan': 1, 'consiguientes': 1, 'relizadas': 1, 'sucesos': 1, 'telfónico': 1, 'reitradas': 1, 'contestaran': 1, 'aesgener': 1, 'rodo': 1, 'excluido': 1, 'contaste': 1, 'contempla': 1, 'renuncian': 1, 'periódica': 1, 'vulnerada': 1, 'ciudadana': 1, 'consiente': 1, 'referencial': 1, 'reponerme': 1, 'impusieron': 1, 'kit': 1, 'sensores': 1, 'aparcamiento': 1, 'climatizador': 1, 'eleccion': 1, 'elegidos': 1, 'clase': 1, 'deberes': 1, 'aquélla': 1, 'defender': 1, 'eligieron': 1, 'exponen': 1, 'pareciera': 1, 'defendiendo': 1, 'holding': 1, 'comisionista': 1, 'contestandome': 1, 'alcazaba': 1, 'remuneracion': 1, 'encargaron': 1, 'entregaría': 1, 'físicamente': 1, 'vendiera': 1, 'agregaría': 1, 'estupidez': 1, 'duelo': 1, 'ignorancia': 1, 'saludarlo': 1, 'busque': 1, 'parva': 1, 'sta': 1, 'rosa': 1, 'harian': 1, 'asignadas': 1, 'escuda': 1, 'coordine': 1, 'antelacion': 1, 'contactaban': 1, 'kms': 1, 'confie': 1, 'manana': 1, 'corrector': 1, 'urencias': 1, 'quemadura': 1, 'aceite': 1, 'julios': 1, 'atendieran': 1, 'delos': 1, 'gresado': 1, 'corporación': 1, 'melipilla': 1, 'note': 1, 'comenzarían': 1, 'entendia': 1, 'chofer': 1, 'solicitandome': 1, 'whatsapp': 1, 'austedes': 1, 'solidario': 1, 'fuia': 1, 'secretaria': 1, 'henríquez': 1, 'aravena': 1, 'comparecido': 1, 'comparendo': 1, 'olvidó': 1, 'transitar': 1, 'novia': 1, 'externalizado': 1, 'formalidad': 1, 'perdiese': 1, 'requirió': 1, 'presencia': 1, 'llegada': 1, 'ocupada': 1, 'obstruyendo': 1, 'retractarse': 1, 'rayo': 1, 'iré': 1, 'causaron': 1, 'sufrieron': 1, 'atropello': 1, 'politraumatismo': 1, 'polifracturas': 1, 'barros': 1, 'luco': 1, 'traumático': 1, 'scotia': 1, 'toxicológico': 1, 'rechazaba': 1, 'diesel': 1, 'bruno': 1, 'fritsch': 1, 'basicas': 1, 'saltado': 1, 'anda': 1, 'movilizandose': 1, 'actuaciones': 1, 'inhibiendo': 1, 'decididos': 1, 'citaciones': 1, 'extraordianaria': 1, 'desmejoramiento': 1, 'ratificando': 1, 'expondré': 1, 'lentitud': 1, 'desvalorizaciones': 1, 'entrevista': 1, 'burocratizando': 1, 'sensación': 1, 'insistencias': 1, 'presionar': 1, 'disgusto': 1, 'afirmo': 1, 'diciéndole': 1, 'reevaluando': 1, 'puren': 1, 'angeles': 1, 'kilometros': 1, 'atribuyen': 1, 'causada': 1, 'mantienes': 1, 'contactarte': 1, 'tono': 1, 'copiado': 1, 'premura': 1, 'comentas': 1, 'copio': 1, 'llegas': 1, 'postventachile': 1, 'reenvía': 1, 'gemelas': 1, 'aprobaran': 1, 'anotado': 1, 'surtido': 1, 'desglose': 1, 'euroamaerica': 1, 'através': 1, 'colon': 1, 'empleada': 1, 'apoquindo': 1, 'convertibilidad': 1, 'imt': 1, 'partia': 1, 'respondiero': 1, 'vá': 1, 'asiendo': 1, 'alucion': 1, 'recaben': 1, 'obligatoria': 1, 'recidivas': 1, 'rehén': 1, 'bloqueen': 1, 'hospitalario': 1, 'ortopantomografia': 1, 'oftalmológica': 1, 'ocular': 1, 'gotas': 1, 'cuidadoso': 1, 'reclamándoles': 1, 'encontrarán': 1, 'autorizaciones': 1, 'formulé': 1, 'invocada': 1, 'basó': 1, 'cabalmente': 1, 'contractualmente': 1, 'cambiadad': 1, 'asiento': 1, 'pinturas': 1, 'tonos': 1, 'repintar': 1, 'dde': 1, 'desabolladuras': 1, 'rea': 1, 'cata': 1, 'congelaba': 1, 'cuánta': 1, 'importándole': 1, 'tiendo': 1, 'consigue': 1, 'débil': 1, 'rápido': 1, 'mencionando': 1, 'cobrársele': 1, 'facil': 1, 'cerrarlo': 1, 'presentandome': 1, 'someter': 1, 'traer': 1, 'dictaminen': 1, 'respetó': 1, 'roja': 1, 'semáforo': 1, 'consignada': 1, 'dejada': 1, 'notificarme': 1, 'excesivamente': 1, 'lenta': 1, 'respuestos': 1, 'desentendió': 1, 'formales': 1, 'voley': 1, 'gimnasio': 1, 'ligamento': 1, 'resumiendo': 1, 'averiguación': 1, 'tramitaba': 1, 'actualizaran': 1, 'certera': 1, 'menoscabado': 1, 'sado': 1, 'infomacion': 1, 'destruir': 1, 'embargan': 1, 'grabar': 1, 'audios': 1, 'tele': 1, 'desvío': 1, 'riqueza': 1, 'previred': 1, 'tardaría': 1, 'caigan': 1, 'retrasos': 1, 'sencillo': 1, 'devalúa': 1, 'calcule': 1, 'tracera': 1, 'maule': 1, 'talca': 1, 'reglar': 1, 'mandarlo': 1, 'mellizos': 1, 'seguidos': 1, 'desesperación': 1, 'puestos': 1, 'anecdótico': 1, 'argullo': 1, 'quizo': 1, 'celulares': 1, 'equipos': 1, 'cansé': 1, 'contesten': 1, 'digan': 1, 'contest': 1, 'murió': 1, 'denunció': 1, 'incomodando': 1, 'recsa': 1, 'acoso': 1, 'dominante': 1, 'reclamaré': 1, 'lanzar': 1, 'compuestos': 1, 'enferma': 1, 'pasé': 1, 'colgar': 1, 'repitió': 1, 'incluía': 1, 'alcanzó': 1, 'digitar': 1, 'cuelgue': 1, 'llamará': 1, 'nocturno': 1, 'acababan': 1, 'fórmula': 1, 'ofrezcan': 1, 'inventen': 1, 'dermatológica': 1, 'hodkins': 1, 'especialistas': 1, 'dermatólogo': 1, 'elaboró': 1, 'clarifica': 1, 'ligadas': 1, 'acné': 1, 'quiste': 1, 'insolitamente': 1, 'concordaba': 1, 'vs': 1, 'roto': 1, 'pego': 1, 'topando': 1, 'rompiendo': 1, 'asuste': 1, 'pegue': 1, 'repara': 1, 'comunicárselo': 1, 'recordando': 1, 'schwager': 1, 'bursatilmente': 1, 'fuentes': 1, 'influido': 1, 'ejemplos': 1, 'paralizan': 1, 'concluya': 1, 'reestructuración': 1, 'basa': 1, 'familiarizada': 1, 'fijan': 1, 'subiendo': 1, 'bonito': 1, 'acreedores': 1, 'juntan': 1, 'operacional': 1, 'disminución': 1, 'provisiones': 1, 'ebitda': 1, 'extrañaria': 1, 'convencimiento': 1, 'recordemos': 1, 'esfumó': 1, 'incidencia': 1, 'hermanos': 1, 'sepultación': 1, 'detallan': 1, 'funcionaria': 1, 'ocupé': 1, 'fijaron': 1, 'congénita': 1, 'rembolsar': 1, 'negadas': 1, 'solicitarlas': 1, 'denominados': 1, 'microempresarios': 1, 'fractura': 1, 'muñeca': 1, 'incapacitándome': 1, 'agrícolas': 1, 'validaran': 1, 'minino': 1, 'queme': 1, 'fracturada': 1, 'inesperada': 1, 'tenerlos': 1, 'respondiera': 1, 'decepcionado': 1, 'alejarme': 1, 'quita': 1, 'gerentes': 1, 'visitar': 1, 'decepción': 1, 'enviase': 1, 'eseguro': 1, 'copi': 1, 'informarles': 1, 'minuta': 1, 'extendió': 1, 'usó': 1, 'etario': 1, 'mostrar': 1, 'caratulado': 1, 'desprendía': 1, 'movido': 1, 'reiterando': 1, 'bonnard': 1, 'retiré': 1, 'libros': 1, 'autorizar': 1, 'guarde': 1, 'comprensible': 1, 'desviación': 1, 'recuperado': 1, 'franja': 1, 'comparan': 1, 'categorización': 1, 'expone': 1, 'contactará': 1, 'conversion': 1, 'consultarles': 1, 'reportadas': 1, 'despojado': 1, 'pleno': 1, 'argumentable': 1, 'bdd': 1, 'sg': 1, 'vv': 1, 'ns': 1, 'sgv': 1, 'estipulaban': 1, 'sufre': 1, 'aceptaría': 1, 'inducen': 1, 'denegar': 1, 'paladar': 1, 'maxilar': 1, 'estimar': 1, 'fundamentan': 1, 'estetico': 1, 'decretar': 1, 'psiquiatra': 1, 'déficit': 1, 'atencional': 1, 'recetó': 1, 'fármacos': 1, 'completada': 1, 'facultativo': 1, 'psiquiátricas': 1, 'esporádicas': 1, 'ges': 1, 'realzar': 1, 'posecion': 1, 'gsx': 1, 'inicios': 1, 'comentaban': 1, 'ridículo': 1, 'incurrió': 1, 'tentativa': 1, 'meciona': 1, 'cancelare': 1, 'amedrentando': 1, 'chuquicamata': 1, 'desistimiento': 1, 'indígnate': 1, 'desistido': 1, 'extendiendo': 1, 'excesiva': 1, 'expresado': 1, 'aparecerá': 1, 'reinversión': 1, 'otorgaba': 1, 'sosteniendo': 1, 'mandarse': 1, 'reconocidos': 1, 'solicitándola': 1, 'carné': 1, 'suc': 1, 'seg': 1, 'ellis': 1, 'caras': 1, 'dem': 1, 'solicitándome': 1, 'sicos': 1, 'hospitalizaciones': 1, 'finalemnte': 1, 'pesaba': 1, 'operatorio': 1, 'buscaron': 1, 'indicará': 1, 'chocan': 1, 'subcomisaria': 1, 'peñalolen': 1, 'asumia': 1, 'inducir': 1, 'aperturé': 1, 'gratuidad': 1, 'alcanzar': 1, 'reversión': 1, 'unidireccional': 1, 'cuot': 1, 'prevision': 1, 'agradecer': 1, 'ep': 1, 'dinámica': 1, 'pilar': 1, 'adentro': 1, 'tapa': 1, 'golpear': 1, 'bank': 1, 'captación': 1, 'aportar': 1, 'garantizando': 1, 'fiscalizadas': 1, 'regustradas': 1, 'enviármela': 1, 'valla': 1, 'perderle': 1, 'redactado': 1, 'analizara': 1, 'opinara': 1, 'desembolso': 1, 'diluida': 1, 'panorama': 1, 'prefieren': 1, 'reducida': 1, 'únicos': 1, 'jugada': 1, 'espalda': 1, 'autorizaría': 1, 'uu': 1, 'despúes': 1, 'contabilizados': 1, 'prorrata': 1, 'francamente': 1, 'perjudicial': 1, 'participaron': 1, 'influyeron': 1, 'carmen': 1, 'castillo': 1, 'reduciendo': 1, 'calculado': 1, 'bajando': 1, 'rescato': 1, 'encontraran': 1, 'caducada': 1, 'obligó': 1, 'resultante': 1, 'calculando': 1, 'acogidos': 1, 'netos': 1, 'positivos': 1, 'significativamente': 1, 'planteando': 1, 'reenviando': 1, 'desmentido': 1, 'espondilitis': 1, 'anquilosante': 1, 'cifosis': 1, 'anderson': 1, 'depsoite': 1, 'convenios': 1, 'anticipada': 1, 'indicaran': 1, 'destacando': 1, 'subrayo': 1, 'lso': 1, 'interesado': 1, 'entraría': 1, 'columnista': 1, 'mexicano': 1, 'excélsior': 1, 'crucial': 1, 'paulatina': 1, 'volúmenes': 1, 'proviene': 1, 'cae': 1, 'disparado': 1, 'distorsiones': 1, 'periodista': 1, 'inadecuado': 1, 'negociacion': 1, 'entraria': 1, 'latercera': 1, 'cerrarian': 1, 'shtml': 1, 'enmarca': 1, 'investigaciones': 1, 'investigaciopnes': 1, 'transgredidos': 1, 'cerradas': 1, 'simulados': 1, 'adps': 1, 'celebrados': 1, 'filial': 1, 'estatuto': 1, 'tratados': 1, 'puesta': 1, 'autorizara': 1, 'vulneran': 1, 'desvalorizara': 1, 'comprando': 1, 'afectas': 1, 'minería': 1, 'trazabilidad': 1, 'tópico': 1, 'comecial': 1, 'revisaran': 1, 'resento': 1, 'reversaron': 1, 'revisarme': 1, 'tratare': 1, 'postule': 1, 'salarios': 1, 'chiloe': 1, 'reponsabilidad': 1, 'autorizo': 1, 'avisa': 1, 'hostorica': 1, 'saldado': 1, 'añoi': 1, 'asumieron': 1, 'sabian': 1, 'honorabilidad': 1, 'citaban': 1, 'darnos': 1, 'amensas': 1, 'cobradora': 1, 'amenasa': 1, 'suegra': 1, 'amenazas': 1, 'ejecutó': 1, 'bupacl': 1, 'txt': 1, 'extension': 1, 'italiano': 1, 'persiguiendo': 1, 'excusasn': 1, 'contestando': 1, 'enteran': 1, 'infinitos': 1, 'explicaba': 1, 'enesima': 1, 'dividian': 1, 'tios': 1, 'cdo': 1, 'incorrectos': 1, 'absurdas': 1, 'desconcertante': 1, 'resguardado': 1, 'protestados': 1, 'repactadas': 1, 'apareciendo': 1, 'euro': 1, 'ejecutada': 1, 'validan': 1, 'líquido': 1, 'sucedan': 1, 'obedeciendo': 1, 'programación': 1, 'transaccionales': 1, 'mostraba': 1, 'auspiciar': 1, 'fomenta': 1, 'repita': 1, 'cursado': 1, 'decision': 1, 'rechaze': 1, 'pos': 1, 'condonacion': 1, 'operaba': 1, 'facturan': 1, 'reparatoria': 1, 'habra': 1, 'accciones': 1, 'disculparse': 1, 'prometen': 1, 'coincidencias': 1, 'porqu': 1, 'eno': 1, 'qedan': 1, 'aperciba': 1, 'cabal': 1, 'estipuladas': 1, 'exames': 1, 'ahy': 1, 'velo': 1, 'obedece': 1, 'separación': 1, 'endeudarme': 1, 'restaurar': 1, 'construido': 1, 'reconsideracion': 1, 'ascenciente': 1, 'valides': 1, 'extemporáneo': 1, 'dirima': 1, 'estafadores': 1, 'ganada': 1, 'resarcir': 1, 'sinverguenzura': 1, 'ocasionan': 1, 'cancelaci': 1, 'consideradas': 1, 'exclusidad': 1, 'imdemnizacion': 1, 'asociar': 1, 'conseda': 1, 'dara': 1, 'gentione': 1, 'contaré': 1, 'degenerativa': 1, 'bonifique': 1, 'reabra': 1, 'ustdes': 1, 'multen': 1, 'ios': 1, 'atravez': 1, 'mantenerlos': 1, 'hara': 1, 'aprueve': 1, 'pretegida': 1, 'dejacion': 1, 'distancias': 1, 'enseguida': 1, 'acompañaba': 1, 'wue': 1, 'clonaron': 1, 'prestada': 1, 'martirio': 1, 'preocupaciones': 1, 'situacin': 1, 'empeorado': 1, 'ayudemne': 1, 'lucion': 1, 'reciba': 1, 'obligarlos': 1, 'habil': 1, 'reguladora': 1, 'interseda': 1, 'ineficacia': 1, 'anularla': 1, 'adolecer': 1, 'enmendar': 1, 'confiada': 1, 'estimula': 1, 'garantizadas': 1, 'reparada': 1, 'impas': 1, 'reconozcan': 1, 'rehacer': 1, 'rendir': 1, 'psu': 1, 'llamaban': 1, 'mojar': 1, 'regalar': 1, 'trabas': 1, 'inmensa': 1, 'créanme': 1, 'oportunas': 1, 'resivio': 1, 'devieron': 1, 'dificil': 1, 'evalúen': 1, 'asignen': 1, 'suceden': 1, 'rogaria': 1, 'accionar': 1, 'vulnera': 1, 'presten': 1, 'disponga': 1, 'comercialmente': 1, 'valorar': 1, 'pagandolo': 1, 'desilucionado': 1, 'incorporen': 1, 'desligan': 1, 'adjuntadas': 1, 'alzamos': 1, 'compensarme': 1, 'acarreado': 1, 'nescesito': 1, 'ustudes': 1, 'impone': 1, 'recibidas': 1, 'asemejan': 1, 'específico': 1, 'divulgada': 1, 'proporcione': 1, 'individualmente': 1, 'errázuriz': 1, 'dilataron': 1, 'usarlos': 1, 'adoptadas': 1, 'amoneste': 1, 'reverse': 1, 'investigara': 1, 'perversos': 1, 'atado': 1, 'parar': 1, 'justificado': 1, 'respaladado': 1, 'prestigiosos': 1, 'puedeo': 1, 'politicas': 1, 'siniestto': 1, 'opongo': 1, 'entecedentes': 1, 'efectruar': 1, 'estimsdos': 1, 'fuscalicen': 1, 'proxeder': 1, 'impuesta': 1, 'societaria': 1, 'legítimo': 1, 'barbara': 1, 'ontener': 1, 'existieran': 1, 'proporcionar': 1, 'superintyendencia': 1, 'sanciónes': 1, 'aprovecho': 1, 'profundo': 1, 'dilata': 1, 'cobrarse': 1, 'ocupa': 1, 'ganando': 1, 'centavo': 1, 'genereradas': 1, 'medie': 1, 'viciado': 1, 'incuplimiento': 1, 'seme': 1, 'identifique': 1, 'respondsable': 1, 'promesas': 1, 'ojalá': 1, 'fomenten': 1, 'comunicaciones': 1, 'autenticados': 1, 'juegan': 1, 'paganando': 1, 'objetar': 1, 'generadas': 1, 'transferidas': 1, 'jugar': 1, 'mentirosas': 1, 'embaucadoras': 1, 'ilícitos': 1, 'juega': 1, 'noventa': 1, 'empresariales': 1, 'éticamente': 1, 'reprochables': 1, 'canallada': 1, 'tranzaron': 1, 'indiferencia': 1, 'interesó': 1, 'descubiertos': 1, 'neligencia': 1, 'compensadas': 1, 'proporción': 1, 'retribuida': 1, 'cobertutra': 1, 'cuidadosa': 1, 'rigurosa': 1, 'amonestada': 1, 'indemnizada': 1, 'sobregiros': 1, 'vientos': 1, 'inundaciones': 1, 'acordadas': 1, 'publicitado': 1, 'extención': 1, 'eficacia': 1, 'competan': 1, 'chicas': 1, 'ponerme': 1, 'investigarlos': 1, 'multarlos': 1, 'interpuesta': 1, 'stockmarket': 1, 'tecnicos': 1, 'violado': 1, 'aseguro': 1, 'turbo': 1, 'mantenciones': 1, 'dalos': 1, 'benignos': 1, 'encarecer': 1, 'mental': 1, 'devolviéndomelo': 1, 'aludida': 1, 'cientos': 1, 'revocar': 1, 'vitalica': 1, 'común': 1, 'discutible': 1, 'discordia': 1, 'impase': 1, 'amplíen': 1, 'pidan': 1, 'disyuntiva': 1, 'examinación': 1, 'aceptaré': 1, 'automatizadas': 1, 'disueltas': 1, 'operando': 1, 'amables': 1, 'pq': 1, 'indenizacion': 1, 'reestablecer': 1, 'asignacion': 1, 'fiscalizacion': 1, 'restablezca': 1, 'restablezcan': 1, 'continúen': 1, 'lleguemos': 1, 'filosofía': 1, 'inspira': 1, 'desechando': 1, 'mentir': 1, 'estaciona': 1, 'beauchef': 1, 'probabilidad': 1, 'asumido': 1, 'valoro': 1, 'robados': 1, 'ovacionado': 1, 'movilización': 1, 'saludo': 1, 'cruzado': 1, 'financiados': 1, 'convertido': 1, 'gastando': 1, 'bendiciones': 1, 'efectada': 1, 'aburrirme': 1, 'paseos': 1, 'canelando': 1, 'molestosas': 1, 'transfieran': 1, 'estación': 1, 'repusieran': 1, 'faltaría': 1, 'muchisima': 1, 'trabes': 1, 'cité': 1, 'asistió': 1, 'orgánica': 1, 'mérito': 1, 'impartidas': 1, 'renueve': 1, 'acordaddas': 1, 'reconsiderar': 1, 'lael': 1, 'esperanza': 1, 'parate': 1, 'calma': 1, 'restauración': 1, 'indefinición': 1, 'sobrepase': 1, 'reponga': 1, 'combustible': 1, 'dispensado': 1, 'repuesta': 1, 'semans': 1, 'igualemnte': 1, 'inidica': 1, 'convencido': 1, 'enunciar': 1, 'descuenten': 1, 'paralela': 1, 'fiscalizadores': 1, 'rechazara': 1, 'reactiven': 1, 'automotirz': 1, 'morosidades': 1, 'liderado': 1, 'compañ': 1, 'estipulan': 1, 'antiinflamatorios': 1, 'sacados': 1, 'desventaja': 1, 'regulatoria': 1, 'impedida': 1, 'manipulado': 1, 'publicar': 1, 'actuen': 1, 'lapso': 1, 'soicito': 1, 'indemnisacion': 1, 'entreagdo': 1, 'recamo': 1, 'decrechos': 1, 'sumándole': 1, 'iendo': 1, 'rogaría': 1, 'ascendientes': 1, 'detalledemovimiento': 1, 'difundiendo': 1, 'oficna': 1, 'retracten': 1, 'basico': 1, 'maf': 1, 'aplicaran': 1, 'atodos': 1, 'hallan': 1, 'premiun': 1, 'suceda': 1, 'reconocienddo': 1, 'ficalizacion': 1, 'toptur': 1, 'psicologicas': 1, 'economicas': 1, 'exija': 1, 'parecen': 1, 'ratificado': 1, 'jbs': 1, 'sobfre': 1, 'informavcion': 1, 'cituacion': 1, 'mesas': 1, 'hurtó': 1, 'solicio': 1, 'quieree': 1, 'parche': 1, 'rebajarme': 1, 'ilegales': 1, 'impertinente': 1, 'proximo': 1, 'retrazo': 1, 'figuren': 1, 'rescatados': 1, 'instruyan': 1, 'peloteándome': 1, 'clarifique': 1, 'debere': 1, 'minucipalidad': 1, 'excedieron': 1, 'acusarme': 1, 'sinceridad': 1, 'gastada': 1, 'sustraido': 1, 'tazado': 1, 'saldar': 1, 'referir': 1, 'exigirle': 1, 'rrhh': 1, 'asesorarme': 1, 'ambulancia': 1, 'santo': 1, 'ccb': 1, 'valida': 1, 'penalidad': 1, 'apropiacion': 1, 'gestionen': 1, 'empeña': 1, 'pklazo': 1, 'resume': 1, 'incurriré': 1, 'cursación': 1, 'reingreso': 1, 'derivándome': 1, 'solucionarlo': 1, 'pena': 1, 'afectadso': 1, 'direcctorio': 1, 'existió': 1, 'inexistencia': 1, 'colaboración': 1, 'pagen': 1, 'aparesco': 1, 'regule': 1, 'devengados': 1, 'salvaguardando': 1, 'manejando': 1, 'comparto': 1, 'agilize': 1, 'sancionadas': 1, 'emanada': 1, 'suplanto': 1, 'califiquen': 1, 'reponiendo': 1, 'costaron': 1, 'extraviadas': 1, 'costas': 1, 'encomiendas': 1, 'investige': 1, 'hacerca': 1, 'intrucción': 1, 'significarne': 1, 'reincorporen': 1, 'quitarlo': 1, 'tiroideas': 1, 'cierran': 1, 'entregarnos': 1, 'emplace': 1, 'revisarlos': 1, 'prometiendo': 1, 'consejera': 1, 'consejos': 1, 'tendientes': 1, 'detectas': 1, 'presta': 1, 'percibo': 1, 'ayudará': 1, 'saldando': 1, 'transitorio': 1, 'licencias': 1, 'desmembramiento': 1, 'amputación': 1, 'extremidades': 1, 'decretada': 1, 'credencial': 1, 'comere': 1, 'accedan': 1, 'reingresar': 1, 'locomocion': 1, 'aaaayuuuuudaaaaa': 1, 'disciplinarias': 1, 'reducirme': 1, 'credio': 1, 'modificaron': 1, 'presentaré': 1, 'nesecito': 1, 'mantenia': 1, 'confia': 1, 'das': 1, 'capacitadas': 1, 'contraviniendo': 1, 'gravísimo': 1, 'alegar': 1, 'desarrollada': 1, 'enriquecimiento': 1, 'viven': 1, 'pongan': 1, 'firmes': 1, 'reembolcen': 1, 'retiren': 1, 'msi': 1, 'temo': 1, 'resguardando': 1, 'atencuion': 1, 'anulen': 1, 'facturados': 1, 'amonestación': 1, 'fluido': 1, 'persistir': 1, 'pésimos': 1, 'cotizados': 1, 'publicitada': 1, 'incumplida': 1, 'corroborada': 1, 'suceder': 1, 'denunciasdos': 1, 'financiar': 1, 'roben': 1, 'dejare': 1, 'notan': 1, 'certifiada': 1, 'hibiese': 1, 'habitual': 1, 'proxima': 1, 'firmas': 1, 'incumplió': 1, 'reglamentación': 1, 'solicitaría': 1, 'actuación': 1, 'elije': 1, 'extrensión': 1, 'injustificadamente': 1, 'aclaran': 1, 'adecuarlas': 1, 'adecuar': 1, 'modificando': 1, 'embarguen': 1, 'deciociones': 1, 'analistas': 1, 'diferenciales': 1, 'someta': 1, 'sumario': 1, 'quitaran': 1, 'circulo': 1, 'anteceder': 1, 'agradecido': 1, 'retenerme': 1, 'conceptos': 1, 'reintegros': 1, 'materializarse': 1, 'intencionadamente': 1, 'correspon': 1, 'positivamente': 1, 'arbitrarias': 1, 'rayando': 1, 'persigan': 1, 'bancina': 1, 'pelea': 1, 'goliat': 1, 'gratuitamente': 1, 'condonación': 1, 'cesen': 1, 'traumatismo': 1, 'sobrepago': 1, 'encontraria': 1, 'segundas': 1, 'sustitucion': 1, 'potasio': 1, 'habiliten': 1, 'arreglen': 1, 'sentimental': 1, 'dicte': 1, 'canelar': 1, 'alteren': 1, 'dispone': 1, 'impongan': 1, 'instruyera': 1, 'orígenes': 1, 'acordaron': 1, 'insólita': 1, 'caducarán': 1, 'burlesco': 1, 'investigando': 1, 'noción': 1, 'probables': 1, 'delitos': 1, 'caducando': 1, 'actúe': 1, 'actuara': 1, 'proveedores': 1, 'interes': 1, 'agradesco': 1, 'nulidad': 1, 'remitan': 1, 'encontrandose': 1, 'sobrevalorado': 1, 'significativa': 1, 'cerrajero': 1, 'deligenciosamente': 1, 'liquidaciónes': 1, 'enfrentada': 1, 'exclusividad': 1, 'desestimar': 1, 'arvitraria': 1, 'tirantez': 1, 'crearlos': 1, 'transportarme': 1, 'dificaltades': 1, 'mañanas': 1, 'suspender': 1, 'paseo': 1, 'planificado': 1, 'trabajoso': 1, 'analizando': 1, 'solía': 1, 'tocar': 1, 'consentir': 1, 'escucharon': 1, 'tirado': 1, 'pon': 1, 'empece': 1, 'correción': 1, 'debern': 1, 'recurrencia': 1, 'tergirversada': 1, 'destine': 1, 'especializada': 1, 'neófito': 1, 'liuquidaciones': 1, 'originados': 1, 'dictar': 1, 'aliminacion': 1, 'pidiendoles': 1, 'ka': 1, 'provoqué': 1, 'ponerlo': 1, 'revalorizado': 1, 'comenzaria': 1, 'contradicho': 1, 'efectivas': 1, 'obstrucción': 1, 'verifiquen': 1, 'fisica': 1, 'indemicen': 1, 'objetos': 1, 'sustraidos': 1, 'mejoren': 1, 'ssgeuro': 1, 'queiren': 1, 'camino': 1, 'fonods': 1, 'corrige': 1, 'postura': 1, 'esperare': 1, 'mecanicas': 1, 'pusieran': 1, 'capacitar': 1, 'concretaran': 1, 'aprendí': 1, 'lección': 1, 'famoso': 1, 'podamos': 1, 'retomar': 1, 'compensatoria': 1, 'violación': 1, 'suministrar': 1, 'justifiquen': 1, 'miró': 1, 'catastrofica': 1, 'dicciones': 1, 'preoc': 1, 'abstención': 1, 'conductas': 1, 'sucesivo': 1, 'facilitando': 1, 'entrabando': 1, 'implican': 1, 'encuentren': 1, 'previstas': 1, 'encontrándose': 1, 'modalidades': 1, 'educada': 1, 'empatía': 1, 'fraudulentamente': 1, 'conversando': 1, 'demorarian': 1, 'entendieran': 1, 'concrete': 1, 'corrida': 1, 'inaudito': 1, 'relaizaron': 1, 'hospitalarios': 1, 'rechacen': 1, 'aplace': 1, 'reanude': 1, 'aseguraroda': 1, 'discriminación': 1, 'habérmelo': 1, 'asegurabilidad': 1, 'levante': 1, 'ejercido': 1, 'lance': 1, 'pulicidad': 1, 'sicologicamente': 1, 'angustia': 1, 'estreza': 1, 'multar': 1, 'crediticios': 1, 'habilés': 1, 'contados': 1, 'trescientas': 1, 'setenta': 1, 'impide': 1, 'indevidamente': 1, 'vulnerables': 1, 'enmarcada': 1, 'pagares': 1, 'evaluarlo': 1, 'mintió': 1, 'faltase': 1, 'activen': 1, 'escrituras': 1, 'habitat': 1, 'contrite': 1, 'ineptitud': 1, 'habilite': 1, 'paractico': 1, 'apoye': 1, 'desfavorables': 1, 'adm': 1, 'supervisar': 1, 'xxi': 1, 'resguardándome': 1, 'alero': 1, 'inciso': 1, 'custodiara': 1, 'autormáticamente': 1, 'aparente': 1, 'reajustada': 1, 'materias': 1, 'vehiculos': 1, 'negando': 1, 'intersedan': 1, 'compalia': 1, 'cuplieron': 1, 'ayúdame': 1, 'descarga': 1, 'primeron': 1, 'digitos': 1, 'consistido': 1, 'certificaciones': 1, 'autenticidad': 1, 'véz': 1, 'desglosando': 1, 'versus': 1, 'desentiende': 1, 'quirurgicamente': 1, 'pinten': 1, 'aprendizaje': 1, 'evite': 1, 'acudiendo': 1, 'desconocia': 1, 'reconsidere': 1, 'designe': 1, 'configura': 1, 'discriminatorio': 1, 'perdidia': 1, 'rompa': 1, 'licitó': 1, 'reversar': 1, 'causadas': 1, 'estima': 1, 'remitir': 1, 'compartan': 1, 'componente': 1, 'alarga': 1, 'administran': 1, 'facultativa': 1, 'reevalue': 1, 'discrimine': 1, 'irregularmente': 1, 'eliminandolo': 1, 'oficiales': 1, 'asesoren': 1, 'assitance': 1, 'solicvitar': 1, 'tornado': 1, 'tortuoso': 1, 'descritas': 1, 'mejore': 1, 'traducible': 1, 'tarifa': 1, 'recarga': 1, 'bip': 1, 'excusar': 1, 'miedo': 1, 'eticamente': 1, 'hare': 1, 'reintegraron': 1, 'indernizacion': 1, 'agradeceremos': 1, 'formalidades': 1, 'atribuibles': 1, 'negligencias': 1, 'indignante': 1, 'correspondieran': 1, 'apliquen': 1, 'quisieran': 1, 'perjudicarían': 1, 'aplicarse': 1, 'motriz': 1, 'restaure': 1, 'certeza': 1, 'reclamarlo': 1, 'formar': 1, 'fatal': 1, 'sujetas': 1, 'pecha': 1, 'tomarán': 1, 'evitarlo': 1, 'percibir': 1, 'entrenen': 1, 'informació': 1, 'evalué': 1, 'restablecerse': 1, 'deshabilitaron': 1, 'disminuir': 1, 'riezgos': 1, 'transcurra': 1, 'significará': 1, 'asista': 1, 'clausulka': 1, 'indisputabilidad': 1, 'equivalentes': 1, 'valorizados': 1, 'apuntando': 1, 'equivalen': 1, 'verdaderso': 1, 'aquelos': 1, 'vencerá': 1, 'digna': 1, 'aprovechan': 1, 'opiniones': 1, 'profesionales': 1, 'conocen': 1, 'hacérmelo': 1, 'comrprobante': 1, 'obligados': 1, 'falle': 1, 'rehabiliten': 1, 'trabando': 1, 'colaborar': 1, 'certifica': 1, 'notifiquen': 1, 'precedentes': 1, 'aprobaciones': 1, 'desvalorización': 1, 'dividencods': 1, 'ocurrencia': 1, 'volaran': 1, 'tejas': 1, 'asfálticas': 1, 'goteras': 1, 'alfombras': 1, 'mojadas': 1, 'decencia': 1, 'contradecirle': 1, 'ire': 1, 'investgar': 1, 'tramité': 1, 'fuerza': 1, 'consideracíon': 1, 'avisada': 1, 'remuneraciones': 1, 'tardado': 1, 'satisfactorio': 1, 'reliquidar': 1, 'logrando': 1, 'iii': 1, 'abordar': 1, 'retenedores': 1, 'repocision': 1, 'obtaculos': 1, 'cancelarme': 1, 'incumplido': 1, 'llevarme': 1, 'verdaderas': 1, 'dejamos': 1, 'exijí': 1, 'deriven': 1, 'equivocado': 1, 'cometida': 1, 'ordenarle': 1, 'avanzada': 1, 'sordera': 1, 'dificulta': 1, 'ustesdes': 1, 'asigne': 1, 'innecesario': 1, 'retracto': 1, 'optimas': 1, 'prtecio': 1, 'auditados': 1, 'originen': 1, 'excepto': 1, 'excluye': 1, 'limitante': 1, 'entregará': 1, 'descarado': 1, 'viciosa': 1, 'logren': 1, 'nformar': 1, 'complica': 1, 'toque': 1, 'plazca': 1, 'solcitaron': 1, 'imed': 1, 'irrisoria': 1, 'marcada': 1, 'perjudicará': 1, 'aprovecharon': 1, 'incluirme': 1, 'aceptados': 1, 'triple': 1, 'recomendarla': 1, 'estipulada': 1, 'experimentado': 1, 'garantizarme': 1, 'cumplirán': 1, 'superar': 1, 'proactiva': 1, 'repiten': 1, 'sorpresiva': 1, 'agv': 1, 'cuantificar': 1, 'odontología': 1, 'excepcional': 1, 'gerencia': 1, 'imprevista': 1, 'cortar': 1, 'derogación': 1, 'reseguros': 1, 'evasión': 1, 'crertificado': 1, 'háganle': 1, 'zoom': 1, 'revalorizar': 1, 'perspectiva': 1, 'citar': 1, 'adminstración': 1, 'reducción': 1, 'determinaran': 1, 'precedente': 1, 'platas': 1, 'entes': 1, 'obscena': 1, 'revierten': 1, 'avala': 1, 'demandante': 1, 'reeembolso': 1, 'reportados': 1, 'prioritario': 1, 'ambigua': 1, 'notariales': 1, 'empiece': 1, 'computo': 1, 'docum': 1, 'contemplada': 1, 'saneamiento': 1, 'svc': 1, 'reevalúe': 1, 'contienes': 1, 'fundamentales': 1, 'captando': 1, 'desreguladamente': 1, 'inspeccionen': 1, 'vendan': 1, 'lucrando': 1, 'recalcular': 1, 'generación': 1, 'prevenir': 1, 'dilucidar': 1, 'fidedigna': 1, 'inviertan': 1, 'petitorio': 1, 'véanlo': 1, 'solemenes': 1, 'celebración': 1, 'locatarios': 1, 'inmuebles': 1, 'ubicados': 1, 'arriendos': 1, 'cidef': 1, 'tasador': 1, 'discute': 1, 'nombrado': 1, 'valilidez': 1, 'simulaciones': 1, 'convengan': 1, 'agregue': 1, 'borren': 1, 'publicaciones': 1, 'cuestionados': 1, 'haciendome': 1, 'abuelos': 1, 'regularizacion': 1, 'repetitiva': 1, 'administrados': 1, 'afms': 1, 'enmiendas': 1, 'organismos': 1, 'trasferidas': 1})\n"
     ]
    }
   ],
   "source": [
    "print(bow)"
   ]
  },
  {
   "cell_type": "code",
   "execution_count": 6,
   "metadata": {},
   "outputs": [
    {
     "data": {
      "text/plain": [
       "12104"
      ]
     },
     "execution_count": 6,
     "metadata": {},
     "output_type": "execute_result"
    }
   ],
   "source": [
    "#Cantidad de palabras únicas\n",
    "\n",
    "len(bow)"
   ]
  },
  {
   "cell_type": "code",
   "execution_count": 7,
   "metadata": {},
   "outputs": [
    {
     "data": {
      "text/plain": [
       "6326"
      ]
     },
     "execution_count": 7,
     "metadata": {},
     "output_type": "execute_result"
    }
   ],
   "source": [
    "#Se imprime el número de palabras tras filtrar aquellas con sólo 1 repetición\n",
    "\n",
    "filtered_words = [word for word, count in bow.items() if (count >= 2)]\n",
    "len(filtered_words)"
   ]
  },
  {
   "cell_type": "code",
   "execution_count": 8,
   "metadata": {},
   "outputs": [],
   "source": [
    "#Se crea diccionario a partir de las palabras filtradas, y se guarda en archivo json. Se comienza del ID \"1\", ya que el ID \"0\" esta reservado para la palabra \"vacía\"\n",
    "\n",
    "vocab = {word: ii for ii, word in enumerate(filtered_words,1)}\n",
    "\n",
    "import json\n",
    "with open('vocab_lstm_temp.json', 'w+') as f:\n",
    "    json.dump(vocab, f)"
   ]
  },
  {
   "cell_type": "code",
   "execution_count": 9,
   "metadata": {},
   "outputs": [],
   "source": [
    "#Se filtran palabras fuera del diccionario de los reclamos, ya que se consideran de baja relevancia para la clasificación\n",
    "\n",
    "def filter_(text,vocab):\n",
    "\n",
    "    filtered_text = [word for word in text if (word in vocab)]\n",
    "    return filtered_text\n",
    "\n",
    "file['DESCRIPCION_CIUDADANO']=file['DESCRIPCION_CIUDADANO'].apply(filter_,vocab = vocab)\n",
    "file['PETICION_CIUDADANO']=file['PETICION_CIUDADANO'].apply(filter_,vocab = vocab)"
   ]
  },
  {
   "cell_type": "code",
   "execution_count": 10,
   "metadata": {},
   "outputs": [],
   "source": [
    "#Se unen columnas 'DESCRIPCION_CIUDADANO' y 'PETICION_CIUDADANO' en un sólo gran string a ser procesado por el modelo\n",
    "\n",
    "X=(file['DESCRIPCION_CIUDADANO']+file['PETICION_CIUDADANO']).values\n",
    "\n",
    "#Se codifican las clasesificaciones otorgadas a los reclamos\n",
    "\n",
    "y=(file['MERCADO_ANALISTA']=='APIA -Reclamo Seguros ').astype(int).values"
   ]
  },
  {
   "cell_type": "code",
   "execution_count": 11,
   "metadata": {},
   "outputs": [
    {
     "name": "stdout",
     "output_type": "stream",
     "text": [
      "[1, 2, 3, 4, 5, 6, 7, 8, 9, 10, 11, 12, 13, 14, 13, 15, 16, 17, 18, 19, 20, 21, 13, 22, 23, 24, 22, 25, 26, 27, 28, 29, 30, 31, 32, 33, 34, 35, 36, 37, 38, 39, 13, 40, 41, 42, 43, 44, 45, 46, 47, 48, 49, 50, 51, 52, 53, 54, 55, 56, 57, 58, 59, 60, 61, 62, 63, 64, 46, 65, 10, 268, 316, 43, 2186, 1676, 519, 547, 436, 2560, 38, 34, 680, 26, 2019, 221, 862]\n"
     ]
    }
   ],
   "source": [
    "#Se codifican palabras en sus respectivos ID's\n",
    "\n",
    "X_ints = []\n",
    "for text in X:\n",
    "    X_ints.append([vocab[word] for word in text])\n",
    "\n",
    "#Se imprime ejemplo de reclamo codificado\n",
    "print(X_ints[0])"
   ]
  },
  {
   "cell_type": "markdown",
   "metadata": {},
   "source": [
    "## Estandarización de número de palabras en textos\n",
    "\n",
    "Para que el modelo pueda trabajar con textos que poseen distinto número de palabras, se estandariza cada uno considerando el máximo número de palabras para un reclamo en el entrenamiento. Para ello, se rellenan todos los textos con ceros (palabra \"vacía\") hasta llegar al largo estándar."
   ]
  },
  {
   "cell_type": "code",
   "execution_count": 12,
   "metadata": {},
   "outputs": [
    {
     "name": "stdout",
     "output_type": "stream",
     "text": [
      "231\n"
     ]
    }
   ],
   "source": [
    "#Se imprime largo máximo de un reclamo\n",
    "\n",
    "text_lens = Counter([len(x) for x in X])\n",
    "print(max(text_lens))"
   ]
  },
  {
   "cell_type": "code",
   "execution_count": 13,
   "metadata": {},
   "outputs": [],
   "source": [
    "def pad_features(text_ints, seq_length):\n",
    "    \n",
    "    features = np.zeros((len(text_ints), seq_length), dtype=int)\n",
    "\n",
    "    for i, row in enumerate(text_ints):\n",
    "        features[i, -len(row):] = np.array(row)[:seq_length]\n",
    "    \n",
    "    return features"
   ]
  },
  {
   "cell_type": "code",
   "execution_count": 14,
   "metadata": {},
   "outputs": [
    {
     "name": "stdout",
     "output_type": "stream",
     "text": [
      "[[   0    0    0    0    0    0    0    0    0    0    0    0    0    0\n",
      "     0    0    0    0    0    0    0    0    0    0    0    0    0    0\n",
      "     0    0    0    0    0    0    0    0    0    0    0    0    0    0\n",
      "     0    0    0    0    0    0    0    0    0    0    0    0    0    0\n",
      "     0    0    0    0    0    0    0    0    0    0    0    0    0    0\n",
      "     0    0    0    0    0    0    0    0    0    0    0    0    0    0\n",
      "     0    0    0    0    0    0    0    0    0    0    0    0    0    0\n",
      "     0    0    0    0    0    0    0    0    0    0    0    0    0    0\n",
      "     0    0    0    0    0    0    0    0    0    0    0    0    0    0\n",
      "     0    0    0    0    0    0    0    0    0    0    0    0    0    0\n",
      "     0    0    0    0    1    2    3    4    5    6    7    8    9   10\n",
      "    11   12   13   14   13   15   16   17   18   19   20   21   13   22\n",
      "    23   24   22   25   26   27   28   29   30   31   32   33   34   35\n",
      "    36   37   38   39   13   40   41   42   43   44   45   46   47   48\n",
      "    49   50   51   52   53   54   55   56   57   58   59   60   61   62\n",
      "    63   64   46   65   10  268  316   43 2186 1676  519  547  436 2560\n",
      "    38   34  680   26 2019  221  862]]\n"
     ]
    }
   ],
   "source": [
    "import numpy as np\n",
    "seq_length = max(text_lens)\n",
    "\n",
    "features = pad_features(X_ints, seq_length=seq_length)\n",
    "\n",
    "assert len(features)==len(X_ints), \"Número de filas no coinciden.\"\n",
    "assert len(features[0])==seq_length, \"Número de columnas no coinciden.\"\n",
    "\n",
    "# Ejemplo de texto estandarizado\n",
    "\n",
    "print(features[:1,:])"
   ]
  },
  {
   "cell_type": "markdown",
   "metadata": {},
   "source": [
    "## Sets de entrenamiento, validación y test\n",
    "\n",
    "El conjunto de reclamos se divide en los siguientes sets de datos:\n",
    "* El 64% de los datos se destinan a entrenamiento, los cuales permitirán ajustar los parámetros internos del modelo.\n",
    "* El 16% de los datos se destinan a validación, los cuales permitirán verificar el sobre-entrenamiento del modelo, y por tanto ajustar sus hiperparámetros.\n",
    "* El 20% de los datos se destinan a test, los cuales permitirán estimar las métricas del modelo.\n",
    "\n",
    "Para que los sets sean estadísticamente representativos del conjunto total de reclamos, deben tener una distribución de clasificaciones similar. Esto se logra con el parámetro \"stratify\" de la función train_test_split, visto a continuación."
   ]
  },
  {
   "cell_type": "code",
   "execution_count": 15,
   "metadata": {},
   "outputs": [],
   "source": [
    "from sklearn.model_selection import train_test_split\n",
    "\n",
    "X_train, X_test, y_train, y_test = train_test_split(features, y, test_size=0.2, random_state=10,stratify = y)\n",
    "X_train, X_val, y_train, y_val = train_test_split(X_train, y_train, train_size=0.8, random_state=10, stratify = y_train)"
   ]
  },
  {
   "cell_type": "code",
   "execution_count": 16,
   "metadata": {},
   "outputs": [
    {
     "name": "stdout",
     "output_type": "stream",
     "text": [
      "Distribución Conjunto Reclamos: 0.663\n",
      "Distribución Entrenamiento: 0.662\n",
      "Distribución Validación: 0.662\n",
      "Distribución Test: 0.665\n"
     ]
    }
   ],
   "source": [
    "print(\"Distribución Conjunto Reclamos: {:.3f}\".format(sum(y)/len(y)))\n",
    "print(\"Distribución Entrenamiento: {:.3f}\".format(sum(y_train)/len(y_train)))\n",
    "print(\"Distribución Validación: {:.3f}\".format(sum(y_val)/len(y_val)))\n",
    "print(\"Distribución Test: {:.3f}\".format(sum(y_test)/len(y_test)))"
   ]
  },
  {
   "cell_type": "markdown",
   "metadata": {},
   "source": [
    "## Creación de los batch de entrenamiento\n",
    "\n",
    "A continuación, el set de entrenamiento se divide en batch, generados al azar. El fin de este paso es reducir la memoria necesitada, junto con reducir los tiempos de entrenamiento."
   ]
  },
  {
   "cell_type": "code",
   "execution_count": 17,
   "metadata": {},
   "outputs": [],
   "source": [
    "import torch\n",
    "from torch.utils.data import TensorDataset, DataLoader\n",
    "\n",
    "train_data = TensorDataset(torch.from_numpy(X_train), torch.from_numpy(y_train))\n",
    "valid_data = TensorDataset(torch.from_numpy(X_val), torch.from_numpy(y_val))\n",
    "test_data = TensorDataset(torch.from_numpy(X_test), torch.from_numpy(y_test))\n",
    "\n",
    "batch_size = 10\n",
    "\n",
    "train_loader = DataLoader(train_data, shuffle=True, batch_size=batch_size)\n",
    "valid_loader = DataLoader(valid_data, shuffle=True, batch_size=len(y_val))\n",
    "test_loader = DataLoader(test_data, shuffle=True, batch_size=len(y_test))"
   ]
  },
  {
   "cell_type": "markdown",
   "metadata": {},
   "source": [
    "## Modelo de clasificación\n",
    "\n",
    "La base del modelo corresponde a un tipo de red neuronal recurrente, llamada LSTM. Esta clase de red neuronal es capaz de procesar información de una secuencia de palabras dentro de un texto. La arquitectura de la red se ilustra a continuación.\n",
    "\n",
    "<img src='lstm.png' width=\"600\" height=\"600\">\n",
    "\n",
    "En primer lugar, se utiliza una capa de embedding, que realiza una representación de cada ID del vocabulario en un vector. Esta capa tiene dos finalidades: representar semánticamente la palabra (vectores cercanos poseen contextos similares), y reducir la dimensión de entrada a la red LSTM.\n",
    "\n",
    "A continuación, los embeddings se pasan a las celdas LSTM. Esta capa genera dos salidas: un output que se pasa a la capa siguiente, que actúa como clasificador propiamente tal; y un segundo valor que es pasado a la misma LSTM, que cumple el rol de ser la \"memoria\" de largo plazo de la red. Este último punto es el que permite que las redes LSTM tengan buenos resultados para problemas con secuencias de datos.\n",
    "\n",
    "Finalmente, los outputs de la etapa anterior se pasan a una capa sigmoide. Al tratarse de un problema de clasificación binaria, las clases se representan como 0 (valores) o 1 (seguros). La capa sigmoide entrega un número entre 0 y 1, interpretable como la probabilidad de pertenecer a cada clase. En el esquema se ilustra que se obtiene un único output (al ingresar la útima palabra), ya que se busca que el modelo entrege la clasificación una vez hayan ingresado todas las palabras del reclamo."
   ]
  },
  {
   "cell_type": "code",
   "execution_count": 18,
   "metadata": {},
   "outputs": [],
   "source": [
    "import torch.nn as nn\n",
    "\n",
    "class lstm_classifier(nn.Module):\n",
    "  \n",
    "    def __init__(self, vocab_size, output_size, embedding_dim, hidden_dim, n_layers, drop_prob=0.5):\n",
    "        \n",
    "        super(lstm_classifier, self).__init__()\n",
    "\n",
    "        self.output_size = output_size\n",
    "        self.n_layers = n_layers\n",
    "        self.hidden_dim = hidden_dim\n",
    "        \n",
    "        self.embedding = nn.Embedding(vocab_size, embedding_dim)\n",
    "        self.lstm = nn.LSTM(embedding_dim, hidden_dim, n_layers, \n",
    "                            dropout=drop_prob, batch_first=True)\n",
    "        \n",
    "        self.dropout = nn.Dropout(drop_prob)\n",
    "        \n",
    "        self.fc = nn.Linear(hidden_dim, output_size)\n",
    "        self.sig = nn.Sigmoid()\n",
    "        \n",
    "\n",
    "    def forward(self, x, hidden):\n",
    "        \n",
    "        batch_size = x.size(0)\n",
    "\n",
    "        x = x.long()\n",
    "        embeds = self.embedding(x)\n",
    "        lstm_out, hidden = self.lstm(embeds, hidden)\n",
    "    \n",
    "        lstm_out = lstm_out.contiguous().view(-1, self.hidden_dim)\n",
    "        \n",
    "        out = self.dropout(lstm_out)\n",
    "        out = self.fc(out)\n",
    "\n",
    "        sig_out = self.sig(out)\n",
    "        \n",
    "        sig_out = sig_out.view(batch_size, -1)\n",
    "        sig_out = sig_out[:, -1]\n",
    "        \n",
    "        return sig_out, hidden\n",
    "    \n",
    "    \n",
    "    def init_hidden(self, batch_size):\n",
    "        \n",
    "        weight = next(self.parameters()).data\n",
    "        \n",
    "        hidden = (weight.new(self.n_layers, batch_size, self.hidden_dim).zero_(),\n",
    "                      weight.new(self.n_layers, batch_size, self.hidden_dim).zero_())\n",
    "        \n",
    "        return hidden"
   ]
  },
  {
   "cell_type": "code",
   "execution_count": 28,
   "metadata": {},
   "outputs": [
    {
     "name": "stdout",
     "output_type": "stream",
     "text": [
      "lstm_classifier(\n",
      "  (embedding): Embedding(6327, 200)\n",
      "  (lstm): LSTM(200, 256, num_layers=2, batch_first=True, dropout=0.7)\n",
      "  (dropout): Dropout(p=0.7, inplace=False)\n",
      "  (fc): Linear(in_features=256, out_features=1, bias=True)\n",
      "  (sig): Sigmoid()\n",
      ")\n"
     ]
    }
   ],
   "source": [
    "# Instanciar el modelo con sus hiperparámetros\n",
    "\n",
    "vocab_size = len(vocab)+1 # +1 por la palabra 0 \"vacía\"\n",
    "output_size = 1\n",
    "embedding_dim = 200\n",
    "hidden_dim = 256\n",
    "n_layers = 2\n",
    "\n",
    "net = lstm_classifier(vocab_size, output_size, embedding_dim, hidden_dim, n_layers,drop_prob=0.7)\n",
    "\n",
    "lr=0.0003\n",
    "criterion = nn.BCELoss()\n",
    "optimizer = torch.optim.Adam(net.parameters(), lr=lr)\n",
    "# Imprime arquitecura del modelo\n",
    "print(net)"
   ]
  },
  {
   "cell_type": "markdown",
   "metadata": {},
   "source": [
    "## Entrenamiento del modelo\n",
    "\n",
    "### Importante: Este paso puede tardar varios minutos u horas\n",
    "\n",
    "A continuación, se procede a entrenar el modelo. Dado que los batch son generados al azar, el modelo de este entrenamiento puntual no será el mismo que el presentado en el prototipo. Sin embargo, posee el mismo ajuste de hiperparámetros.\n",
    "\n",
    "Se guardan todos los parámetros internos que logran un Accuracy mayor o igual a un 95%."
   ]
  },
  {
   "cell_type": "code",
   "execution_count": 20,
   "metadata": {
    "scrolled": true
   },
   "outputs": [
    {
     "name": "stdout",
     "output_type": "stream",
     "text": [
      "Epoch: 1/8... Step: 1... Train Loss: 0.696365... Val Loss: 0.695964... Accuracy: 0.387500\n",
      "Epoch: 1/8... Step: 2... Train Loss: 0.719186... Val Loss: 0.694727... Accuracy: 0.431250\n",
      "Epoch: 1/8... Step: 3... Train Loss: 0.701112... Val Loss: 0.693450... Accuracy: 0.506250\n",
      "Epoch: 1/8... Step: 4... Train Loss: 0.705638... Val Loss: 0.692366... Accuracy: 0.562500\n",
      "Epoch: 1/8... Step: 5... Train Loss: 0.704520... Val Loss: 0.691249... Accuracy: 0.606250\n",
      "Epoch: 1/8... Step: 6... Train Loss: 0.681302... Val Loss: 0.690024... Accuracy: 0.587500\n",
      "Epoch: 1/8... Step: 7... Train Loss: 0.699126... Val Loss: 0.688620... Accuracy: 0.606250\n",
      "Epoch: 1/8... Step: 8... Train Loss: 0.678108... Val Loss: 0.687277... Accuracy: 0.650000\n",
      "Epoch: 1/8... Step: 9... Train Loss: 0.684964... Val Loss: 0.686047... Accuracy: 0.662500\n",
      "Epoch: 1/8... Step: 10... Train Loss: 0.677049... Val Loss: 0.684726... Accuracy: 0.662500\n",
      "Epoch: 1/8... Step: 11... Train Loss: 0.694016... Val Loss: 0.683511... Accuracy: 0.662500\n",
      "Epoch: 1/8... Step: 12... Train Loss: 0.687626... Val Loss: 0.682363... Accuracy: 0.662500\n",
      "Epoch: 1/8... Step: 13... Train Loss: 0.690607... Val Loss: 0.681413... Accuracy: 0.662500\n",
      "Epoch: 1/8... Step: 14... Train Loss: 0.683852... Val Loss: 0.680424... Accuracy: 0.662500\n",
      "Epoch: 1/8... Step: 15... Train Loss: 0.663925... Val Loss: 0.679246... Accuracy: 0.662500\n",
      "Epoch: 1/8... Step: 16... Train Loss: 0.689458... Val Loss: 0.678158... Accuracy: 0.662500\n",
      "Epoch: 1/8... Step: 17... Train Loss: 0.673343... Val Loss: 0.677055... Accuracy: 0.662500\n",
      "Epoch: 1/8... Step: 18... Train Loss: 0.661637... Val Loss: 0.675984... Accuracy: 0.662500\n",
      "Epoch: 1/8... Step: 19... Train Loss: 0.668185... Val Loss: 0.674902... Accuracy: 0.662500\n",
      "Epoch: 1/8... Step: 20... Train Loss: 0.647940... Val Loss: 0.673593... Accuracy: 0.662500\n",
      "Epoch: 1/8... Step: 21... Train Loss: 0.623442... Val Loss: 0.672142... Accuracy: 0.662500\n",
      "Epoch: 1/8... Step: 22... Train Loss: 0.694604... Val Loss: 0.670768... Accuracy: 0.662500\n",
      "Epoch: 1/8... Step: 23... Train Loss: 0.690422... Val Loss: 0.669496... Accuracy: 0.662500\n",
      "Epoch: 1/8... Step: 24... Train Loss: 0.675021... Val Loss: 0.668265... Accuracy: 0.662500\n",
      "Epoch: 1/8... Step: 25... Train Loss: 0.673713... Val Loss: 0.667051... Accuracy: 0.662500\n",
      "Epoch: 1/8... Step: 26... Train Loss: 0.678099... Val Loss: 0.665906... Accuracy: 0.662500\n",
      "Epoch: 1/8... Step: 27... Train Loss: 0.680137... Val Loss: 0.664788... Accuracy: 0.662500\n",
      "Epoch: 1/8... Step: 28... Train Loss: 0.665363... Val Loss: 0.663667... Accuracy: 0.662500\n",
      "Epoch: 1/8... Step: 29... Train Loss: 0.659855... Val Loss: 0.662486... Accuracy: 0.662500\n",
      "Epoch: 1/8... Step: 30... Train Loss: 0.602869... Val Loss: 0.660991... Accuracy: 0.662500\n",
      "Epoch: 1/8... Step: 31... Train Loss: 0.665996... Val Loss: 0.659511... Accuracy: 0.662500\n",
      "Epoch: 1/8... Step: 32... Train Loss: 0.678457... Val Loss: 0.658142... Accuracy: 0.662500\n",
      "Epoch: 1/8... Step: 33... Train Loss: 0.672611... Val Loss: 0.656838... Accuracy: 0.662500\n",
      "Epoch: 1/8... Step: 34... Train Loss: 0.665278... Val Loss: 0.655479... Accuracy: 0.662500\n",
      "Epoch: 1/8... Step: 35... Train Loss: 0.611180... Val Loss: 0.653795... Accuracy: 0.662500\n",
      "Epoch: 1/8... Step: 36... Train Loss: 0.669411... Val Loss: 0.652051... Accuracy: 0.662500\n",
      "Epoch: 1/8... Step: 37... Train Loss: 0.611770... Val Loss: 0.649941... Accuracy: 0.662500\n",
      "Epoch: 1/8... Step: 38... Train Loss: 0.742886... Val Loss: 0.648243... Accuracy: 0.662500\n",
      "Epoch: 1/8... Step: 39... Train Loss: 0.672281... Val Loss: 0.646541... Accuracy: 0.662500\n",
      "Epoch: 1/8... Step: 40... Train Loss: 0.642732... Val Loss: 0.644728... Accuracy: 0.662500\n",
      "Epoch: 1/8... Step: 41... Train Loss: 0.597166... Val Loss: 0.642387... Accuracy: 0.662500\n",
      "Epoch: 1/8... Step: 42... Train Loss: 0.603807... Val Loss: 0.639554... Accuracy: 0.662500\n",
      "Epoch: 1/8... Step: 43... Train Loss: 0.687781... Val Loss: 0.636676... Accuracy: 0.662500\n",
      "Epoch: 1/8... Step: 44... Train Loss: 0.544713... Val Loss: 0.632821... Accuracy: 0.662500\n",
      "Epoch: 1/8... Step: 45... Train Loss: 0.658453... Val Loss: 0.628666... Accuracy: 0.662500\n",
      "Epoch: 1/8... Step: 46... Train Loss: 0.558982... Val Loss: 0.623351... Accuracy: 0.662500\n",
      "Epoch: 1/8... Step: 47... Train Loss: 0.742822... Val Loss: 0.618785... Accuracy: 0.662500\n",
      "Epoch: 1/8... Step: 48... Train Loss: 0.580207... Val Loss: 0.613052... Accuracy: 0.662500\n",
      "Epoch: 1/8... Step: 49... Train Loss: 0.652162... Val Loss: 0.607294... Accuracy: 0.662500\n",
      "Epoch: 1/8... Step: 50... Train Loss: 0.687603... Val Loss: 0.603616... Accuracy: 0.662500\n",
      "Epoch: 1/8... Step: 51... Train Loss: 0.600692... Val Loss: 0.599178... Accuracy: 0.662500\n",
      "Epoch: 1/8... Step: 52... Train Loss: 0.487173... Val Loss: 0.593035... Accuracy: 0.662500\n",
      "Epoch: 1/8... Step: 53... Train Loss: 0.679866... Val Loss: 0.589098... Accuracy: 0.662500\n",
      "Epoch: 1/8... Step: 54... Train Loss: 0.643670... Val Loss: 0.585101... Accuracy: 0.662500\n",
      "Epoch: 1/8... Step: 55... Train Loss: 0.552438... Val Loss: 0.583691... Accuracy: 0.662500\n",
      "Epoch: 1/8... Step: 56... Train Loss: 0.589247... Val Loss: 0.584149... Accuracy: 0.662500\n",
      "Epoch: 1/8... Step: 57... Train Loss: 0.522179... Val Loss: 0.576804... Accuracy: 0.662500\n",
      "Epoch: 1/8... Step: 58... Train Loss: 0.949683... Val Loss: 0.557559... Accuracy: 0.662500\n",
      "Epoch: 1/8... Step: 59... Train Loss: 0.618220... Val Loss: 0.560754... Accuracy: 0.662500\n",
      "Epoch: 1/8... Step: 60... Train Loss: 0.664246... Val Loss: 0.567009... Accuracy: 0.662500\n",
      "Epoch: 1/8... Step: 61... Train Loss: 0.580876... Val Loss: 0.569579... Accuracy: 0.662500\n",
      "Epoch: 1/8... Step: 62... Train Loss: 0.611404... Val Loss: 0.571227... Accuracy: 0.662500\n",
      "Epoch: 1/8... Step: 63... Train Loss: 0.658568... Val Loss: 0.572271... Accuracy: 0.662500\n",
      "Epoch: 2/8... Step: 1... Train Loss: 0.565045... Val Loss: 0.569731... Accuracy: 0.662500\n",
      "Epoch: 2/8... Step: 2... Train Loss: 0.554806... Val Loss: 0.561617... Accuracy: 0.662500\n",
      "Epoch: 2/8... Step: 3... Train Loss: 0.611283... Val Loss: 0.551079... Accuracy: 0.662500\n",
      "Epoch: 2/8... Step: 4... Train Loss: 0.572115... Val Loss: 0.532273... Accuracy: 0.662500\n",
      "Epoch: 2/8... Step: 5... Train Loss: 0.342021... Val Loss: 0.492797... Accuracy: 0.668750\n",
      "Epoch: 2/8... Step: 6... Train Loss: 0.590656... Val Loss: 0.468515... Accuracy: 0.675000\n",
      "Epoch: 2/8... Step: 7... Train Loss: 0.540151... Val Loss: 0.526841... Accuracy: 0.675000\n",
      "Epoch: 2/8... Step: 8... Train Loss: 0.410112... Val Loss: 0.477196... Accuracy: 0.675000\n",
      "Epoch: 2/8... Step: 9... Train Loss: 0.558823... Val Loss: 0.447379... Accuracy: 0.675000\n",
      "Epoch: 2/8... Step: 10... Train Loss: 0.373915... Val Loss: 0.466183... Accuracy: 0.675000\n",
      "Epoch: 2/8... Step: 11... Train Loss: 0.593846... Val Loss: 0.487416... Accuracy: 0.675000\n",
      "Epoch: 2/8... Step: 12... Train Loss: 0.559501... Val Loss: 0.500419... Accuracy: 0.675000\n",
      "Epoch: 2/8... Step: 13... Train Loss: 0.581095... Val Loss: 0.516738... Accuracy: 0.681250\n",
      "Epoch: 2/8... Step: 14... Train Loss: 0.478072... Val Loss: 0.523382... Accuracy: 0.681250\n",
      "Epoch: 2/8... Step: 15... Train Loss: 0.523915... Val Loss: 0.528662... Accuracy: 0.681250\n",
      "Epoch: 2/8... Step: 16... Train Loss: 0.538780... Val Loss: 0.529004... Accuracy: 0.687500\n",
      "Epoch: 2/8... Step: 17... Train Loss: 0.428240... Val Loss: 0.521759... Accuracy: 0.700000\n",
      "Epoch: 2/8... Step: 18... Train Loss: 0.486026... Val Loss: 0.509296... Accuracy: 0.712500\n",
      "Epoch: 2/8... Step: 19... Train Loss: 0.541572... Val Loss: 0.488605... Accuracy: 0.718750\n",
      "Epoch: 2/8... Step: 20... Train Loss: 0.563592... Val Loss: 0.464467... Accuracy: 0.718750\n",
      "Epoch: 2/8... Step: 21... Train Loss: 0.272747... Val Loss: 0.423038... Accuracy: 0.725000\n",
      "Epoch: 2/8... Step: 22... Train Loss: 0.526352... Val Loss: 0.383143... Accuracy: 0.731250\n",
      "Epoch: 2/8... Step: 23... Train Loss: 0.308361... Val Loss: 0.370109... Accuracy: 0.725000\n",
      "Epoch: 2/8... Step: 24... Train Loss: 0.224345... Val Loss: 0.389423... Accuracy: 0.725000\n",
      "Epoch: 2/8... Step: 25... Train Loss: 0.610368... Val Loss: 0.390544... Accuracy: 0.725000\n",
      "Epoch: 2/8... Step: 26... Train Loss: 0.612228... Val Loss: 0.373529... Accuracy: 0.737500\n",
      "Epoch: 2/8... Step: 27... Train Loss: 0.322164... Val Loss: 0.350188... Accuracy: 0.743750\n",
      "Epoch: 2/8... Step: 28... Train Loss: 0.395093... Val Loss: 0.364581... Accuracy: 0.762500\n"
     ]
    },
    {
     "name": "stdout",
     "output_type": "stream",
     "text": [
      "Epoch: 2/8... Step: 29... Train Loss: 0.400148... Val Loss: 0.387272... Accuracy: 0.775000\n",
      "Epoch: 2/8... Step: 30... Train Loss: 0.339501... Val Loss: 0.396339... Accuracy: 0.768750\n",
      "Epoch: 2/8... Step: 31... Train Loss: 0.407826... Val Loss: 0.396483... Accuracy: 0.768750\n",
      "Epoch: 2/8... Step: 32... Train Loss: 0.543507... Val Loss: 0.389751... Accuracy: 0.787500\n",
      "Epoch: 2/8... Step: 33... Train Loss: 0.437727... Val Loss: 0.372462... Accuracy: 0.793750\n",
      "Epoch: 2/8... Step: 34... Train Loss: 0.292818... Val Loss: 0.353161... Accuracy: 0.793750\n",
      "Epoch: 2/8... Step: 35... Train Loss: 0.602893... Val Loss: 0.334964... Accuracy: 0.787500\n",
      "Epoch: 2/8... Step: 36... Train Loss: 0.470809... Val Loss: 0.326079... Accuracy: 0.787500\n",
      "Epoch: 2/8... Step: 37... Train Loss: 0.231330... Val Loss: 0.319255... Accuracy: 0.787500\n",
      "Epoch: 2/8... Step: 38... Train Loss: 0.702520... Val Loss: 0.318866... Accuracy: 0.800000\n",
      "Epoch: 2/8... Step: 39... Train Loss: 0.690707... Val Loss: 0.324304... Accuracy: 0.812500\n",
      "Epoch: 2/8... Step: 40... Train Loss: 0.359914... Val Loss: 0.329386... Accuracy: 0.825000\n",
      "Epoch: 2/8... Step: 41... Train Loss: 0.338632... Val Loss: 0.334283... Accuracy: 0.843750\n",
      "Epoch: 2/8... Step: 42... Train Loss: 0.217395... Val Loss: 0.333358... Accuracy: 0.837500\n",
      "Epoch: 2/8... Step: 43... Train Loss: 0.305193... Val Loss: 0.330566... Accuracy: 0.850000\n",
      "Epoch: 2/8... Step: 44... Train Loss: 0.320916... Val Loss: 0.325352... Accuracy: 0.850000\n",
      "Epoch: 2/8... Step: 45... Train Loss: 0.333428... Val Loss: 0.317545... Accuracy: 0.856250\n",
      "Epoch: 2/8... Step: 46... Train Loss: 0.407820... Val Loss: 0.309247... Accuracy: 0.868750\n",
      "Epoch: 2/8... Step: 47... Train Loss: 0.432570... Val Loss: 0.301715... Accuracy: 0.875000\n",
      "Epoch: 2/8... Step: 48... Train Loss: 0.250569... Val Loss: 0.293996... Accuracy: 0.875000\n",
      "Epoch: 2/8... Step: 49... Train Loss: 0.453857... Val Loss: 0.290917... Accuracy: 0.875000\n",
      "Epoch: 2/8... Step: 50... Train Loss: 0.220934... Val Loss: 0.286792... Accuracy: 0.887500\n",
      "Epoch: 2/8... Step: 51... Train Loss: 0.332246... Val Loss: 0.281546... Accuracy: 0.912500\n",
      "Epoch: 2/8... Step: 52... Train Loss: 0.545677... Val Loss: 0.286179... Accuracy: 0.912500\n",
      "Epoch: 2/8... Step: 53... Train Loss: 0.157968... Val Loss: 0.288430... Accuracy: 0.906250\n",
      "Epoch: 2/8... Step: 54... Train Loss: 0.395625... Val Loss: 0.282950... Accuracy: 0.906250\n",
      "Epoch: 2/8... Step: 55... Train Loss: 0.294647... Val Loss: 0.266270... Accuracy: 0.918750\n",
      "Epoch: 2/8... Step: 56... Train Loss: 0.312374... Val Loss: 0.250041... Accuracy: 0.925000\n",
      "Epoch: 2/8... Step: 57... Train Loss: 0.642660... Val Loss: 0.240350... Accuracy: 0.937500\n",
      "Epoch: 2/8... Step: 58... Train Loss: 0.117792... Val Loss: 0.267578... Accuracy: 0.925000\n",
      "Epoch: 2/8... Step: 59... Train Loss: 0.394750... Val Loss: 0.270547... Accuracy: 0.918750\n",
      "Epoch: 2/8... Step: 60... Train Loss: 0.385709... Val Loss: 0.363646... Accuracy: 0.875000\n",
      "Epoch: 2/8... Step: 61... Train Loss: 0.303202... Val Loss: 0.464365... Accuracy: 0.843750\n",
      "Epoch: 2/8... Step: 62... Train Loss: 0.095566... Val Loss: 0.532480... Accuracy: 0.843750\n",
      "Epoch: 2/8... Step: 63... Train Loss: 0.110405... Val Loss: 0.581258... Accuracy: 0.831250\n",
      "Epoch: 3/8... Step: 1... Train Loss: 0.130691... Val Loss: 0.660905... Accuracy: 0.825000\n",
      "Epoch: 3/8... Step: 2... Train Loss: 0.582626... Val Loss: 0.712678... Accuracy: 0.825000\n",
      "Epoch: 3/8... Step: 3... Train Loss: 0.101705... Val Loss: 0.738225... Accuracy: 0.818750\n",
      "Epoch: 3/8... Step: 4... Train Loss: 1.093455... Val Loss: 0.738259... Accuracy: 0.825000\n",
      "Epoch: 3/8... Step: 5... Train Loss: 0.233619... Val Loss: 0.734282... Accuracy: 0.818750\n",
      "Epoch: 3/8... Step: 6... Train Loss: 0.040293... Val Loss: 0.731014... Accuracy: 0.818750\n",
      "Epoch: 3/8... Step: 7... Train Loss: 0.601533... Val Loss: 0.721182... Accuracy: 0.825000\n",
      "Epoch: 3/8... Step: 8... Train Loss: 0.142430... Val Loss: 0.708667... Accuracy: 0.837500\n",
      "Epoch: 3/8... Step: 9... Train Loss: 0.614115... Val Loss: 0.665732... Accuracy: 0.850000\n",
      "Epoch: 3/8... Step: 10... Train Loss: 0.183075... Val Loss: 0.639236... Accuracy: 0.868750\n",
      "Epoch: 3/8... Step: 11... Train Loss: 1.237578... Val Loss: 0.573161... Accuracy: 0.875000\n",
      "Epoch: 3/8... Step: 12... Train Loss: 0.125937... Val Loss: 0.495288... Accuracy: 0.893750\n",
      "Epoch: 3/8... Step: 13... Train Loss: 0.522737... Val Loss: 0.449397... Accuracy: 0.912500\n",
      "Epoch: 3/8... Step: 14... Train Loss: 0.382920... Val Loss: 0.408305... Accuracy: 0.918750\n",
      "Epoch: 3/8... Step: 15... Train Loss: 0.112364... Val Loss: 0.368440... Accuracy: 0.937500\n",
      "Epoch: 3/8... Step: 16... Train Loss: 0.565802... Val Loss: 0.326221... Accuracy: 0.943750\n",
      "Epoch: 3/8... Step: 17... Train Loss: 0.610577... Val Loss: 0.278472... Accuracy: 0.943750\n",
      "Epoch: 3/8... Step: 18... Train Loss: 0.104279... Val Loss: 0.246682... Accuracy: 0.943750\n",
      "Epoch: 3/8... Step: 19... Train Loss: 0.119193... Val Loss: 0.225426... Accuracy: 0.950000\n",
      "Epoch: 3/8... Step: 20... Train Loss: 0.122125... Val Loss: 0.191063... Accuracy: 0.943750\n",
      "Epoch: 3/8... Step: 21... Train Loss: 0.269959... Val Loss: 0.195644... Accuracy: 0.937500\n",
      "Epoch: 3/8... Step: 22... Train Loss: 0.243436... Val Loss: 0.179976... Accuracy: 0.943750\n",
      "Epoch: 3/8... Step: 23... Train Loss: 0.104428... Val Loss: 0.182557... Accuracy: 0.943750\n",
      "Epoch: 3/8... Step: 24... Train Loss: 0.114611... Val Loss: 0.182913... Accuracy: 0.943750\n",
      "Epoch: 3/8... Step: 25... Train Loss: 0.062636... Val Loss: 0.179820... Accuracy: 0.943750\n",
      "Epoch: 3/8... Step: 26... Train Loss: 0.442573... Val Loss: 0.177140... Accuracy: 0.943750\n",
      "Epoch: 3/8... Step: 27... Train Loss: 0.209817... Val Loss: 0.185712... Accuracy: 0.950000\n",
      "Epoch: 3/8... Step: 28... Train Loss: 0.090901... Val Loss: 0.189807... Accuracy: 0.950000\n",
      "Epoch: 3/8... Step: 29... Train Loss: 0.072750... Val Loss: 0.179122... Accuracy: 0.956250\n",
      "Epoch: 3/8... Step: 30... Train Loss: 0.042084... Val Loss: 0.190965... Accuracy: 0.950000\n",
      "Epoch: 3/8... Step: 31... Train Loss: 0.545141... Val Loss: 0.232539... Accuracy: 0.943750\n",
      "Epoch: 3/8... Step: 32... Train Loss: 0.354374... Val Loss: 0.248620... Accuracy: 0.950000\n",
      "Epoch: 3/8... Step: 33... Train Loss: 0.731412... Val Loss: 0.274464... Accuracy: 0.937500\n",
      "Epoch: 3/8... Step: 34... Train Loss: 0.096249... Val Loss: 0.294452... Accuracy: 0.931250\n",
      "Epoch: 3/8... Step: 35... Train Loss: 0.389454... Val Loss: 0.234042... Accuracy: 0.943750\n",
      "Epoch: 3/8... Step: 36... Train Loss: 0.166003... Val Loss: 0.236021... Accuracy: 0.943750\n",
      "Epoch: 3/8... Step: 37... Train Loss: 0.154243... Val Loss: 0.209653... Accuracy: 0.956250\n",
      "Epoch: 3/8... Step: 38... Train Loss: 0.474088... Val Loss: 0.204761... Accuracy: 0.956250\n",
      "Epoch: 3/8... Step: 39... Train Loss: 0.098631... Val Loss: 0.192659... Accuracy: 0.943750\n",
      "Epoch: 3/8... Step: 40... Train Loss: 0.318459... Val Loss: 0.183189... Accuracy: 0.943750\n",
      "Epoch: 3/8... Step: 41... Train Loss: 0.087532... Val Loss: 0.155495... Accuracy: 0.956250\n",
      "Epoch: 3/8... Step: 42... Train Loss: 0.323067... Val Loss: 0.141968... Accuracy: 0.962500\n",
      "Epoch: 3/8... Step: 43... Train Loss: 0.172029... Val Loss: 0.140778... Accuracy: 0.962500\n",
      "Epoch: 3/8... Step: 44... Train Loss: 0.431979... Val Loss: 0.203402... Accuracy: 0.950000\n",
      "Epoch: 3/8... Step: 45... Train Loss: 0.822820... Val Loss: 0.229892... Accuracy: 0.943750\n",
      "Epoch: 3/8... Step: 46... Train Loss: 0.376637... Val Loss: 0.256922... Accuracy: 0.931250\n",
      "Epoch: 3/8... Step: 47... Train Loss: 0.057296... Val Loss: 0.264652... Accuracy: 0.931250\n",
      "Epoch: 3/8... Step: 48... Train Loss: 0.108807... Val Loss: 0.268125... Accuracy: 0.925000\n",
      "Epoch: 3/8... Step: 49... Train Loss: 0.406767... Val Loss: 0.265240... Accuracy: 0.931250\n",
      "Epoch: 3/8... Step: 50... Train Loss: 0.706211... Val Loss: 0.261111... Accuracy: 0.931250\n",
      "Epoch: 3/8... Step: 51... Train Loss: 0.034719... Val Loss: 0.257262... Accuracy: 0.931250\n",
      "Epoch: 3/8... Step: 52... Train Loss: 0.496938... Val Loss: 0.285324... Accuracy: 0.918750\n",
      "Epoch: 3/8... Step: 53... Train Loss: 0.177148... Val Loss: 0.280546... Accuracy: 0.918750\n",
      "Epoch: 3/8... Step: 54... Train Loss: 0.138777... Val Loss: 0.265893... Accuracy: 0.925000\n",
      "Epoch: 3/8... Step: 55... Train Loss: 0.061733... Val Loss: 0.251499... Accuracy: 0.925000\n",
      "Epoch: 3/8... Step: 56... Train Loss: 0.239311... Val Loss: 0.180684... Accuracy: 0.956250\n"
     ]
    },
    {
     "name": "stdout",
     "output_type": "stream",
     "text": [
      "Epoch: 3/8... Step: 57... Train Loss: 0.428757... Val Loss: 0.157209... Accuracy: 0.962500\n",
      "Epoch: 3/8... Step: 58... Train Loss: 0.424652... Val Loss: 0.148364... Accuracy: 0.962500\n",
      "Epoch: 3/8... Step: 59... Train Loss: 0.499328... Val Loss: 0.160382... Accuracy: 0.956250\n",
      "Epoch: 3/8... Step: 60... Train Loss: 0.342523... Val Loss: 0.138862... Accuracy: 0.968750\n",
      "Epoch: 3/8... Step: 61... Train Loss: 0.675604... Val Loss: 0.149759... Accuracy: 0.950000\n",
      "Epoch: 3/8... Step: 62... Train Loss: 0.143965... Val Loss: 0.144153... Accuracy: 0.956250\n",
      "Epoch: 3/8... Step: 63... Train Loss: 0.060555... Val Loss: 0.140626... Accuracy: 0.956250\n",
      "Epoch: 4/8... Step: 1... Train Loss: 0.088086... Val Loss: 0.138372... Accuracy: 0.956250\n",
      "Epoch: 4/8... Step: 2... Train Loss: 0.267552... Val Loss: 0.136872... Accuracy: 0.956250\n",
      "Epoch: 4/8... Step: 3... Train Loss: 0.334918... Val Loss: 0.136195... Accuracy: 0.956250\n",
      "Epoch: 4/8... Step: 4... Train Loss: 0.067614... Val Loss: 0.135536... Accuracy: 0.956250\n",
      "Epoch: 4/8... Step: 5... Train Loss: 0.067055... Val Loss: 0.135581... Accuracy: 0.956250\n",
      "Epoch: 4/8... Step: 6... Train Loss: 0.518776... Val Loss: 0.134379... Accuracy: 0.956250\n",
      "Epoch: 4/8... Step: 7... Train Loss: 0.098025... Val Loss: 0.130943... Accuracy: 0.962500\n",
      "Epoch: 4/8... Step: 8... Train Loss: 0.062930... Val Loss: 0.131465... Accuracy: 0.962500\n",
      "Epoch: 4/8... Step: 9... Train Loss: 0.113270... Val Loss: 0.143609... Accuracy: 0.956250\n",
      "Epoch: 4/8... Step: 10... Train Loss: 0.061287... Val Loss: 0.157739... Accuracy: 0.943750\n",
      "Epoch: 4/8... Step: 11... Train Loss: 0.231321... Val Loss: 0.153994... Accuracy: 0.943750\n",
      "Epoch: 4/8... Step: 12... Train Loss: 0.064806... Val Loss: 0.150729... Accuracy: 0.950000\n",
      "Epoch: 4/8... Step: 13... Train Loss: 0.269008... Val Loss: 0.151753... Accuracy: 0.950000\n",
      "Epoch: 4/8... Step: 14... Train Loss: 0.066980... Val Loss: 0.154239... Accuracy: 0.950000\n",
      "Epoch: 4/8... Step: 15... Train Loss: 0.317624... Val Loss: 0.165720... Accuracy: 0.937500\n",
      "Epoch: 4/8... Step: 16... Train Loss: 0.052756... Val Loss: 0.173788... Accuracy: 0.937500\n",
      "Epoch: 4/8... Step: 17... Train Loss: 0.063600... Val Loss: 0.191266... Accuracy: 0.925000\n",
      "Epoch: 4/8... Step: 18... Train Loss: 0.407108... Val Loss: 0.134818... Accuracy: 0.956250\n",
      "Epoch: 4/8... Step: 19... Train Loss: 0.103719... Val Loss: 0.132517... Accuracy: 0.968750\n",
      "Epoch: 4/8... Step: 20... Train Loss: 0.254401... Val Loss: 0.131876... Accuracy: 0.968750\n",
      "Epoch: 4/8... Step: 21... Train Loss: 0.051879... Val Loss: 0.131649... Accuracy: 0.968750\n",
      "Epoch: 4/8... Step: 22... Train Loss: 0.343939... Val Loss: 0.130998... Accuracy: 0.968750\n",
      "Epoch: 4/8... Step: 23... Train Loss: 0.076088... Val Loss: 0.130315... Accuracy: 0.975000\n",
      "Epoch: 4/8... Step: 24... Train Loss: 0.071558... Val Loss: 0.129518... Accuracy: 0.975000\n",
      "Epoch: 4/8... Step: 25... Train Loss: 0.071708... Val Loss: 0.128653... Accuracy: 0.975000\n",
      "Epoch: 4/8... Step: 26... Train Loss: 0.360808... Val Loss: 0.126674... Accuracy: 0.968750\n",
      "Epoch: 4/8... Step: 27... Train Loss: 0.374583... Val Loss: 0.125432... Accuracy: 0.968750\n",
      "Epoch: 4/8... Step: 28... Train Loss: 0.057635... Val Loss: 0.126479... Accuracy: 0.975000\n",
      "Epoch: 4/8... Step: 29... Train Loss: 0.452522... Val Loss: 0.134784... Accuracy: 0.950000\n",
      "Epoch: 4/8... Step: 30... Train Loss: 0.395787... Val Loss: 0.164866... Accuracy: 0.943750\n",
      "Epoch: 4/8... Step: 31... Train Loss: 0.367169... Val Loss: 0.159783... Accuracy: 0.943750\n",
      "Epoch: 4/8... Step: 32... Train Loss: 0.215837... Val Loss: 0.172276... Accuracy: 0.937500\n",
      "Epoch: 4/8... Step: 33... Train Loss: 0.325681... Val Loss: 0.177537... Accuracy: 0.937500\n",
      "Epoch: 4/8... Step: 34... Train Loss: 0.045269... Val Loss: 0.180851... Accuracy: 0.937500\n",
      "Epoch: 4/8... Step: 35... Train Loss: 0.281628... Val Loss: 0.182380... Accuracy: 0.937500\n",
      "Epoch: 4/8... Step: 36... Train Loss: 0.366866... Val Loss: 0.184465... Accuracy: 0.937500\n",
      "Epoch: 4/8... Step: 37... Train Loss: 0.067038... Val Loss: 0.186414... Accuracy: 0.937500\n",
      "Epoch: 4/8... Step: 38... Train Loss: 0.158109... Val Loss: 0.185734... Accuracy: 0.937500\n",
      "Epoch: 4/8... Step: 39... Train Loss: 0.049260... Val Loss: 0.184913... Accuracy: 0.937500\n",
      "Epoch: 4/8... Step: 40... Train Loss: 0.111485... Val Loss: 0.183194... Accuracy: 0.937500\n",
      "Epoch: 4/8... Step: 41... Train Loss: 0.082876... Val Loss: 0.181245... Accuracy: 0.937500\n",
      "Epoch: 4/8... Step: 42... Train Loss: 0.118668... Val Loss: 0.178718... Accuracy: 0.937500\n",
      "Epoch: 4/8... Step: 43... Train Loss: 0.122893... Val Loss: 0.179799... Accuracy: 0.937500\n",
      "Epoch: 4/8... Step: 44... Train Loss: 0.089640... Val Loss: 0.184571... Accuracy: 0.925000\n",
      "Epoch: 4/8... Step: 45... Train Loss: 0.078929... Val Loss: 0.188923... Accuracy: 0.918750\n",
      "Epoch: 4/8... Step: 46... Train Loss: 0.046566... Val Loss: 0.193327... Accuracy: 0.918750\n",
      "Epoch: 4/8... Step: 47... Train Loss: 0.058048... Val Loss: 0.193281... Accuracy: 0.925000\n",
      "Epoch: 4/8... Step: 48... Train Loss: 0.067060... Val Loss: 0.197542... Accuracy: 0.925000\n",
      "Epoch: 4/8... Step: 49... Train Loss: 0.049157... Val Loss: 0.201435... Accuracy: 0.925000\n",
      "Epoch: 4/8... Step: 50... Train Loss: 0.052559... Val Loss: 0.204936... Accuracy: 0.925000\n",
      "Epoch: 4/8... Step: 51... Train Loss: 0.302643... Val Loss: 0.207051... Accuracy: 0.925000\n",
      "Epoch: 4/8... Step: 52... Train Loss: 0.297534... Val Loss: 0.207122... Accuracy: 0.925000\n",
      "Epoch: 4/8... Step: 53... Train Loss: 0.191329... Val Loss: 0.192402... Accuracy: 0.925000\n",
      "Epoch: 4/8... Step: 54... Train Loss: 0.107641... Val Loss: 0.180481... Accuracy: 0.925000\n",
      "Epoch: 4/8... Step: 55... Train Loss: 0.320633... Val Loss: 0.170375... Accuracy: 0.931250\n",
      "Epoch: 4/8... Step: 56... Train Loss: 0.062419... Val Loss: 0.169179... Accuracy: 0.937500\n",
      "Epoch: 4/8... Step: 57... Train Loss: 0.041518... Val Loss: 0.163665... Accuracy: 0.937500\n",
      "Epoch: 4/8... Step: 58... Train Loss: 0.091961... Val Loss: 0.156167... Accuracy: 0.950000\n",
      "Epoch: 4/8... Step: 59... Train Loss: 0.432250... Val Loss: 0.142877... Accuracy: 0.950000\n",
      "Epoch: 4/8... Step: 60... Train Loss: 0.036735... Val Loss: 0.139596... Accuracy: 0.956250\n",
      "Epoch: 4/8... Step: 61... Train Loss: 0.115615... Val Loss: 0.130818... Accuracy: 0.962500\n",
      "Epoch: 4/8... Step: 62... Train Loss: 0.048142... Val Loss: 0.129643... Accuracy: 0.968750\n",
      "Epoch: 4/8... Step: 63... Train Loss: 0.111144... Val Loss: 0.133498... Accuracy: 0.968750\n",
      "Epoch: 5/8... Step: 1... Train Loss: 0.100439... Val Loss: 0.137281... Accuracy: 0.968750\n",
      "Epoch: 5/8... Step: 2... Train Loss: 0.082729... Val Loss: 0.138294... Accuracy: 0.962500\n",
      "Epoch: 5/8... Step: 3... Train Loss: 0.056067... Val Loss: 0.139915... Accuracy: 0.950000\n",
      "Epoch: 5/8... Step: 4... Train Loss: 0.081588... Val Loss: 0.139365... Accuracy: 0.950000\n",
      "Epoch: 5/8... Step: 5... Train Loss: 0.032165... Val Loss: 0.138472... Accuracy: 0.956250\n",
      "Epoch: 5/8... Step: 6... Train Loss: 0.315368... Val Loss: 0.138560... Accuracy: 0.956250\n",
      "Epoch: 5/8... Step: 7... Train Loss: 0.034298... Val Loss: 0.138071... Accuracy: 0.956250\n",
      "Epoch: 5/8... Step: 8... Train Loss: 0.054770... Val Loss: 0.135566... Accuracy: 0.956250\n",
      "Epoch: 5/8... Step: 9... Train Loss: 0.050889... Val Loss: 0.133399... Accuracy: 0.956250\n",
      "Epoch: 5/8... Step: 10... Train Loss: 0.066190... Val Loss: 0.129885... Accuracy: 0.956250\n",
      "Epoch: 5/8... Step: 11... Train Loss: 0.052459... Val Loss: 0.127266... Accuracy: 0.962500\n",
      "Epoch: 5/8... Step: 12... Train Loss: 0.050079... Val Loss: 0.124539... Accuracy: 0.962500\n",
      "Epoch: 5/8... Step: 13... Train Loss: 0.415923... Val Loss: 0.122575... Accuracy: 0.956250\n",
      "Epoch: 5/8... Step: 14... Train Loss: 0.029445... Val Loss: 0.121277... Accuracy: 0.956250\n",
      "Epoch: 5/8... Step: 15... Train Loss: 0.034408... Val Loss: 0.120939... Accuracy: 0.956250\n",
      "Epoch: 5/8... Step: 16... Train Loss: 0.030529... Val Loss: 0.121626... Accuracy: 0.956250\n",
      "Epoch: 5/8... Step: 17... Train Loss: 0.029459... Val Loss: 0.122222... Accuracy: 0.956250\n",
      "Epoch: 5/8... Step: 18... Train Loss: 0.054480... Val Loss: 0.120889... Accuracy: 0.962500\n",
      "Epoch: 5/8... Step: 19... Train Loss: 0.057260... Val Loss: 0.119052... Accuracy: 0.956250\n",
      "Epoch: 5/8... Step: 20... Train Loss: 0.230937... Val Loss: 0.118442... Accuracy: 0.956250\n",
      "Epoch: 5/8... Step: 21... Train Loss: 0.032610... Val Loss: 0.116910... Accuracy: 0.956250\n"
     ]
    },
    {
     "name": "stdout",
     "output_type": "stream",
     "text": [
      "Epoch: 5/8... Step: 22... Train Loss: 0.378091... Val Loss: 0.112587... Accuracy: 0.962500\n",
      "Epoch: 5/8... Step: 23... Train Loss: 0.190437... Val Loss: 0.116145... Accuracy: 0.962500\n",
      "Epoch: 5/8... Step: 24... Train Loss: 0.033401... Val Loss: 0.121791... Accuracy: 0.956250\n",
      "Epoch: 5/8... Step: 25... Train Loss: 0.030460... Val Loss: 0.128337... Accuracy: 0.956250\n",
      "Epoch: 5/8... Step: 26... Train Loss: 0.029161... Val Loss: 0.136977... Accuracy: 0.950000\n",
      "Epoch: 5/8... Step: 27... Train Loss: 0.030622... Val Loss: 0.147374... Accuracy: 0.950000\n",
      "Epoch: 5/8... Step: 28... Train Loss: 0.012798... Val Loss: 0.156144... Accuracy: 0.950000\n",
      "Epoch: 5/8... Step: 29... Train Loss: 0.236350... Val Loss: 0.168185... Accuracy: 0.943750\n",
      "Epoch: 5/8... Step: 30... Train Loss: 0.295947... Val Loss: 0.182956... Accuracy: 0.931250\n",
      "Epoch: 5/8... Step: 31... Train Loss: 0.037472... Val Loss: 0.196347... Accuracy: 0.931250\n",
      "Epoch: 5/8... Step: 32... Train Loss: 0.294579... Val Loss: 0.208017... Accuracy: 0.925000\n",
      "Epoch: 5/8... Step: 33... Train Loss: 0.020898... Val Loss: 0.218229... Accuracy: 0.925000\n",
      "Epoch: 5/8... Step: 34... Train Loss: 0.286103... Val Loss: 0.209896... Accuracy: 0.931250\n",
      "Epoch: 5/8... Step: 35... Train Loss: 0.065953... Val Loss: 0.197764... Accuracy: 0.931250\n",
      "Epoch: 5/8... Step: 36... Train Loss: 0.036428... Val Loss: 0.188263... Accuracy: 0.937500\n",
      "Epoch: 5/8... Step: 37... Train Loss: 0.037985... Val Loss: 0.179727... Accuracy: 0.937500\n",
      "Epoch: 5/8... Step: 38... Train Loss: 0.052000... Val Loss: 0.172327... Accuracy: 0.937500\n",
      "Epoch: 5/8... Step: 39... Train Loss: 0.044324... Val Loss: 0.167228... Accuracy: 0.937500\n",
      "Epoch: 5/8... Step: 40... Train Loss: 0.075317... Val Loss: 0.163251... Accuracy: 0.943750\n",
      "Epoch: 5/8... Step: 41... Train Loss: 0.061070... Val Loss: 0.160747... Accuracy: 0.943750\n",
      "Epoch: 5/8... Step: 42... Train Loss: 0.083979... Val Loss: 0.158914... Accuracy: 0.943750\n",
      "Epoch: 5/8... Step: 43... Train Loss: 0.036401... Val Loss: 0.156910... Accuracy: 0.943750\n",
      "Epoch: 5/8... Step: 44... Train Loss: 0.035942... Val Loss: 0.154594... Accuracy: 0.937500\n",
      "Epoch: 5/8... Step: 45... Train Loss: 0.046492... Val Loss: 0.154354... Accuracy: 0.937500\n",
      "Epoch: 5/8... Step: 46... Train Loss: 0.042428... Val Loss: 0.155156... Accuracy: 0.937500\n",
      "Epoch: 5/8... Step: 47... Train Loss: 0.029004... Val Loss: 0.156060... Accuracy: 0.937500\n",
      "Epoch: 5/8... Step: 48... Train Loss: 0.044841... Val Loss: 0.156040... Accuracy: 0.937500\n",
      "Epoch: 5/8... Step: 49... Train Loss: 0.030024... Val Loss: 0.156174... Accuracy: 0.937500\n",
      "Epoch: 5/8... Step: 50... Train Loss: 0.029644... Val Loss: 0.156824... Accuracy: 0.943750\n",
      "Epoch: 5/8... Step: 51... Train Loss: 0.017650... Val Loss: 0.157293... Accuracy: 0.937500\n",
      "Epoch: 5/8... Step: 52... Train Loss: 0.018055... Val Loss: 0.157711... Accuracy: 0.937500\n",
      "Epoch: 5/8... Step: 53... Train Loss: 0.393212... Val Loss: 0.146707... Accuracy: 0.943750\n",
      "Epoch: 5/8... Step: 54... Train Loss: 0.040028... Val Loss: 0.137410... Accuracy: 0.950000\n",
      "Epoch: 5/8... Step: 55... Train Loss: 0.026297... Val Loss: 0.132163... Accuracy: 0.956250\n",
      "Epoch: 5/8... Step: 56... Train Loss: 0.294805... Val Loss: 0.130089... Accuracy: 0.950000\n",
      "Epoch: 5/8... Step: 57... Train Loss: 0.057964... Val Loss: 0.130129... Accuracy: 0.956250\n",
      "Epoch: 5/8... Step: 58... Train Loss: 0.325807... Val Loss: 0.134005... Accuracy: 0.956250\n",
      "Epoch: 5/8... Step: 59... Train Loss: 0.492951... Val Loss: 0.146852... Accuracy: 0.931250\n",
      "Epoch: 5/8... Step: 60... Train Loss: 0.342391... Val Loss: 0.170253... Accuracy: 0.925000\n",
      "Epoch: 5/8... Step: 61... Train Loss: 0.026165... Val Loss: 0.195095... Accuracy: 0.925000\n",
      "Epoch: 5/8... Step: 62... Train Loss: 0.176683... Val Loss: 0.176499... Accuracy: 0.918750\n",
      "Epoch: 5/8... Step: 63... Train Loss: 0.019407... Val Loss: 0.165625... Accuracy: 0.937500\n",
      "Epoch: 6/8... Step: 1... Train Loss: 0.016272... Val Loss: 0.160155... Accuracy: 0.943750\n",
      "Epoch: 6/8... Step: 2... Train Loss: 0.038889... Val Loss: 0.156275... Accuracy: 0.943750\n",
      "Epoch: 6/8... Step: 3... Train Loss: 0.020472... Val Loss: 0.154288... Accuracy: 0.943750\n",
      "Epoch: 6/8... Step: 4... Train Loss: 0.027320... Val Loss: 0.152567... Accuracy: 0.943750\n",
      "Epoch: 6/8... Step: 5... Train Loss: 0.034336... Val Loss: 0.151251... Accuracy: 0.943750\n",
      "Epoch: 6/8... Step: 6... Train Loss: 0.239580... Val Loss: 0.152320... Accuracy: 0.937500\n",
      "Epoch: 6/8... Step: 7... Train Loss: 0.026134... Val Loss: 0.152972... Accuracy: 0.937500\n",
      "Epoch: 6/8... Step: 8... Train Loss: 0.037047... Val Loss: 0.152868... Accuracy: 0.937500\n",
      "Epoch: 6/8... Step: 9... Train Loss: 0.335135... Val Loss: 0.151835... Accuracy: 0.943750\n",
      "Epoch: 6/8... Step: 10... Train Loss: 0.030983... Val Loss: 0.150133... Accuracy: 0.943750\n",
      "Epoch: 6/8... Step: 11... Train Loss: 0.025125... Val Loss: 0.148895... Accuracy: 0.943750\n",
      "Epoch: 6/8... Step: 12... Train Loss: 0.019692... Val Loss: 0.148131... Accuracy: 0.937500\n",
      "Epoch: 6/8... Step: 13... Train Loss: 0.067827... Val Loss: 0.146798... Accuracy: 0.943750\n",
      "Epoch: 6/8... Step: 14... Train Loss: 0.030055... Val Loss: 0.146580... Accuracy: 0.943750\n",
      "Epoch: 6/8... Step: 15... Train Loss: 0.014514... Val Loss: 0.148534... Accuracy: 0.943750\n",
      "Epoch: 6/8... Step: 16... Train Loss: 0.035910... Val Loss: 0.152038... Accuracy: 0.943750\n",
      "Epoch: 6/8... Step: 17... Train Loss: 0.015835... Val Loss: 0.156836... Accuracy: 0.943750\n",
      "Epoch: 6/8... Step: 18... Train Loss: 0.031730... Val Loss: 0.166495... Accuracy: 0.943750\n",
      "Epoch: 6/8... Step: 19... Train Loss: 0.552074... Val Loss: 0.181595... Accuracy: 0.937500\n",
      "Epoch: 6/8... Step: 20... Train Loss: 0.031582... Val Loss: 0.191619... Accuracy: 0.937500\n",
      "Epoch: 6/8... Step: 21... Train Loss: 0.016714... Val Loss: 0.199655... Accuracy: 0.937500\n",
      "Epoch: 6/8... Step: 22... Train Loss: 0.015823... Val Loss: 0.206403... Accuracy: 0.937500\n",
      "Epoch: 6/8... Step: 23... Train Loss: 0.025161... Val Loss: 0.212375... Accuracy: 0.937500\n",
      "Epoch: 6/8... Step: 24... Train Loss: 0.532099... Val Loss: 0.214988... Accuracy: 0.937500\n",
      "Epoch: 6/8... Step: 25... Train Loss: 0.038635... Val Loss: 0.214944... Accuracy: 0.937500\n",
      "Epoch: 6/8... Step: 26... Train Loss: 0.253727... Val Loss: 0.223596... Accuracy: 0.937500\n",
      "Epoch: 6/8... Step: 27... Train Loss: 0.101990... Val Loss: 0.223146... Accuracy: 0.937500\n",
      "Epoch: 6/8... Step: 28... Train Loss: 0.017976... Val Loss: 0.223091... Accuracy: 0.925000\n",
      "Epoch: 6/8... Step: 29... Train Loss: 0.018278... Val Loss: 0.223010... Accuracy: 0.925000\n",
      "Epoch: 6/8... Step: 30... Train Loss: 0.014046... Val Loss: 0.222693... Accuracy: 0.925000\n",
      "Epoch: 6/8... Step: 31... Train Loss: 0.017797... Val Loss: 0.222356... Accuracy: 0.918750\n",
      "Epoch: 6/8... Step: 32... Train Loss: 0.024659... Val Loss: 0.221765... Accuracy: 0.918750\n",
      "Epoch: 6/8... Step: 33... Train Loss: 0.036168... Val Loss: 0.214647... Accuracy: 0.931250\n",
      "Epoch: 6/8... Step: 34... Train Loss: 0.026495... Val Loss: 0.208777... Accuracy: 0.931250\n",
      "Epoch: 6/8... Step: 35... Train Loss: 0.027777... Val Loss: 0.201760... Accuracy: 0.937500\n",
      "Epoch: 6/8... Step: 36... Train Loss: 0.015058... Val Loss: 0.195252... Accuracy: 0.937500\n",
      "Epoch: 6/8... Step: 37... Train Loss: 0.501619... Val Loss: 0.186759... Accuracy: 0.937500\n",
      "Epoch: 6/8... Step: 38... Train Loss: 0.019306... Val Loss: 0.177549... Accuracy: 0.937500\n",
      "Epoch: 6/8... Step: 39... Train Loss: 0.024527... Val Loss: 0.170702... Accuracy: 0.937500\n",
      "Epoch: 6/8... Step: 40... Train Loss: 0.028042... Val Loss: 0.165538... Accuracy: 0.943750\n",
      "Epoch: 6/8... Step: 41... Train Loss: 0.022120... Val Loss: 0.161488... Accuracy: 0.937500\n",
      "Epoch: 6/8... Step: 42... Train Loss: 0.025253... Val Loss: 0.159405... Accuracy: 0.943750\n",
      "Epoch: 6/8... Step: 43... Train Loss: 0.017153... Val Loss: 0.157466... Accuracy: 0.943750\n",
      "Epoch: 6/8... Step: 44... Train Loss: 0.013842... Val Loss: 0.155377... Accuracy: 0.943750\n",
      "Epoch: 6/8... Step: 45... Train Loss: 0.024636... Val Loss: 0.153347... Accuracy: 0.937500\n",
      "Epoch: 6/8... Step: 46... Train Loss: 0.014000... Val Loss: 0.151769... Accuracy: 0.950000\n",
      "Epoch: 6/8... Step: 47... Train Loss: 0.013579... Val Loss: 0.151133... Accuracy: 0.950000\n",
      "Epoch: 6/8... Step: 48... Train Loss: 0.020657... Val Loss: 0.151257... Accuracy: 0.950000\n",
      "Epoch: 6/8... Step: 49... Train Loss: 0.015659... Val Loss: 0.151807... Accuracy: 0.950000\n"
     ]
    },
    {
     "name": "stdout",
     "output_type": "stream",
     "text": [
      "Epoch: 6/8... Step: 50... Train Loss: 0.014170... Val Loss: 0.152705... Accuracy: 0.956250\n",
      "Epoch: 6/8... Step: 51... Train Loss: 0.468789... Val Loss: 0.153392... Accuracy: 0.950000\n",
      "Epoch: 6/8... Step: 52... Train Loss: 0.105736... Val Loss: 0.168866... Accuracy: 0.943750\n",
      "Epoch: 6/8... Step: 53... Train Loss: 0.011348... Val Loss: 0.181390... Accuracy: 0.943750\n",
      "Epoch: 6/8... Step: 54... Train Loss: 0.041305... Val Loss: 0.183980... Accuracy: 0.943750\n",
      "Epoch: 6/8... Step: 55... Train Loss: 0.382723... Val Loss: 0.178682... Accuracy: 0.950000\n",
      "Epoch: 6/8... Step: 56... Train Loss: 0.295940... Val Loss: 0.174278... Accuracy: 0.943750\n",
      "Epoch: 6/8... Step: 57... Train Loss: 0.014629... Val Loss: 0.170362... Accuracy: 0.943750\n",
      "Epoch: 6/8... Step: 58... Train Loss: 0.015223... Val Loss: 0.167281... Accuracy: 0.937500\n",
      "Epoch: 6/8... Step: 59... Train Loss: 0.093021... Val Loss: 0.161310... Accuracy: 0.943750\n",
      "Epoch: 6/8... Step: 60... Train Loss: 0.019562... Val Loss: 0.150487... Accuracy: 0.937500\n",
      "Epoch: 6/8... Step: 61... Train Loss: 0.338823... Val Loss: 0.145825... Accuracy: 0.943750\n",
      "Epoch: 6/8... Step: 62... Train Loss: 0.018193... Val Loss: 0.146630... Accuracy: 0.943750\n",
      "Epoch: 6/8... Step: 63... Train Loss: 0.020902... Val Loss: 0.151117... Accuracy: 0.943750\n",
      "Epoch: 7/8... Step: 1... Train Loss: 0.012341... Val Loss: 0.158222... Accuracy: 0.937500\n",
      "Epoch: 7/8... Step: 2... Train Loss: 0.023174... Val Loss: 0.167369... Accuracy: 0.931250\n",
      "Epoch: 7/8... Step: 3... Train Loss: 0.065075... Val Loss: 0.171241... Accuracy: 0.931250\n",
      "Epoch: 7/8... Step: 4... Train Loss: 0.021966... Val Loss: 0.173932... Accuracy: 0.931250\n",
      "Epoch: 7/8... Step: 5... Train Loss: 0.030345... Val Loss: 0.175442... Accuracy: 0.925000\n",
      "Epoch: 7/8... Step: 6... Train Loss: 0.013972... Val Loss: 0.176626... Accuracy: 0.925000\n",
      "Epoch: 7/8... Step: 7... Train Loss: 0.033067... Val Loss: 0.177280... Accuracy: 0.925000\n",
      "Epoch: 7/8... Step: 8... Train Loss: 0.041622... Val Loss: 0.177168... Accuracy: 0.925000\n",
      "Epoch: 7/8... Step: 9... Train Loss: 0.021329... Val Loss: 0.176050... Accuracy: 0.925000\n",
      "Epoch: 7/8... Step: 10... Train Loss: 0.031662... Val Loss: 0.173769... Accuracy: 0.925000\n",
      "Epoch: 7/8... Step: 11... Train Loss: 0.015721... Val Loss: 0.171862... Accuracy: 0.925000\n",
      "Epoch: 7/8... Step: 12... Train Loss: 0.042909... Val Loss: 0.168901... Accuracy: 0.931250\n",
      "Epoch: 7/8... Step: 13... Train Loss: 0.024647... Val Loss: 0.167049... Accuracy: 0.931250\n",
      "Epoch: 7/8... Step: 14... Train Loss: 0.013240... Val Loss: 0.165461... Accuracy: 0.931250\n",
      "Epoch: 7/8... Step: 15... Train Loss: 0.030927... Val Loss: 0.163466... Accuracy: 0.937500\n",
      "Epoch: 7/8... Step: 16... Train Loss: 0.017193... Val Loss: 0.161426... Accuracy: 0.937500\n",
      "Epoch: 7/8... Step: 17... Train Loss: 0.840629... Val Loss: 0.159283... Accuracy: 0.937500\n",
      "Epoch: 7/8... Step: 18... Train Loss: 0.021435... Val Loss: 0.157306... Accuracy: 0.943750\n",
      "Epoch: 7/8... Step: 19... Train Loss: 0.802373... Val Loss: 0.153842... Accuracy: 0.950000\n",
      "Epoch: 7/8... Step: 20... Train Loss: 0.012282... Val Loss: 0.152338... Accuracy: 0.943750\n",
      "Epoch: 7/8... Step: 21... Train Loss: 0.039964... Val Loss: 0.152268... Accuracy: 0.943750\n",
      "Epoch: 7/8... Step: 22... Train Loss: 0.017757... Val Loss: 0.153992... Accuracy: 0.943750\n",
      "Epoch: 7/8... Step: 23... Train Loss: 0.036132... Val Loss: 0.156708... Accuracy: 0.943750\n",
      "Epoch: 7/8... Step: 24... Train Loss: 0.029588... Val Loss: 0.159857... Accuracy: 0.943750\n",
      "Epoch: 7/8... Step: 25... Train Loss: 0.020720... Val Loss: 0.163246... Accuracy: 0.943750\n",
      "Epoch: 7/8... Step: 26... Train Loss: 0.111718... Val Loss: 0.163020... Accuracy: 0.943750\n",
      "Epoch: 7/8... Step: 27... Train Loss: 0.078516... Val Loss: 0.162116... Accuracy: 0.943750\n",
      "Epoch: 7/8... Step: 28... Train Loss: 0.291849... Val Loss: 0.161762... Accuracy: 0.943750\n",
      "Epoch: 7/8... Step: 29... Train Loss: 0.025302... Val Loss: 0.161470... Accuracy: 0.943750\n",
      "Epoch: 7/8... Step: 30... Train Loss: 0.031127... Val Loss: 0.161758... Accuracy: 0.937500\n",
      "Epoch: 7/8... Step: 31... Train Loss: 0.026674... Val Loss: 0.163187... Accuracy: 0.943750\n",
      "Epoch: 7/8... Step: 32... Train Loss: 0.017439... Val Loss: 0.165584... Accuracy: 0.943750\n",
      "Epoch: 7/8... Step: 33... Train Loss: 0.037361... Val Loss: 0.168159... Accuracy: 0.943750\n",
      "Epoch: 7/8... Step: 34... Train Loss: 0.032935... Val Loss: 0.170034... Accuracy: 0.943750\n",
      "Epoch: 7/8... Step: 35... Train Loss: 0.446564... Val Loss: 0.171516... Accuracy: 0.937500\n",
      "Epoch: 7/8... Step: 36... Train Loss: 0.021735... Val Loss: 0.172961... Accuracy: 0.937500\n",
      "Epoch: 7/8... Step: 37... Train Loss: 0.030957... Val Loss: 0.174559... Accuracy: 0.931250\n",
      "Epoch: 7/8... Step: 38... Train Loss: 0.020290... Val Loss: 0.176269... Accuracy: 0.931250\n",
      "Epoch: 7/8... Step: 39... Train Loss: 0.021709... Val Loss: 0.177606... Accuracy: 0.931250\n",
      "Epoch: 7/8... Step: 40... Train Loss: 0.079109... Val Loss: 0.172141... Accuracy: 0.937500\n",
      "Epoch: 7/8... Step: 41... Train Loss: 0.035303... Val Loss: 0.166618... Accuracy: 0.943750\n",
      "Epoch: 7/8... Step: 42... Train Loss: 0.008257... Val Loss: 0.162673... Accuracy: 0.943750\n",
      "Epoch: 7/8... Step: 43... Train Loss: 0.010609... Val Loss: 0.160005... Accuracy: 0.943750\n",
      "Epoch: 7/8... Step: 44... Train Loss: 0.060484... Val Loss: 0.156955... Accuracy: 0.943750\n",
      "Epoch: 7/8... Step: 45... Train Loss: 0.017225... Val Loss: 0.158934... Accuracy: 0.943750\n",
      "Epoch: 7/8... Step: 46... Train Loss: 0.018572... Val Loss: 0.166045... Accuracy: 0.943750\n",
      "Epoch: 7/8... Step: 47... Train Loss: 0.015418... Val Loss: 0.170148... Accuracy: 0.950000\n",
      "Epoch: 7/8... Step: 48... Train Loss: 0.016682... Val Loss: 0.171582... Accuracy: 0.950000\n",
      "Epoch: 7/8... Step: 49... Train Loss: 0.017027... Val Loss: 0.172337... Accuracy: 0.950000\n",
      "Epoch: 7/8... Step: 50... Train Loss: 0.025400... Val Loss: 0.173324... Accuracy: 0.943750\n",
      "Epoch: 7/8... Step: 51... Train Loss: 0.015488... Val Loss: 0.174719... Accuracy: 0.950000\n",
      "Epoch: 7/8... Step: 52... Train Loss: 0.015040... Val Loss: 0.176363... Accuracy: 0.943750\n",
      "Epoch: 7/8... Step: 53... Train Loss: 0.012209... Val Loss: 0.178146... Accuracy: 0.950000\n",
      "Epoch: 7/8... Step: 54... Train Loss: 0.163699... Val Loss: 0.177333... Accuracy: 0.937500\n",
      "Epoch: 7/8... Step: 55... Train Loss: 0.009701... Val Loss: 0.178221... Accuracy: 0.943750\n",
      "Epoch: 7/8... Step: 56... Train Loss: 0.008033... Val Loss: 0.179105... Accuracy: 0.943750\n",
      "Epoch: 7/8... Step: 57... Train Loss: 0.013087... Val Loss: 0.178062... Accuracy: 0.943750\n",
      "Epoch: 7/8... Step: 58... Train Loss: 0.013276... Val Loss: 0.173273... Accuracy: 0.943750\n",
      "Epoch: 7/8... Step: 59... Train Loss: 0.010196... Val Loss: 0.169337... Accuracy: 0.937500\n",
      "Epoch: 7/8... Step: 60... Train Loss: 0.009462... Val Loss: 0.167854... Accuracy: 0.937500\n",
      "Epoch: 7/8... Step: 61... Train Loss: 0.007703... Val Loss: 0.167124... Accuracy: 0.950000\n",
      "Epoch: 7/8... Step: 62... Train Loss: 0.007149... Val Loss: 0.166710... Accuracy: 0.943750\n",
      "Epoch: 7/8... Step: 63... Train Loss: 0.012133... Val Loss: 0.167017... Accuracy: 0.943750\n",
      "Epoch: 8/8... Step: 1... Train Loss: 0.006099... Val Loss: 0.168737... Accuracy: 0.943750\n",
      "Epoch: 8/8... Step: 2... Train Loss: 0.007212... Val Loss: 0.171509... Accuracy: 0.943750\n",
      "Epoch: 8/8... Step: 3... Train Loss: 0.011177... Val Loss: 0.174626... Accuracy: 0.943750\n",
      "Epoch: 8/8... Step: 4... Train Loss: 0.127752... Val Loss: 0.172361... Accuracy: 0.943750\n",
      "Epoch: 8/8... Step: 5... Train Loss: 0.007557... Val Loss: 0.171513... Accuracy: 0.943750\n",
      "Epoch: 8/8... Step: 6... Train Loss: 0.016114... Val Loss: 0.171785... Accuracy: 0.943750\n",
      "Epoch: 8/8... Step: 7... Train Loss: 0.009527... Val Loss: 0.172184... Accuracy: 0.943750\n",
      "Epoch: 8/8... Step: 8... Train Loss: 0.010698... Val Loss: 0.172243... Accuracy: 0.937500\n",
      "Epoch: 8/8... Step: 9... Train Loss: 0.007718... Val Loss: 0.171992... Accuracy: 0.937500\n",
      "Epoch: 8/8... Step: 10... Train Loss: 0.009260... Val Loss: 0.171635... Accuracy: 0.937500\n",
      "Epoch: 8/8... Step: 11... Train Loss: 0.014256... Val Loss: 0.171304... Accuracy: 0.943750\n",
      "Epoch: 8/8... Step: 12... Train Loss: 0.009378... Val Loss: 0.171065... Accuracy: 0.943750\n",
      "Epoch: 8/8... Step: 13... Train Loss: 0.401293... Val Loss: 0.173552... Accuracy: 0.937500\n",
      "Epoch: 8/8... Step: 14... Train Loss: 0.019945... Val Loss: 0.175987... Accuracy: 0.943750\n"
     ]
    },
    {
     "name": "stdout",
     "output_type": "stream",
     "text": [
      "Epoch: 8/8... Step: 15... Train Loss: 0.013256... Val Loss: 0.178264... Accuracy: 0.943750\n",
      "Epoch: 8/8... Step: 16... Train Loss: 0.432627... Val Loss: 0.178873... Accuracy: 0.943750\n",
      "Epoch: 8/8... Step: 17... Train Loss: 0.010711... Val Loss: 0.179592... Accuracy: 0.943750\n",
      "Epoch: 8/8... Step: 18... Train Loss: 0.014402... Val Loss: 0.180412... Accuracy: 0.943750\n",
      "Epoch: 8/8... Step: 19... Train Loss: 0.008136... Val Loss: 0.181290... Accuracy: 0.943750\n",
      "Epoch: 8/8... Step: 20... Train Loss: 0.008525... Val Loss: 0.182165... Accuracy: 0.931250\n",
      "Epoch: 8/8... Step: 21... Train Loss: 0.009659... Val Loss: 0.183062... Accuracy: 0.931250\n",
      "Epoch: 8/8... Step: 22... Train Loss: 0.013349... Val Loss: 0.183985... Accuracy: 0.931250\n",
      "Epoch: 8/8... Step: 23... Train Loss: 0.010785... Val Loss: 0.184833... Accuracy: 0.931250\n",
      "Epoch: 8/8... Step: 24... Train Loss: 0.025835... Val Loss: 0.185147... Accuracy: 0.931250\n",
      "Epoch: 8/8... Step: 25... Train Loss: 0.016775... Val Loss: 0.185644... Accuracy: 0.931250\n",
      "Epoch: 8/8... Step: 26... Train Loss: 0.015525... Val Loss: 0.186219... Accuracy: 0.937500\n",
      "Epoch: 8/8... Step: 27... Train Loss: 0.376287... Val Loss: 0.185492... Accuracy: 0.937500\n",
      "Epoch: 8/8... Step: 28... Train Loss: 0.012421... Val Loss: 0.184680... Accuracy: 0.937500\n",
      "Epoch: 8/8... Step: 29... Train Loss: 0.019269... Val Loss: 0.184129... Accuracy: 0.937500\n",
      "Epoch: 8/8... Step: 30... Train Loss: 0.009177... Val Loss: 0.183660... Accuracy: 0.937500\n",
      "Epoch: 8/8... Step: 31... Train Loss: 0.015274... Val Loss: 0.182956... Accuracy: 0.937500\n",
      "Epoch: 8/8... Step: 32... Train Loss: 0.009203... Val Loss: 0.182460... Accuracy: 0.937500\n",
      "Epoch: 8/8... Step: 33... Train Loss: 0.010840... Val Loss: 0.182039... Accuracy: 0.931250\n",
      "Epoch: 8/8... Step: 34... Train Loss: 0.013345... Val Loss: 0.181869... Accuracy: 0.931250\n",
      "Epoch: 8/8... Step: 35... Train Loss: 0.008352... Val Loss: 0.181824... Accuracy: 0.931250\n",
      "Epoch: 8/8... Step: 36... Train Loss: 0.008429... Val Loss: 0.181949... Accuracy: 0.931250\n",
      "Epoch: 8/8... Step: 37... Train Loss: 0.464828... Val Loss: 0.181585... Accuracy: 0.931250\n",
      "Epoch: 8/8... Step: 38... Train Loss: 0.013558... Val Loss: 0.181460... Accuracy: 0.931250\n",
      "Epoch: 8/8... Step: 39... Train Loss: 0.017811... Val Loss: 0.181798... Accuracy: 0.931250\n",
      "Epoch: 8/8... Step: 40... Train Loss: 0.018178... Val Loss: 0.182282... Accuracy: 0.931250\n",
      "Epoch: 8/8... Step: 41... Train Loss: 0.014305... Val Loss: 0.182876... Accuracy: 0.937500\n",
      "Epoch: 8/8... Step: 42... Train Loss: 0.013059... Val Loss: 0.183619... Accuracy: 0.937500\n",
      "Epoch: 8/8... Step: 43... Train Loss: 0.017582... Val Loss: 0.184630... Accuracy: 0.937500\n",
      "Epoch: 8/8... Step: 44... Train Loss: 0.012606... Val Loss: 0.185700... Accuracy: 0.937500\n",
      "Epoch: 8/8... Step: 45... Train Loss: 0.010616... Val Loss: 0.186835... Accuracy: 0.943750\n",
      "Epoch: 8/8... Step: 46... Train Loss: 0.016776... Val Loss: 0.188142... Accuracy: 0.937500\n",
      "Epoch: 8/8... Step: 47... Train Loss: 0.012828... Val Loss: 0.189521... Accuracy: 0.937500\n",
      "Epoch: 8/8... Step: 48... Train Loss: 0.009180... Val Loss: 0.190890... Accuracy: 0.937500\n",
      "Epoch: 8/8... Step: 49... Train Loss: 0.013450... Val Loss: 0.192453... Accuracy: 0.937500\n",
      "Epoch: 8/8... Step: 50... Train Loss: 0.011786... Val Loss: 0.194056... Accuracy: 0.937500\n",
      "Epoch: 8/8... Step: 51... Train Loss: 0.009323... Val Loss: 0.195742... Accuracy: 0.937500\n",
      "Epoch: 8/8... Step: 52... Train Loss: 0.007835... Val Loss: 0.197374... Accuracy: 0.937500\n",
      "Epoch: 8/8... Step: 53... Train Loss: 0.006517... Val Loss: 0.198962... Accuracy: 0.937500\n",
      "Epoch: 8/8... Step: 54... Train Loss: 0.006474... Val Loss: 0.200509... Accuracy: 0.937500\n",
      "Epoch: 8/8... Step: 55... Train Loss: 0.010530... Val Loss: 0.202175... Accuracy: 0.937500\n",
      "Epoch: 8/8... Step: 56... Train Loss: 0.008952... Val Loss: 0.203960... Accuracy: 0.937500\n",
      "Epoch: 8/8... Step: 57... Train Loss: 0.006751... Val Loss: 0.205786... Accuracy: 0.931250\n",
      "Epoch: 8/8... Step: 58... Train Loss: 0.007866... Val Loss: 0.207698... Accuracy: 0.925000\n",
      "Epoch: 8/8... Step: 59... Train Loss: 0.010364... Val Loss: 0.209930... Accuracy: 0.925000\n",
      "Epoch: 8/8... Step: 60... Train Loss: 0.005423... Val Loss: 0.212279... Accuracy: 0.925000\n",
      "Epoch: 8/8... Step: 61... Train Loss: 0.008817... Val Loss: 0.214723... Accuracy: 0.925000\n",
      "Epoch: 8/8... Step: 62... Train Loss: 0.006860... Val Loss: 0.217191... Accuracy: 0.931250\n",
      "Epoch: 8/8... Step: 63... Train Loss: 0.458918... Val Loss: 0.218330... Accuracy: 0.931250\n"
     ]
    }
   ],
   "source": [
    "epochs = 8 \n",
    "\n",
    "\n",
    "print_every = 1\n",
    "clip=5 \n",
    "early_stop = False\n",
    "\n",
    "epochs_all = []\n",
    "train_loss_all = []\n",
    "val_loss_all = []\n",
    "accuracy_all = []\n",
    "\n",
    "net.train()\n",
    "\n",
    "for e in range(epochs):\n",
    "    h = net.init_hidden(batch_size)\n",
    "    counter = 0\n",
    "    \n",
    "    for inputs, labels in train_loader:\n",
    "        counter += 1\n",
    "        if inputs.size(0) != batch_size:\n",
    "            break \n",
    "\n",
    "        h = tuple([each.data for each in h])\n",
    "\n",
    "        net.zero_grad()\n",
    "\n",
    "        output, h = net(inputs, h)\n",
    "\n",
    "        loss = criterion(output.squeeze(), labels.float())\n",
    "        \n",
    "        loss.backward()\n",
    "        nn.utils.clip_grad_norm_(net.parameters(), clip)\n",
    "        optimizer.step()\n",
    "        \n",
    "        #Cálculo de métricas\n",
    "        if counter % print_every == 0:\n",
    "            val_h = net.init_hidden(len(y_val))\n",
    "            val_losses = []\n",
    "            accuracy = []\n",
    "            net.eval()\n",
    "            for inputs, labels in valid_loader:\n",
    "\n",
    "                val_h = tuple([each.data for each in val_h])\n",
    "\n",
    "                output, val_h = net(inputs, val_h)\n",
    "                val_loss = criterion(output.squeeze(), labels.float())\n",
    "\n",
    "                val_losses.append(val_loss.item())\n",
    "                \n",
    "                equals = torch.round(output.squeeze()) == labels.view(*output.shape)\n",
    "                accuracy.append(torch.mean(equals.type(torch.FloatTensor)).item())\n",
    "                \n",
    "\n",
    "            net.train()\n",
    "            print(\"Epoch: {}/{}...\".format(e+1, epochs),\n",
    "                  \"Step: {}...\".format(counter),\n",
    "                  \"Train Loss: {:.6f}...\".format(loss.item()),\n",
    "                  \"Val Loss: {:.6f}...\".format(np.mean(val_losses)),\"Accuracy: {:.6f}\".format(sum(accuracy)/len(accuracy)))\n",
    "\n",
    "            epochs_all.append(str(e)+\"_\"+str(counter))\n",
    "            train_loss_all.append(loss.item())\n",
    "            val_loss_all.append(val_loss.item())\n",
    "            accuracy_all.append(torch.mean(equals.type(torch.FloatTensor)).item())\n",
    "                \n",
    "        early_stop = sum(accuracy)/len(accuracy) >= 0.95\n",
    "        if early_stop:\n",
    "            torch.save(net.state_dict(),\"lstm_v4_\"+str(e)+\"_\"+str(counter)+\".pth\")\n",
    "            early_stop = False"
   ]
  },
  {
   "cell_type": "code",
   "execution_count": 29,
   "metadata": {},
   "outputs": [
    {
     "data": {
      "text/plain": [
       "<All keys matched successfully>"
      ]
     },
     "execution_count": 29,
     "metadata": {},
     "output_type": "execute_result"
    }
   ],
   "source": [
    "# Se cargan los parámetros internos del modelo a ser presentado como Prototipo, generado a parir del entrenamiento previo\n",
    "# El los parámetros internos fueron seleccionados por las métricas obtenidas con ellos, presentadas en la siguiente sección\n",
    "\n",
    "net.load_state_dict(torch.load('lstm_v4.pth'))"
   ]
  },
  {
   "cell_type": "markdown",
   "metadata": {},
   "source": [
    "## Métricas del modelo\n",
    "\n",
    "A continuación, se procede a utilizar el set de test para obtener las principales métricas del modelo. Éstas incluyen:\n",
    "* **Accuracy**: ratio entre elementos correctamente clasificados y el total de elementos. Un Accuracy de 0 indica ningún acierto, mientras que un valor de 1 indca que todos los elementos fueron correctamente clasificados.\n",
    "* **F1 Score**: media harmónica entre Precision (ratio entre elementos clasificados correctamente positivos y total de elementos clasificados positivos) y Recall (ratio entre elementos clasificados correctamente positivos y el total de elementos verdaderamente positivos). Toma valores entre 0 (indicando que al menos una métrica entre Precision y Recall tiene un valor de 0) y 1 (que indica perfectos Precision y Recall).\n",
    "* **AUC**: Área bajo la curva ROC. La curva es una representación del ratio de verdaderos positivos frente al ratio de falsos positivos, según se varía el umbral de discriminación. Toma valores entre 0 y 1, donde un mayor valor indica una mejor capacidad del modelo para identificar cada clase."
   ]
  },
  {
   "cell_type": "code",
   "execution_count": 30,
   "metadata": {
    "scrolled": true
   },
   "outputs": [
    {
     "name": "stdout",
     "output_type": "stream",
     "text": [
      "tensor([1., 1., 1., 1., 1., 1., 1., 1., 1., 0., 1., 1., 1., 1., 1., 1., 0., 1.,\n",
      "        1., 0., 1., 0., 1., 0., 0., 0., 1., 1., 0., 1., 0., 1., 1., 0., 1., 1.,\n",
      "        0., 0., 1., 1., 1., 1., 1., 1., 1., 1., 0., 0., 0., 1., 1., 1., 1., 1.,\n",
      "        0., 1., 1., 0., 1., 0., 1., 1., 0., 0., 0., 1., 0., 0., 1., 1., 1., 1.,\n",
      "        0., 1., 1., 0., 0., 0., 1., 0., 0., 1., 0., 0., 1., 1., 1., 0., 0., 1.,\n",
      "        0., 1., 0., 0., 1., 1., 1., 0., 0., 1., 1., 1., 0., 1., 1., 0., 1., 0.,\n",
      "        1., 1., 1., 0., 0., 1., 0., 1., 1., 0., 0., 1., 1., 1., 1., 1., 1., 0.,\n",
      "        1., 1., 1., 1., 1., 0., 1., 0., 0., 0., 1., 0., 1., 1., 1., 1., 1., 0.,\n",
      "        1., 0., 1., 1., 1., 0., 0., 1., 0., 1., 0., 1., 1., 1., 0., 1., 1., 0.,\n",
      "        0., 1., 0., 0., 1., 1., 1., 1., 1., 1., 0., 1., 1., 1., 1., 0., 1., 0.,\n",
      "        1., 1., 1., 1., 1., 1., 1., 0., 1., 0., 1., 1., 1., 1., 0., 0., 0., 1.,\n",
      "        1., 1.], grad_fn=<RoundBackward>)\n"
     ]
    }
   ],
   "source": [
    "# Se obtiene la predicción del modelo\n",
    "h = net.init_hidden(len(y_test))\n",
    "\n",
    "net.eval()\n",
    "\n",
    "output, h = net(torch.from_numpy(X_test), h)\n",
    "    \n",
    "# convierte la probabilidad de pertenecer a una clase, en una predicción\n",
    "pred = torch.round(output.squeeze())\n",
    "\n",
    "print(pred)"
   ]
  },
  {
   "cell_type": "code",
   "execution_count": 38,
   "metadata": {},
   "outputs": [
    {
     "name": "stdout",
     "output_type": "stream",
     "text": [
      "Accuracy: 0.950\n",
      "F1 Score: 0.928\n"
     ]
    }
   ],
   "source": [
    "# Cálculo de Accuracy y F1 Score\n",
    "\n",
    "from sklearn.metrics import confusion_matrix\n",
    "\n",
    "cm = confusion_matrix(y_test, pred.detach().numpy())\n",
    "\n",
    "true_positive = cm[0][0]\n",
    "false_positive = cm[0][1]\n",
    "false_negative = cm[1][0]\n",
    "true_negative = cm [1][1]\n",
    "\n",
    "accuracy = (true_positive + true_negative)/(true_positive + false_positive + false_negative + true_negative)\n",
    "F1 = 2*true_positive/(2*true_positive + false_positive + false_negative)\n",
    "\n",
    "print(\"Accuracy: {:.2f}\".format(accuracy))\n",
    "print(\"F1 Score: {:.2f}\".format(F1))"
   ]
  },
  {
   "cell_type": "code",
   "execution_count": 39,
   "metadata": {},
   "outputs": [
    {
     "data": {
      "text/plain": [
       "<sklearn.metrics._plot.roc_curve.RocCurveDisplay at 0x22f95cecfa0>"
      ]
     },
     "execution_count": 39,
     "metadata": {},
     "output_type": "execute_result"
    },
    {
     "data": {
      "image/png": "[encoded data removed]",
      "text/plain": [
       "<Figure size 432x288 with 1 Axes>"
      ]
     },
     "metadata": {
      "needs_background": "light"
     },
     "output_type": "display_data"
    }
   ],
   "source": [
    "# Obtención de curva ROC y su respectivo AUC\n",
    "\n",
    "from sklearn import metrics\n",
    "from sklearn.metrics import roc_auc_score\n",
    "\n",
    "y_prob = output.squeeze().detach().numpy()\n",
    "auc = roc_auc_score(y_test,y_prob)\n",
    "curve = metrics.roc_curve(y_test,y_prob)\n",
    "\n",
    "\n",
    "display = metrics.RocCurveDisplay(fpr=curve[0], tpr=curve[1], roc_auc=auc)\n",
    "display.plot()  "
   ]
  },
  {
   "cell_type": "markdown",
   "metadata": {},
   "source": [
    "## Conclusiones\n",
    "\n",
    "A modo de resumen, la metodología de entrenamiento del modelo corresponde a:\n",
    "1. Importación de datos\n",
    "2. Preprocesamiento de datos\n",
    "3. Creación del vocabulario de entrenamiento\n",
    "4. Estandarización de largo de reclamos\n",
    "5. Creación de sets de entrenamiento, validación y test\n",
    "6. Creación de batch de entrenamiento\n",
    "7. Intanciamiento de arquitecura del modelo y sus hiperparámetros\n",
    "8. Entrenamiento del modelo\n",
    "9. Obtención de métricas\n",
    "\n",
    "El modelo obtenido a partir de este proceso de entrenamiento obtuvo las siguientes métricas en el set de test:\n",
    "* Accuracy de 95%\n",
    "* F1 Score de 93%\n",
    "* AUC de 98%\n",
    "\n",
    "A partir de dichos valores, se puede obtener una aproximación de la performance del modelo en un set de datos fuera de los 1000 reclamos provistos con etiqueta. Sin embargo, dado que el modelo fue entrenado con este pequeño número de ejemplos, las métricas obtenidas son sólo una referencia. A medida que el modelo sea entrenado con un mayor volumen de datos, se puede obtener una mayor certeza de que las métricas de entrenamiento representen correctamente su performance con nuevos reclamos."
   ]
  },
  {
   "cell_type": "code",
   "execution_count": null,
   "metadata": {},
   "outputs": [],
   "source": []
  }
 ],
 "metadata": {
  "kernelspec": {
   "display_name": "Python 3",
   "language": "python",
   "name": "python3"
  },
  "language_info": {
   "codemirror_mode": {
    "name": "ipython",
    "version": 3
   },
   "file_extension": ".py",
   "mimetype": "text/x-python",
   "name": "python",
   "nbconvert_exporter": "python",
   "pygments_lexer": "ipython3",
   "version": "3.7.10"
  }
 },
 "nbformat": 4,
 "nbformat_minor": 2
}
